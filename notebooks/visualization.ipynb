{
 "cells": [
  {
   "cell_type": "code",
   "execution_count": 1,
   "metadata": {},
   "outputs": [
    {
     "name": "stdout",
     "output_type": "stream",
     "text": [
      "/home/msi/projects/diplomka\n"
     ]
    }
   ],
   "source": [
    "cd .."
   ]
  },
  {
   "cell_type": "code",
   "execution_count": 2,
   "metadata": {},
   "outputs": [],
   "source": [
    "import folium\n",
    "import glob\n",
    "import json\n",
    "from collections import defaultdict\n",
    "import numpy as np\n",
    "import matplotlib.pyplot as plt\n",
    "import matplotlib.colors as colors"
   ]
  },
  {
   "cell_type": "code",
   "execution_count": 3,
   "metadata": {},
   "outputs": [],
   "source": [
    "files = glob.glob(\"data/out/geo_data/*.json\")"
   ]
  },
  {
   "cell_type": "code",
   "execution_count": 4,
   "metadata": {},
   "outputs": [
    {
     "data": {
      "text/plain": [
       "['data/out/geo_data/BNL_ATLAS-CSCS_LCG2-2620:0:210:1::26-2001:620:808:4129::15.json',\n",
       " 'data/out/geo_data/SARA_MATRIX-CSCS_LCG2-2001:610:108:203a::31-2001:620:808:4129::15.json',\n",
       " 'data/out/geo_data/FZK_LCCG2-INFN_T1-2a00:139c:5:585:0:41:2:6-2001:760:4205:254::11.json',\n",
       " 'data/out/geo_data/BNL_ATLAS-CSCS_LCG2-192.12.15.23-148.187.129.15.json',\n",
       " 'data/out/geo_data/AGLT2-CSCS_LCG2-2001:48a8:68f7:8001:192:41:236:31-2001:620:808:4129::15.json',\n",
       " 'data/out/geo_data/CA_SFU_T2-CSCS_LCG2-206.12.127.40-148.187.129.15.json',\n",
       " 'data/out/geo_data/FZK_LCCG2-INFN_T1-192.108.47.6-131.154.254.12.json',\n",
       " 'data/out/geo_data/GLOW-CSCS_LCG2-2607:f388:101c:1000::442-2001:620:808:4129::15.json',\n",
       " 'data/out/geo_data/FZK_LCCG2-INFN_T1-192.108.47.6-131.154.254.11.json',\n",
       " 'data/out/geo_data/Nebraska-CSCS_LCG2-2600:900:6:1101:63f:72ff:feea:cb74-2001:620:808:4129::15.json',\n",
       " 'data/out/geo_data/FZK_LCCG2-INFN_T1-2a00:139c:5:585:0:41:2:12-2001:760:4205:254::12.json',\n",
       " 'data/out/geo_data/AGLT2-CSCS_LCG2-192.41.236.31-148.187.129.15.json',\n",
       " 'data/out/geo_data/INFN_T1-CSCS_LCG2-131.154.254.11-148.187.129.15.json',\n",
       " 'data/out/geo_data/FZK_LCCG2-INFN_T1-2a00:139c:5:585:0:41:2:12-2001:760:4205:254::11.json',\n",
       " 'data/out/geo_data/CA_SFU_T2-CSCS_LCG2-206.12.127.30-148.187.129.15.json',\n",
       " 'data/out/geo_data/NDGF_T1-CSCS_LCG2-109.105.124.88-148.187.129.15.json',\n",
       " 'data/out/geo_data/NDGF_T1-CSCS_LCG2-2001:948:40:3::88-2001:620:808:4129::15.json',\n",
       " 'data/out/geo_data/AGLT2-CSCS_LCG2-2001:48a8:68f7:8001:192:41:236:32-2001:620:808:4129::15.json',\n",
       " 'data/out/geo_data/NDGF_T1-CSCS_LCG2-2001:948:40:3::86-2001:620:808:4129::15.json',\n",
       " 'data/out/geo_data/INFN_T1-CSCS_LCG2-2001:760:4205:254::11-2001:620:808:4129::15.json',\n",
       " 'data/out/geo_data/FZK_LCCG2-INFN_T1-192.108.47.12-131.154.254.11.json',\n",
       " 'data/out/geo_data/GLOW-CSCS_LCG2-2607:f388:101c:1000::441-2001:620:808:4129::15.json',\n",
       " 'data/out/geo_data/INFN_T1-CSCS_LCG2-131.154.254.12-148.187.129.15.json',\n",
       " 'data/out/geo_data/GLOW-CSCS_LCG2-144.92.180.75-148.187.129.15.json',\n",
       " 'data/out/geo_data/AGLT2-CSCS_LCG2-192.41.236.32-148.187.129.15.json',\n",
       " 'data/out/geo_data/FZK_LCCG2-INFN_T1-2a00:139c:5:585:0:41:2:6-2001:760:4205:254::12.json',\n",
       " 'data/out/geo_data/Nebraska-CSCS_LCG2-129.93.239.170-148.187.129.15.json',\n",
       " 'data/out/geo_data/Nebraska-CSCS_LCG2-2600:900:6:1102:2eea:7fff:fef5:d140-2001:620:808:4129::15.json',\n",
       " 'data/out/geo_data/BNL_ATLAS-CSCS_LCG2-192.12.15.26-148.187.129.15.json',\n",
       " 'data/out/geo_data/SARA_MATRIX-CSCS_LCG2-145.100.32.32-148.187.129.15.json',\n",
       " 'data/out/geo_data/GLOW-CSCS_LCG2-144.92.180.76-148.187.129.15.json',\n",
       " 'data/out/geo_data/FZK_LCCG2-INFN_T1-192.108.47.12-131.154.254.12.json',\n",
       " 'data/out/geo_data/NDGF_T1-CSCS_LCG2-109.105.124.86-148.187.129.15.json',\n",
       " 'data/out/geo_data/SARA_MATRIX-CSCS_LCG2-145.100.32.31-148.187.129.15.json',\n",
       " 'data/out/geo_data/INFN_T1-CSCS_LCG2-2001:760:4205:254::12-2001:620:808:4129::15.json',\n",
       " 'data/out/geo_data/Nebraska-CSCS_LCG2-129.93.183.252-148.187.129.15.json',\n",
       " 'data/out/geo_data/BNL_ATLAS-CSCS_LCG2-2620:0:210:1::23-2001:620:808:4129::15.json']"
      ]
     },
     "execution_count": 4,
     "metadata": {},
     "output_type": "execute_result"
    }
   ],
   "source": [
    "files"
   ]
  },
  {
   "cell_type": "code",
   "execution_count": 5,
   "metadata": {},
   "outputs": [],
   "source": [
    "all_nodes  = set()"
   ]
  },
  {
   "cell_type": "code",
   "execution_count": 6,
   "metadata": {},
   "outputs": [],
   "source": [
    "src_dest = set()"
   ]
  },
  {
   "cell_type": "code",
   "execution_count": 7,
   "metadata": {},
   "outputs": [],
   "source": [
    "multi_site_nodes = defaultdict(list)"
   ]
  },
  {
   "cell_type": "code",
   "execution_count": 8,
   "metadata": {},
   "outputs": [],
   "source": [
    "node_pos = {}"
   ]
  },
  {
   "cell_type": "code",
   "execution_count": 9,
   "metadata": {},
   "outputs": [],
   "source": [
    "edges = defaultdict(list)"
   ]
  },
  {
   "cell_type": "code",
   "execution_count": 10,
   "metadata": {},
   "outputs": [
    {
     "name": "stdout",
     "output_type": "stream",
     "text": [
      "data/out/geo_data/BNL_ATLAS-CSCS_LCG2-2620:0:210:1::26-2001:620:808:4129::15.json\n",
      "data/out/geo_data/SARA_MATRIX-CSCS_LCG2-2001:610:108:203a::31-2001:620:808:4129::15.json\n",
      "data/out/geo_data/FZK_LCCG2-INFN_T1-2a00:139c:5:585:0:41:2:6-2001:760:4205:254::11.json\n",
      "data/out/geo_data/BNL_ATLAS-CSCS_LCG2-192.12.15.23-148.187.129.15.json\n",
      "data/out/geo_data/AGLT2-CSCS_LCG2-2001:48a8:68f7:8001:192:41:236:31-2001:620:808:4129::15.json\n",
      "data/out/geo_data/CA_SFU_T2-CSCS_LCG2-206.12.127.40-148.187.129.15.json\n",
      "data/out/geo_data/FZK_LCCG2-INFN_T1-192.108.47.6-131.154.254.12.json\n",
      "data/out/geo_data/GLOW-CSCS_LCG2-2607:f388:101c:1000::442-2001:620:808:4129::15.json\n",
      "data/out/geo_data/FZK_LCCG2-INFN_T1-192.108.47.6-131.154.254.11.json\n",
      "data/out/geo_data/Nebraska-CSCS_LCG2-2600:900:6:1101:63f:72ff:feea:cb74-2001:620:808:4129::15.json\n",
      "data/out/geo_data/FZK_LCCG2-INFN_T1-2a00:139c:5:585:0:41:2:12-2001:760:4205:254::12.json\n",
      "data/out/geo_data/AGLT2-CSCS_LCG2-192.41.236.31-148.187.129.15.json\n",
      "data/out/geo_data/INFN_T1-CSCS_LCG2-131.154.254.11-148.187.129.15.json\n",
      "data/out/geo_data/FZK_LCCG2-INFN_T1-2a00:139c:5:585:0:41:2:12-2001:760:4205:254::11.json\n",
      "data/out/geo_data/CA_SFU_T2-CSCS_LCG2-206.12.127.30-148.187.129.15.json\n",
      "data/out/geo_data/NDGF_T1-CSCS_LCG2-109.105.124.88-148.187.129.15.json\n",
      "data/out/geo_data/NDGF_T1-CSCS_LCG2-2001:948:40:3::88-2001:620:808:4129::15.json\n",
      "data/out/geo_data/AGLT2-CSCS_LCG2-2001:48a8:68f7:8001:192:41:236:32-2001:620:808:4129::15.json\n",
      "data/out/geo_data/NDGF_T1-CSCS_LCG2-2001:948:40:3::86-2001:620:808:4129::15.json\n",
      "data/out/geo_data/INFN_T1-CSCS_LCG2-2001:760:4205:254::11-2001:620:808:4129::15.json\n",
      "data/out/geo_data/FZK_LCCG2-INFN_T1-192.108.47.12-131.154.254.11.json\n",
      "data/out/geo_data/GLOW-CSCS_LCG2-2607:f388:101c:1000::441-2001:620:808:4129::15.json\n",
      "data/out/geo_data/INFN_T1-CSCS_LCG2-131.154.254.12-148.187.129.15.json\n",
      "data/out/geo_data/GLOW-CSCS_LCG2-144.92.180.75-148.187.129.15.json\n",
      "data/out/geo_data/AGLT2-CSCS_LCG2-192.41.236.32-148.187.129.15.json\n",
      "data/out/geo_data/FZK_LCCG2-INFN_T1-2a00:139c:5:585:0:41:2:6-2001:760:4205:254::12.json\n",
      "data/out/geo_data/Nebraska-CSCS_LCG2-129.93.239.170-148.187.129.15.json\n",
      "data/out/geo_data/Nebraska-CSCS_LCG2-2600:900:6:1102:2eea:7fff:fef5:d140-2001:620:808:4129::15.json\n",
      "data/out/geo_data/BNL_ATLAS-CSCS_LCG2-192.12.15.26-148.187.129.15.json\n",
      "data/out/geo_data/SARA_MATRIX-CSCS_LCG2-145.100.32.32-148.187.129.15.json\n",
      "data/out/geo_data/GLOW-CSCS_LCG2-144.92.180.76-148.187.129.15.json\n",
      "data/out/geo_data/FZK_LCCG2-INFN_T1-192.108.47.12-131.154.254.12.json\n",
      "data/out/geo_data/NDGF_T1-CSCS_LCG2-109.105.124.86-148.187.129.15.json\n",
      "data/out/geo_data/SARA_MATRIX-CSCS_LCG2-145.100.32.31-148.187.129.15.json\n",
      "data/out/geo_data/INFN_T1-CSCS_LCG2-2001:760:4205:254::12-2001:620:808:4129::15.json\n",
      "data/out/geo_data/Nebraska-CSCS_LCG2-129.93.183.252-148.187.129.15.json\n",
      "data/out/geo_data/BNL_ATLAS-CSCS_LCG2-2620:0:210:1::23-2001:620:808:4129::15.json\n"
     ]
    }
   ],
   "source": [
    "for file in files:\n",
    "    with open(file, \"r\") as f:\n",
    "        data = json.load(f)\n",
    "    print(file)\n",
    "    dataset = tuple(file.split('/')[-1].split('-')[:2])\n",
    "    src_dest.add(data['src'])\n",
    "    src_dest.add(data['dest'])\n",
    "    for node, ip in data['node_mapping'].items():\n",
    "        if ip in all_nodes:\n",
    "            multi_site_nodes[ip].append(data['node_pos'][node])\n",
    "        else:\n",
    "            all_nodes.add(ip)\n",
    "            node_pos[ip] = data['node_pos'][node]\n",
    "    \n",
    "    edges[dataset] += data['edges']"
   ]
  },
  {
   "cell_type": "code",
   "execution_count": 11,
   "metadata": {},
   "outputs": [],
   "source": [
    "for node in multi_site_nodes.keys():\n",
    "    node_pos[node] = np.array(multi_site_nodes[node]).mean(axis=0).tolist()"
   ]
  },
  {
   "cell_type": "code",
   "execution_count": 12,
   "metadata": {},
   "outputs": [],
   "source": [
    "import matplotlib"
   ]
  },
  {
   "cell_type": "code",
   "execution_count": 13,
   "metadata": {},
   "outputs": [],
   "source": [
    "colors = matplotlib.colors.TABLEAU_COLORS"
   ]
  },
  {
   "cell_type": "code",
   "execution_count": 14,
   "metadata": {},
   "outputs": [],
   "source": [
    "final_nodes = set(all_nodes)\n",
    "final_nodes ^= set(multi_site_nodes.keys())\n",
    "final_nodes ^= src_dest"
   ]
  },
  {
   "cell_type": "code",
   "execution_count": 15,
   "metadata": {},
   "outputs": [],
   "source": [
    "multi_site_nodes_set = set(multi_site_nodes.keys()) ^ src_dest"
   ]
  },
  {
   "cell_type": "code",
   "execution_count": 16,
   "metadata": {},
   "outputs": [
    {
     "data": {
      "text/plain": [
       "<folium.map.LayerControl at 0x7fbf999bf160>"
      ]
     },
     "execution_count": 16,
     "metadata": {},
     "output_type": "execute_result"
    }
   ],
   "source": [
    "m = folium.Map(location=[46.02444, 8.96008], height='90%',  zoom_start=3, tiles=\"Stamen Toner\")\n",
    "folium.TileLayer('OpenStreetMap').add_to(m)\n",
    "cmap = iter(colors.values())\n",
    "\n",
    "layer = folium.FeatureGroup(name=f\"single trace\")\n",
    "for node in final_nodes:\n",
    "    folium.Marker(\n",
    "        node_pos[node], popup=node, tooltip=node, icon=folium.Icon(color='green', icon='t', prefix='fa')).add_to(layer)\n",
    "\n",
    "layer.add_to(m)\n",
    "layer = folium.FeatureGroup(name=f\"multiple nodes\")\n",
    "\n",
    "for node in multi_site_nodes_set:\n",
    "    folium.Marker(\n",
    "            node_pos[node], popup=node, tooltip=node, icon=folium.Icon(color='blue', icon='thumbtack', prefix='fa') \n",
    "        ).add_to(layer)\n",
    "\n",
    "layer.add_to(m)\n",
    "layer = folium.FeatureGroup(name=f\"src/dest nodes\")\n",
    "for node in src_dest:\n",
    "    folium.Marker(\n",
    "            node_pos[node], popup=node, tooltip=node, icon=folium.Icon(color='red', icon='flag-checkered', prefix='fa') \n",
    "        ).add_to(layer)\n",
    "layer.add_to(m)\n",
    "\n",
    "        \n",
    "bearings = [0, 45, 90, 135, 180, 225, 270, 315]\n",
    "for (u, v), data in edges.items():\n",
    "    layer = folium.FeatureGroup(name=f\"{u}->{v}\")\n",
    "    color = next(cmap)\n",
    "    for edge in data:\n",
    "        pos = [node_pos[edge['src']], node_pos[edge['dest']]]\n",
    "        e = folium.PolyLine(pos, color=color,  weight=8*edge['prob'], tooltip=edge['prob'], opacity=0.2,     bearings=bearings\n",
    "        ).add_to(layer) \n",
    "        # folium.RegularPolygonMarker(location=node_pos[edge['dest']], color=color, number_of_sides=3, radius=10, ).add_to(m)\n",
    "    layer.add_to(m)\n",
    "\n",
    "folium.LayerControl().add_to(m)\n",
    "# for ip, node_id in ta.hops_ip_model.nodes.items():\n",
    "    \n",
    "#     row = meta_df.loc[(meta_df['ip']==ip)].iloc[0]\n",
    "#     folium.Marker(\n",
    "#     pos['node_pos'][str(node_id)], popup=row['isp'], tooltip=row['city']\n",
    "# ).add_to(m)\n",
    "# for u,v in  ta.hops_ip_model.edges:\n",
    "#     if u==v:\n",
    "#         continue\n",
    "#     row_u = meta_df.loc[(meta_df['ip']==u)].iloc[0]\n",
    "#     row_v = meta_df.loc[(meta_df['ip']==v)].iloc[0]\n",
    "#     uid =  ta.hops_ip_model.node_to_index[u]\n",
    "#     vid =  ta.hops_ip_model.node_to_index[v]\n",
    "\n",
    "\n",
    "#     tmp = ta.hops_ip_model\n",
    "#     p = tmp.counts[u][v] / tmp.node_out_counts[u]\n",
    "\n",
    "#     folium.PolyLine(\n",
    "#     [ pos['node_pos'][str(uid)], pos['node_pos'][str(vid)]], color='yellow',  weight=5*p, tooltip=p, opacity=0.4\n",
    "\n",
    "\n",
    "#     ).add_to(m)\n"
   ]
  },
  {
   "cell_type": "code",
   "execution_count": 17,
   "metadata": {},
   "outputs": [],
   "source": [
    "m.save(\"results/visualization.html\")"
   ]
  },
  {
   "cell_type": "code",
   "execution_count": null,
   "metadata": {},
   "outputs": [],
   "source": [
    "# TODO: for each non unique line between src and dest, add shifted intermediate points and smooth the line\n",
    "# in order to make them more visible"
   ]
  },
  {
   "cell_type": "code",
   "execution_count": null,
   "metadata": {},
   "outputs": [],
   "source": [
    "# if noes have same geo, they are almost the same\n",
    "\n",
    "# TODO pouzit elastic k analyze"
   ]
  }
 ],
 "metadata": {
  "kernelspec": {
   "display_name": "stats",
   "language": "python",
   "name": "python3"
  },
  "language_info": {
   "codemirror_mode": {
    "name": "ipython",
    "version": 3
   },
   "file_extension": ".py",
   "mimetype": "text/x-python",
   "name": "python",
   "nbconvert_exporter": "python",
   "pygments_lexer": "ipython3",
   "version": "3.10.11"
  },
  "orig_nbformat": 4
 },
 "nbformat": 4,
 "nbformat_minor": 2
}
