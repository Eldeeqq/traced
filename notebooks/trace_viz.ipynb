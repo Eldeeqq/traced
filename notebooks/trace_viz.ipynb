{
 "cells": [
  {
   "cell_type": "code",
   "execution_count": 1,
   "metadata": {},
   "outputs": [
    {
     "name": "stdout",
     "output_type": "stream",
     "text": [
      "/home/msi/projects/diplomka\n"
     ]
    }
   ],
   "source": [
    "cd .."
   ]
  },
  {
   "cell_type": "code",
   "execution_count": 2,
   "metadata": {},
   "outputs": [
    {
     "name": "stdout",
     "output_type": "stream",
     "text": [
      "AD_benchmark  alarms.json  data.zip  ip_metadata  out  sample.json  sites\n"
     ]
    }
   ],
   "source": [
    "! ls data"
   ]
  },
  {
   "cell_type": "code",
   "execution_count": 3,
   "metadata": {},
   "outputs": [],
   "source": [
    "import seaborn as sns"
   ]
  },
  {
   "cell_type": "code",
   "execution_count": 4,
   "metadata": {},
   "outputs": [],
   "source": [
    "sns.set_theme(context=\"notebook\", style='darkgrid')"
   ]
  },
  {
   "cell_type": "code",
   "execution_count": null,
   "metadata": {},
   "outputs": [],
   "source": []
  },
  {
   "cell_type": "code",
   "execution_count": 5,
   "metadata": {},
   "outputs": [],
   "source": [
    "# Dot plot for each kind - rtt ttl path prob\n",
    "# radar plot pro kazdou hranu -> "
   ]
  },
  {
   "cell_type": "code",
   "execution_count": 6,
   "metadata": {},
   "outputs": [],
   "source": [
    "import matplotlib.pyplot as plt"
   ]
  },
  {
   "cell_type": "code",
   "execution_count": 7,
   "metadata": {},
   "outputs": [],
   "source": [
    "import json"
   ]
  },
  {
   "cell_type": "code",
   "execution_count": 8,
   "metadata": {},
   "outputs": [],
   "source": [
    "with open(\"/home/msi/projects/diplomka/data/sample.json\", 'r') as f:\n",
    "     data = json.loads(f.read())"
   ]
  },
  {
   "cell_type": "code",
   "execution_count": 9,
   "metadata": {},
   "outputs": [
    {
     "data": {
      "text/plain": [
       "dict_keys(['max_rtt', 'src_VO', 'created_at', 'dest', 'src_site', 'path_complete', 'MA', 'destination_reached', 'ipv6', 'dest_production', 'asns', 'n_hops', 'timestamp', 'src', 'dest_site', 'dest_VO', 'looping', 'src_host', 'push', 'route-sha1', 'ttls', 'rtts', 'dest_host', 'hops', 'src_production'])"
      ]
     },
     "execution_count": 9,
     "metadata": {},
     "output_type": "execute_result"
    }
   ],
   "source": [
    "data.keys()"
   ]
  },
  {
   "cell_type": "code",
   "execution_count": 10,
   "metadata": {},
   "outputs": [
    {
     "data": {
      "text/plain": [
       "['10.192.0.42',\n",
       " '10.192.0.42',\n",
       " '134.87.2.171',\n",
       " '205.189.32.172',\n",
       " '205.189.32.175',\n",
       " '205.189.32.234',\n",
       " '205.189.32.239',\n",
       " '205.189.32.210',\n",
       " '205.189.32.119',\n",
       " '62.40.124.221',\n",
       " '62.40.98.238',\n",
       " '62.40.124.22',\n",
       " '130.59.38.70',\n",
       " '148.187.0.2',\n",
       " '148.187.129.15']"
      ]
     },
     "execution_count": 10,
     "metadata": {},
     "output_type": "execute_result"
    }
   ],
   "source": [
    "data['hops']"
   ]
  },
  {
   "cell_type": "code",
   "execution_count": 11,
   "metadata": {},
   "outputs": [],
   "source": [
    "# TODO try to find isomorphy for ipv4 and ipv6 networks"
   ]
  },
  {
   "cell_type": "code",
   "execution_count": 12,
   "metadata": {},
   "outputs": [],
   "source": [
    "# calculate link size"
   ]
  },
  {
   "cell_type": "code",
   "execution_count": 13,
   "metadata": {},
   "outputs": [
    {
     "data": {
      "text/plain": [
       "<Figure size 640x480 with 0 Axes>"
      ]
     },
     "metadata": {},
     "output_type": "display_data"
    }
   ],
   "source": [
    "fig = plt.figure()"
   ]
  },
  {
   "cell_type": "code",
   "execution_count": 20,
   "metadata": {},
   "outputs": [
    {
     "data": {
      "text/plain": [
       "(['10.192.0.42',\n",
       "  '10.192.0.42',\n",
       "  '134.87.2.171',\n",
       "  '205.189.32.172',\n",
       "  '205.189.32.175',\n",
       "  '205.189.32.234',\n",
       "  '205.189.32.239',\n",
       "  '205.189.32.210',\n",
       "  '205.189.32.119',\n",
       "  '62.40.124.221',\n",
       "  '62.40.98.238',\n",
       "  '62.40.124.22',\n",
       "  '130.59.38.70',\n",
       "  '148.187.0.2',\n",
       "  '148.187.129.15'],\n",
       " [4.4,\n",
       "  4.6,\n",
       "  0.7,\n",
       "  0.7,\n",
       "  12.0,\n",
       "  19.900000000000002,\n",
       "  34.3,\n",
       "  46.699999999999996,\n",
       "  55.599999999999994,\n",
       "  130.70000000000002,\n",
       "  138.8,\n",
       "  139.7,\n",
       "  144.7,\n",
       "  143.5,\n",
       "  142.6],\n",
       " [1, 2, 3, 4, 5, 6, 7, 8, 9, 10, 11, 12, 13, 14, 16])"
      ]
     },
     "execution_count": 20,
     "metadata": {},
     "output_type": "execute_result"
    }
   ],
   "source": [
    "(data['hops'],\n",
    "data['rtts'], \n",
    "data['ttls'])"
   ]
  },
  {
   "cell_type": "code",
   "execution_count": 21,
   "metadata": {},
   "outputs": [],
   "source": [
    "import pandas as pd\n"
   ]
  },
  {
   "cell_type": "code",
   "execution_count": 25,
   "metadata": {},
   "outputs": [],
   "source": [
    "import seaborn as sns\n",
    "sns.set_theme(style=\"darkgrid\")"
   ]
  },
  {
   "cell_type": "code",
   "execution_count": 27,
   "metadata": {},
   "outputs": [],
   "source": [
    "df = pd.DataFrame(index=data['hops'], data=zip(data['rtts'], data['ttls']), columns=[ 'rtt', 'ttl'])\n",
    "df = df.reset_index()"
   ]
  }
 ],
 "metadata": {
  "kernelspec": {
   "display_name": "stats",
   "language": "python",
   "name": "python3"
  },
  "language_info": {
   "codemirror_mode": {
    "name": "ipython",
    "version": 3
   },
   "file_extension": ".py",
   "mimetype": "text/x-python",
   "name": "python",
   "nbconvert_exporter": "python",
   "pygments_lexer": "ipython3",
   "version": "3.10.11"
  },
  "orig_nbformat": 4
 },
 "nbformat": 4,
 "nbformat_minor": 2
}
