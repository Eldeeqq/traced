{
 "cells": [
  {
   "cell_type": "code",
   "execution_count": 1,
   "metadata": {},
   "outputs": [
    {
     "name": "stdout",
     "output_type": "stream",
     "text": [
      "/home/msi/projects/diplomka\n"
     ]
    }
   ],
   "source": [
    "cd ../.."
   ]
  },
  {
   "cell_type": "code",
   "execution_count": 2,
   "metadata": {},
   "outputs": [
    {
     "name": "stderr",
     "output_type": "stream",
     "text": [
      "/home/msi/miniconda3/envs/orbit-ml/lib/python3.9/site-packages/tqdm/auto.py:21: TqdmWarning: IProgress not found. Please update jupyter and ipywidgets. See https://ipywidgets.readthedocs.io/en/stable/user_install.html\n",
      "  from .autonotebook import tqdm as notebook_tqdm\n"
     ]
    }
   ],
   "source": [
    "from orbit.models import ETS\n",
    "\n",
    "import pandas as pd\n",
    "import pathlib\n",
    "from datetime import datetime\n",
    "import glob\n",
    "import matplotlib.pyplot as plt"
   ]
  },
  {
   "cell_type": "code",
   "execution_count": 3,
   "metadata": {},
   "outputs": [],
   "source": [
    "model_name = 'ETS'"
   ]
  },
  {
   "cell_type": "code",
   "execution_count": 4,
   "metadata": {},
   "outputs": [],
   "source": [
    "dataset = glob.glob(\"results/benchmark/RTT/*.csv\", recursive=True)\n",
    "benchmark_dir = pathlib.Path('results/benchmark/')"
   ]
  },
  {
   "cell_type": "code",
   "execution_count": 5,
   "metadata": {},
   "outputs": [],
   "source": [
    "def load_df(path):\n",
    "    df = pd.read_csv(path)\n",
    "    df['timestamp'] = pd.to_datetime(df['timestamp'] if 'timestamp' in df.columns else df['index'])\n",
    "    df = df.set_index('timestamp').sort_index()\n",
    "    df = df[~df.index.duplicated(keep='first')]\n",
    "\n",
    "    return df"
   ]
  },
  {
   "cell_type": "code",
   "execution_count": 6,
   "metadata": {},
   "outputs": [
    {
     "data": {
      "text/html": [
       "<div>\n",
       "<style scoped>\n",
       "    .dataframe tbody tr th:only-of-type {\n",
       "        vertical-align: middle;\n",
       "    }\n",
       "\n",
       "    .dataframe tbody tr th {\n",
       "        vertical-align: top;\n",
       "    }\n",
       "\n",
       "    .dataframe thead th {\n",
       "        text-align: right;\n",
       "    }\n",
       "</style>\n",
       "<table border=\"1\" class=\"dataframe\">\n",
       "  <thead>\n",
       "    <tr style=\"text-align: right;\">\n",
       "      <th></th>\n",
       "      <th>rtt</th>\n",
       "      <th>normalmodel_anomalies</th>\n",
       "    </tr>\n",
       "    <tr>\n",
       "      <th>timestamp</th>\n",
       "      <th></th>\n",
       "      <th></th>\n",
       "    </tr>\n",
       "  </thead>\n",
       "  <tbody>\n",
       "    <tr>\n",
       "      <th>2023-01-01 00:03:31</th>\n",
       "      <td>26.5</td>\n",
       "      <td>False</td>\n",
       "    </tr>\n",
       "    <tr>\n",
       "      <th>2023-01-01 00:08:24</th>\n",
       "      <td>28.5</td>\n",
       "      <td>False</td>\n",
       "    </tr>\n",
       "    <tr>\n",
       "      <th>2023-01-01 00:08:45</th>\n",
       "      <td>28.6</td>\n",
       "      <td>False</td>\n",
       "    </tr>\n",
       "    <tr>\n",
       "      <th>2023-01-01 00:09:02</th>\n",
       "      <td>27.6</td>\n",
       "      <td>False</td>\n",
       "    </tr>\n",
       "    <tr>\n",
       "      <th>2023-01-01 00:10:23</th>\n",
       "      <td>27.5</td>\n",
       "      <td>False</td>\n",
       "    </tr>\n",
       "    <tr>\n",
       "      <th>...</th>\n",
       "      <td>...</td>\n",
       "      <td>...</td>\n",
       "    </tr>\n",
       "    <tr>\n",
       "      <th>2023-03-31 23:39:28</th>\n",
       "      <td>26.6</td>\n",
       "      <td>False</td>\n",
       "    </tr>\n",
       "    <tr>\n",
       "      <th>2023-03-31 23:40:16</th>\n",
       "      <td>33.3</td>\n",
       "      <td>False</td>\n",
       "    </tr>\n",
       "    <tr>\n",
       "      <th>2023-03-31 23:45:45</th>\n",
       "      <td>27.5</td>\n",
       "      <td>False</td>\n",
       "    </tr>\n",
       "    <tr>\n",
       "      <th>2023-03-31 23:50:00</th>\n",
       "      <td>51.3</td>\n",
       "      <td>False</td>\n",
       "    </tr>\n",
       "    <tr>\n",
       "      <th>2023-03-31 23:59:34</th>\n",
       "      <td>30.0</td>\n",
       "      <td>False</td>\n",
       "    </tr>\n",
       "  </tbody>\n",
       "</table>\n",
       "<p>18211 rows × 2 columns</p>\n",
       "</div>"
      ],
      "text/plain": [
       "                      rtt  normalmodel_anomalies\n",
       "timestamp                                       \n",
       "2023-01-01 00:03:31  26.5                  False\n",
       "2023-01-01 00:08:24  28.5                  False\n",
       "2023-01-01 00:08:45  28.6                  False\n",
       "2023-01-01 00:09:02  27.6                  False\n",
       "2023-01-01 00:10:23  27.5                  False\n",
       "...                   ...                    ...\n",
       "2023-03-31 23:39:28  26.6                  False\n",
       "2023-03-31 23:40:16  33.3                  False\n",
       "2023-03-31 23:45:45  27.5                  False\n",
       "2023-03-31 23:50:00  51.3                  False\n",
       "2023-03-31 23:59:34  30.0                  False\n",
       "\n",
       "[18211 rows x 2 columns]"
      ]
     },
     "execution_count": 6,
     "metadata": {},
     "output_type": "execute_result"
    }
   ],
   "source": [
    "load_df(dataset[0])"
   ]
  },
  {
   "cell_type": "code",
   "execution_count": 7,
   "metadata": {},
   "outputs": [],
   "source": [
    "value_col = 'rtt'"
   ]
  },
  {
   "cell_type": "code",
   "execution_count": 8,
   "metadata": {},
   "outputs": [],
   "source": [
    "def fit_predict(df):\n",
    "    model = ETS(response_col=value_col, date_col='timestamp', estimator='stan-mcmc')\n",
    "    df2 = df.reset_index()\n",
    "    model.fit(df2);\n",
    "    predicted = model.predict(df=df2, prediction_percentiles=[2.5, 97.5]);\n",
    "    predicted['value'] = df2[value_col]\n",
    "    predicted['anomalies'] = ( predicted['prediction_95'] < predicted['value']) | ( predicted['prediction_5'] > predicted['value'])\n",
    "    return predicted.set_index('timestamp')['anomalies'].rename('model_name')"
   ]
  },
  {
   "cell_type": "code",
   "execution_count": 9,
   "metadata": {},
   "outputs": [],
   "source": [
    "total_times = []\n",
    "per_sample_times = []"
   ]
  },
  {
   "cell_type": "code",
   "execution_count": 10,
   "metadata": {},
   "outputs": [],
   "source": [
    "from IPython.display import clear_output"
   ]
  },
  {
   "cell_type": "code",
   "execution_count": 11,
   "metadata": {},
   "outputs": [],
   "source": [
    "import numpy as np"
   ]
  },
  {
   "cell_type": "code",
   "execution_count": 12,
   "metadata": {},
   "outputs": [],
   "source": [
    "unprocessed = []"
   ]
  },
  {
   "cell_type": "code",
   "execution_count": 13,
   "metadata": {},
   "outputs": [
    {
     "name": "stderr",
     "output_type": "stream",
     "text": [
      "/home/msi/miniconda3/envs/orbit-ml/lib/python3.9/site-packages/orbit/forecaster/forecaster.py:288: UserWarning: Datetime index is not evenly distributed\n",
      "  warnings.warn(\"Datetime index is not evenly distributed\")\n",
      "2023-06-04 20:06:06 - orbit - INFO - Sampling (PyStan) with chains: 4, cores: 8, temperature: 1.000, warmups (per chain): 225 and samples(per chain): 25.\n",
      "chain 1 |\u001b[33m          \u001b[0m| 00:00 Status\n",
      "\u001b[A\n",
      "\n",
      "\u001b[A\u001b[A\n",
      "\u001b[A\n",
      "\n",
      "chain 1 |\u001b[33m█████     \u001b[0m| 00:07 Iteration:   1 / 250 [  0%]  (Warmup)\n",
      "\n",
      "\u001b[A\u001b[A\n",
      "chain 1 |\u001b[33m███████▌  \u001b[0m| 00:13 Iteration: 100 / 250 [ 40%]  (Warmup)\n",
      "\n",
      "chain 1 |\u001b[34m██████████\u001b[0m| 00:15 Iteration: 200 / 250 [ 80%]  (Warmup)\n",
      "\u001b[A\n",
      "\n",
      "\u001b[A\u001b[A\n",
      "chain 1 |\u001b[34m          \u001b[0m| 00:18 Iteration: 226 / 250 [ 90%]  (Sampling)\n",
      "\n",
      "\u001b[A\u001b[A\n",
      "chain 1 |\u001b[34m██████████\u001b[0m| 00:19 Sampling completed                     \n",
      "chain 2 |\u001b[34m██████████\u001b[0m| 00:19 Sampling completed                     \n",
      "chain 3 |\u001b[34m██████████\u001b[0m| 00:19 Sampling completed                     \n",
      "chain 4 |\u001b[34m██████████\u001b[0m| 00:19 Sampling completed                     "
     ]
    },
    {
     "name": "stdout",
     "output_type": "stream",
     "text": [
      "                                                                                                                                                                                                                                                                                                                                "
     ]
    },
    {
     "name": "stderr",
     "output_type": "stream",
     "text": [
      "\n"
     ]
    },
    {
     "name": "stdout",
     "output_type": "stream",
     "text": [
      "\n"
     ]
    },
    {
     "name": "stderr",
     "output_type": "stream",
     "text": [
      "/home/msi/miniconda3/envs/orbit-ml/lib/python3.9/site-packages/orbit/forecaster/forecaster.py:333: UserWarning: Datetime index is not evenly distributed\n",
      "  warnings.warn(\"Datetime index is not evenly distributed\")\n"
     ]
    }
   ],
   "source": [
    "for i, path in enumerate(dataset):\n",
    "    df = load_df(path)\n",
    "    \n",
    "    start = datetime.now()\n",
    "\n",
    "    start = datetime.now()\n",
    "    try:\n",
    "        current = fit_predict(df).rename(model_name)\n",
    "    except RuntimeError as e:\n",
    "        unprocessed.append(path)\n",
    "        current = df['value'].apply(lambda x: np.nan).rename(model_name)\n",
    "    end = datetime.now()\n",
    "\n",
    "    duration = end - start\n",
    "    total_times.append(duration.total_seconds())\n",
    "    per_sample_times.append(duration.total_seconds() / len(df))\n",
    "\n",
    "    file_path = pathlib.Path(path[18:])\n",
    "    file_dir = benchmark_dir / file_path.parent\n",
    "    \n",
    "    if not file_dir.exists():\n",
    "        file_dir.mkdir(parents=True)\n",
    "\n",
    "    out_path = file_dir / file_path.name\n",
    "    \n",
    "    current.index = current.index.rename('timestamp')\n",
    "    if out_path.exists():\n",
    "        existing = load_df(out_path)\n",
    "        current = pd.concat([existing, current], axis=1)\n",
    "\n",
    "    current.to_csv(out_path)\n",
    "    clear_output(wait=True)\n"
   ]
  },
  {
   "cell_type": "code",
   "execution_count": 14,
   "metadata": {},
   "outputs": [],
   "source": [
    "names = [pathlib.Path(path).name for path in dataset]"
   ]
  },
  {
   "cell_type": "code",
   "execution_count": 15,
   "metadata": {},
   "outputs": [],
   "source": [
    "stats_df = pd.DataFrame({f'time': total_times, f'per_sample_{model_name}': per_sample_times}, index=names)"
   ]
  },
  {
   "cell_type": "code",
   "execution_count": 16,
   "metadata": {},
   "outputs": [],
   "source": [
    "stats_df.to_csv(benchmark_dir / f'stats_{model_name}.csv')"
   ]
  },
  {
   "cell_type": "code",
   "execution_count": null,
   "metadata": {},
   "outputs": [],
   "source": []
  }
 ],
 "metadata": {
  "kernelspec": {
   "display_name": "stats",
   "language": "python",
   "name": "python3"
  },
  "language_info": {
   "codemirror_mode": {
    "name": "ipython",
    "version": 3
   },
   "file_extension": ".py",
   "mimetype": "text/x-python",
   "name": "python",
   "nbconvert_exporter": "python",
   "pygments_lexer": "ipython3",
   "version": "3.9.16"
  },
  "orig_nbformat": 4
 },
 "nbformat": 4,
 "nbformat_minor": 2
}
