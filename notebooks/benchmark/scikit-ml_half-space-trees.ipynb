{
 "cells": [
  {
   "cell_type": "code",
   "execution_count": 1,
   "metadata": {},
   "outputs": [
    {
     "name": "stdout",
     "output_type": "stream",
     "text": [
      "/home/msi/projects/diplomka\n"
     ]
    }
   ],
   "source": [
    "cd ../.."
   ]
  },
  {
   "cell_type": "code",
   "execution_count": 2,
   "metadata": {},
   "outputs": [],
   "source": [
    "import numpy as np "
   ]
  },
  {
   "cell_type": "code",
   "execution_count": 3,
   "metadata": {},
   "outputs": [],
   "source": [
    "from sklearn.ensemble import IsolationForest\n",
    "import pandas as pd\n",
    "import pathlib\n",
    "from datetime import datetime\n",
    "import glob\n",
    "import matplotlib.pyplot as plt"
   ]
  },
  {
   "cell_type": "code",
   "execution_count": 4,
   "metadata": {},
   "outputs": [],
   "source": [
    "model_name = 'isolation_forest'"
   ]
  },
  {
   "cell_type": "code",
   "execution_count": 5,
   "metadata": {},
   "outputs": [],
   "source": [
    "dataset = glob.glob(\"results/benchmark/RTT/*.csv\", recursive=True)\n",
    "benchmark_dir = pathlib.Path('results/benchmark/')"
   ]
  },
  {
   "cell_type": "code",
   "execution_count": 6,
   "metadata": {},
   "outputs": [],
   "source": [
    "def load_df(path):\n",
    "    df = pd.read_csv(path)\n",
    "    df['timestamp'] = pd.to_datetime(df['timestamp'] if 'timestamp' in df.columns else df['index'])\n",
    "    df = df.set_index('timestamp').sort_index()\n",
    "    df = df[~df.index.duplicated(keep='first')]\n",
    "\n",
    "    return df"
   ]
  },
  {
   "cell_type": "code",
   "execution_count": 7,
   "metadata": {},
   "outputs": [],
   "source": [
    "def process(df):\n",
    "    model = IsolationForest(n_estimators=100, max_samples='auto', contamination=0.01, max_features=1.0, bootstrap=False, n_jobs=-1, random_state=42, verbose=0)\n",
    "    out = model.fit_predict(df[['rtt']])\n",
    "    df[model_name] = out==-1\n",
    "    return df[model_name]"
   ]
  },
  {
   "cell_type": "code",
   "execution_count": 8,
   "metadata": {},
   "outputs": [],
   "source": [
    "total_times = []\n",
    "per_sample_times = []"
   ]
  },
  {
   "cell_type": "code",
   "execution_count": 10,
   "metadata": {},
   "outputs": [],
   "source": [
    "import numpy as np"
   ]
  },
  {
   "cell_type": "code",
   "execution_count": 11,
   "metadata": {},
   "outputs": [],
   "source": [
    "unprocessed = []"
   ]
  },
  {
   "cell_type": "code",
   "execution_count": 12,
   "metadata": {},
   "outputs": [
    {
     "name": "stderr",
     "output_type": "stream",
     "text": [
      "/home/msi/miniconda3/envs/stats/lib/python3.10/site-packages/sklearn/base.py:409: UserWarning: X does not have valid feature names, but IsolationForest was fitted with feature names\n",
      "  warnings.warn(\n"
     ]
    }
   ],
   "source": [
    "for i, path in enumerate(dataset):\n",
    "    df = load_df(path)\n",
    "    \n",
    "    start = datetime.now()\n",
    "\n",
    "    start = datetime.now()\n",
    "    try:\n",
    "        current = process(df)\n",
    "    except RuntimeError as e:\n",
    "        unprocessed.append(path)\n",
    "        current = df['value'].apply(lambda x: np.nan).rename(model_name)\n",
    "    end = datetime.now()\n",
    "\n",
    "    duration = end - start\n",
    "    total_times.append(duration.total_seconds())\n",
    "    per_sample_times.append(duration.total_seconds() / len(df))\n",
    "\n",
    "    file_path = pathlib.Path(path[18:])\n",
    "    file_dir = benchmark_dir / file_path.parent\n",
    "    \n",
    "    if not file_dir.exists():\n",
    "        file_dir.mkdir(parents=True)\n",
    "\n",
    "    out_path = file_dir / file_path.name\n",
    "    \n",
    "    current.index = current.index.rename('timestamp')\n",
    "    if out_path.exists():\n",
    "        existing = load_df(out_path)\n",
    "        current = pd.concat([existing, current], axis=1)\n",
    "\n",
    "    current.to_csv(out_path)\n",
    "    clear_output(wait=True)\n"
   ]
  },
  {
   "cell_type": "code",
   "execution_count": 13,
   "metadata": {},
   "outputs": [],
   "source": [
    "names = [pathlib.Path(path).name for path in dataset]"
   ]
  },
  {
   "cell_type": "code",
   "execution_count": 15,
   "metadata": {},
   "outputs": [],
   "source": [
    "stats_df = pd.DataFrame({f'time': total_times, f'per_sample_{model_name}': per_sample_times}, index=names)"
   ]
  },
  {
   "cell_type": "code",
   "execution_count": 16,
   "metadata": {},
   "outputs": [],
   "source": [
    "stats_df.to_csv(benchmark_dir / f'stats_{model_name}.csv')"
   ]
  },
  {
   "cell_type": "code",
   "execution_count": 14,
   "metadata": {},
   "outputs": [
    {
     "data": {
      "text/plain": [
       "[]"
      ]
     },
     "execution_count": 14,
     "metadata": {},
     "output_type": "execute_result"
    }
   ],
   "source": [
    "unprocessed"
   ]
  },
  {
   "cell_type": "code",
   "execution_count": null,
   "metadata": {},
   "outputs": [],
   "source": []
  }
 ],
 "metadata": {
  "kernelspec": {
   "display_name": "stats",
   "language": "python",
   "name": "python3"
  },
  "language_info": {
   "codemirror_mode": {
    "name": "ipython",
    "version": 3
   },
   "file_extension": ".py",
   "mimetype": "text/x-python",
   "name": "python",
   "nbconvert_exporter": "python",
   "pygments_lexer": "ipython3",
   "version": "3.10.11"
  },
  "orig_nbformat": 4
 },
 "nbformat": 4,
 "nbformat_minor": 2
}
