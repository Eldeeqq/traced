{
 "cells": [
  {
   "cell_type": "code",
   "execution_count": 1,
   "metadata": {},
   "outputs": [
    {
     "name": "stdout",
     "output_type": "stream",
     "text": [
      "/home/msi/projects/diplomka\n"
     ]
    }
   ],
   "source": [
    "cd ../.."
   ]
  },
  {
   "cell_type": "code",
   "execution_count": 2,
   "metadata": {},
   "outputs": [],
   "source": [
    "from trct.models import NormalModel\n",
    "\n",
    "import pandas as pd\n",
    "import pathlib\n",
    "from datetime import datetime\n",
    "import glob\n",
    "import matplotlib.pyplot as plt"
   ]
  },
  {
   "cell_type": "code",
   "execution_count": 3,
   "metadata": {},
   "outputs": [],
   "source": [
    "model_name = 'NormalModel'"
   ]
  },
  {
   "cell_type": "code",
   "execution_count": 4,
   "metadata": {},
   "outputs": [],
   "source": [
    "dataset = glob.glob(\"results/benchmark/RTT/*.csv\", recursive=True)\n",
    "benchmark_dir = pathlib.Path('results/benchmark/')"
   ]
  },
  {
   "cell_type": "code",
   "execution_count": 5,
   "metadata": {},
   "outputs": [],
   "source": [
    "def load_df(path):\n",
    "    df = pd.read_csv(path)\n",
    "    df['timestamp'] = pd.to_datetime(df['timestamp'] if 'timestamp' in df.columns else df['index'])\n",
    "    df = df.set_index('timestamp')\n",
    "    return df.sort_index()"
   ]
  },
  {
   "cell_type": "code",
   "execution_count": 6,
   "metadata": {},
   "outputs": [],
   "source": [
    "total_times = []\n",
    "per_sample_times = []"
   ]
  },
  {
   "cell_type": "code",
   "execution_count": 8,
   "metadata": {},
   "outputs": [],
   "source": [
    "for path in dataset:\n",
    "    df = load_df(path)\n",
    "    \n",
    "    model = NormalModel('','', mu_0=0, sigma_0=10, alpha_0=1, beta_0=1, gamma=1)\n",
    "    start = datetime.now()\n",
    "\n",
    "    start = datetime.now()\n",
    "    for i, x in df['rtt'].items():\n",
    "        model.log(i.timestamp()*1000, x)\n",
    "    end = datetime.now()\n",
    "\n",
    "    duration = end - start\n",
    "    total_times.append(duration.total_seconds())\n",
    "    per_sample_times.append(duration.total_seconds() / len(df))\n",
    "\n",
    "    # file_path = pathlib.Path(path[18:])\n",
    "    # file_dir = benchmark_dir / file_path.parent\n",
    "    # if not file_dir.exists():\n",
    "    #     file_dir.mkdir(parents=True)\n",
    "\n",
    "    # out_path = file_dir / file_path.name\n",
    "    # current = model.to_frame()['anomalies'].rename(model_name)\n",
    "    # current.index = current.index.rename('timestamp')\n",
    "    # if out_path.exists():\n",
    "    #     existing = load_df(out_path)\n",
    "    #     current = pd.concat([existing, current], axis=1)\n",
    "\n",
    "    # current.to_csv(out_path)\n"
   ]
  },
  {
   "cell_type": "code",
   "execution_count": 9,
   "metadata": {},
   "outputs": [],
   "source": [
    "names = [pathlib.Path(path).name for path in dataset]"
   ]
  },
  {
   "cell_type": "code",
   "execution_count": 10,
   "metadata": {},
   "outputs": [],
   "source": [
    "stats_df = pd.DataFrame({f'time_{model_name}': total_times, f'per_sample_{model_name}': per_sample_times}, index=names)"
   ]
  },
  {
   "cell_type": "code",
   "execution_count": 11,
   "metadata": {},
   "outputs": [],
   "source": [
    "stats_df.to_csv(benchmark_dir / f'stats_{model_name}.csv')"
   ]
  }
 ],
 "metadata": {
  "kernelspec": {
   "display_name": "stats",
   "language": "python",
   "name": "python3"
  },
  "language_info": {
   "codemirror_mode": {
    "name": "ipython",
    "version": 3
   },
   "file_extension": ".py",
   "mimetype": "text/x-python",
   "name": "python",
   "nbconvert_exporter": "python",
   "pygments_lexer": "ipython3",
   "version": "3.10.11"
  },
  "orig_nbformat": 4
 },
 "nbformat": 4,
 "nbformat_minor": 2
}
