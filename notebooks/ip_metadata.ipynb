{
 "cells": [
  {
   "cell_type": "code",
   "execution_count": 1,
   "metadata": {
    "ExecuteTime": {
     "end_time": "2023-08-19T19:40:09.472040271Z",
     "start_time": "2023-08-19T19:40:09.471510523Z"
    }
   },
   "outputs": [
    {
     "name": "stdout",
     "output_type": "stream",
     "text": [
      "/home/msi/projects/diplomka\n"
     ]
    }
   ],
   "source": [
    "cd .."
   ]
  },
  {
   "cell_type": "code",
   "execution_count": 2,
   "metadata": {
    "ExecuteTime": {
     "end_time": "2023-08-19T19:40:09.650776142Z",
     "start_time": "2023-08-19T19:40:09.471725776Z"
    }
   },
   "outputs": [],
   "source": [
    "import glob\n",
    "import pandas as pd"
   ]
  },
  {
   "cell_type": "code",
   "execution_count": 3,
   "metadata": {
    "ExecuteTime": {
     "end_time": "2023-08-19T19:40:09.693309245Z",
     "start_time": "2023-08-19T19:40:09.653311191Z"
    }
   },
   "outputs": [],
   "source": [
    "all_geo_files = pd.concat([pd.read_csv(x) for x in glob.glob(\"data/ip_metadata/*.csv\")])"
   ]
  },
  {
   "cell_type": "code",
   "execution_count": 4,
   "metadata": {
    "ExecuteTime": {
     "end_time": "2023-08-19T19:40:10.132469158Z",
     "start_time": "2023-08-19T19:40:10.117682493Z"
    }
   },
   "outputs": [
    {
     "data": {
      "text/plain": "0             2001:468:0:1::2c\n1            2001:468:0:1::192\n2                163.253.1.239\n3             2001:468:0:1::7a\n4     2607:f388:101c:1000::442\n                ...           \n69                62.40.98.107\n70                62.40.98.181\n71                62.40.98.238\n72                62.40.98.244\n73                 62.40.98.65\nName: ip, Length: 748, dtype: object"
     },
     "execution_count": 4,
     "metadata": {},
     "output_type": "execute_result"
    }
   ],
   "source": [
    "all_geo_files['ip']"
   ]
  },
  {
   "cell_type": "code",
   "execution_count": 5,
   "metadata": {
    "ExecuteTime": {
     "end_time": "2023-08-19T19:40:12.198088340Z",
     "start_time": "2023-08-19T19:40:12.142408793Z"
    }
   },
   "outputs": [],
   "source": [
    "import requests\n",
    "import json\n",
    "import numpy as np\n",
    "\n",
    "def get_metadata(ip_address):\n",
    "    url = f\"https://api.ipgeolocation.io/ipgeo?&apiKey=aa32d3d50bde4cd8ab692ffde4e756f2&ip={ip_address}\"\n",
    "    # print(url)\n",
    "    # payload = json.dumps(ip_addresses)\n",
    "    headers = {'Content-Type': 'application/json'}\n",
    "\n",
    "    response = requests.request(\"GET\", url, headers=headers)\n",
    "    return response.json()"
   ]
  },
  {
   "cell_type": "code",
   "execution_count": 6,
   "metadata": {},
   "outputs": [],
   "source": [
    "import pandas as pd"
   ]
  },
  {
   "cell_type": "code",
   "execution_count": 7,
   "metadata": {},
   "outputs": [],
   "source": [
    "ip_list=['2001:48a8:48ff:ff03::b',\n",
    " '2001:468:0:1::2a',\n",
    " '163.253.1.138',\n",
    " '2001:798:cc:2a01:1e01::a',\n",
    " '198.108.22.81',\n",
    " '62.40.98.65',\n",
    " '148.187.0.10',\n",
    " '2001:798:12:10aa::2',\n",
    " '2001:48a8:48ff:47::5',\n",
    " '192.41.236.31',\n",
    " '2001:620:0:c00c::2',\n",
    " '2001:48a8:48ff:ff03::a',\n",
    " '2001:798:cc::e',\n",
    " '163.253.1.42',\n",
    " '2001:468:0:1::18e',\n",
    " '2001:48a8:48ff:ff01::5',\n",
    " '2001:798:99:1::25',\n",
    " '2001:468:0:1::7a',\n",
    " '198.108.22.82',\n",
    " '2001:468:0:1::2c',\n",
    " '2001:48a8:68f7:8001:192:41:236:32',\n",
    " '2001:468:0:1::8a',\n",
    " '2001:48a8:48ff:ff03::9',\n",
    " '2001:620:0:c094::2',\n",
    " '130.59.36.102',\n",
    " '163.253.1.117',\n",
    " '2001:620:0:c05c::2',\n",
    " '2001:468:0:1::ae',\n",
    " '2001:48a8:68f7:8001:192:41:236:31',\n",
    " '198.71.45.237',\n",
    " '2001:798:99:1::29',\n",
    " '2001:470:0:440::2',\n",
    " '2001:48a8:5fff:1c::2',\n",
    " '2001:468:0:1::113',\n",
    " '2001:620:0:c0c7::1',\n",
    " '207.74.131.225',\n",
    " '163.253.2.146',\n",
    " '2001:620:0:c0ab::2',\n",
    " '207.74.131.249',\n",
    " '130.59.39.150',\n",
    " '62.40.124.44',\n",
    " '2001:798:cc:1::2a',\n",
    " '130.59.36.246',\n",
    " '2001:48a8:48ff:ff03::6',\n",
    " '163.253.1.174',\n",
    " '2001:48a8:48ff:ff03::2',\n",
    " '130.59.38.206',\n",
    " '207.72.230.128',\n",
    " '62.40.98.244',\n",
    " '2001:620:0:c061::2',\n",
    " '35.9.1.162',\n",
    " '2001:48a8:48ff:ff09::5',\n",
    " '2001:48a8:48ff:ff58::2',\n",
    " '2001:620:0:c005::1',\n",
    " '2001:798:99:1::e5',\n",
    " '192.41.236.32',\n",
    " '2001:48a8:40ff:ffff:ffff:ffff:ffff:fff0',\n",
    " '2001:48a8:48ff:ff02::5',\n",
    " '207.74.131.233',\n",
    " '198.108.22.109',\n",
    " '192.122.183.10',\n",
    " '130.59.38.53',\n",
    " '2001:620:808:4129::15',\n",
    " '207.72.230.129',\n",
    " '163.253.2.144',\n",
    " '2001:620:0:c0ce::1',\n",
    " '2001:48a8:48ff:ff02::8',\n",
    " '2001:48a8:48ff:ff03::1',\n",
    " '2001:620:0:c026::2',\n",
    " '2001:48a8:48ff:ff58::1',\n",
    " '2001:620:0:c04f::2',\n",
    " '2605:dd00:ff:ffff::152',\n",
    " '130.59.37.154',\n",
    " '2001:470:0:410::1',\n",
    " '207.72.236.235',\n",
    " '2001:468:0:1::76',\n",
    " '2001:468:0:1::28',\n",
    " '2001:48a8:68f7:8001::1',\n",
    " '207.72.237.65',\n",
    " '198.108.23.60',\n",
    " '2001:48a8:7fff:14::2',\n",
    " '198.108.23.173',\n",
    " '2001:620:0:c054::1',\n",
    " '207.72.230.47',\n",
    " '62.40.98.107',\n",
    " '198.108.23.68',\n",
    " '163.253.1.44',\n",
    " '163.253.1.239',\n",
    " '130.59.38.77',\n",
    " '2001:468:0:1::ef',\n",
    " '130.59.38.70',\n",
    " '2001:468:0:1::75',\n",
    " '2001:468:0:1::190',\n",
    " '2001:620:0:ffaf::',\n",
    " '2001:798:cc:1::bd',\n",
    " '2001:620:0:ffca::',\n",
    " '2001:48a8:48ff:ff65::1',\n",
    " '2001:48a8:48ff:ff57::1',\n",
    " '163.253.2.142',\n",
    " '163.253.1.121',\n",
    " '163.253.2.19',\n",
    " '130.59.38.73',\n",
    " '2001:468:0:1::2',\n",
    " '2001:468:0:1::110',\n",
    " '35.9.1.152',\n",
    " '2001:48a8:48ff:3c::1',\n",
    " '62.40.124.22',\n",
    " '163.253.1.122',\n",
    " '62.40.98.238',\n",
    " '163.253.1.2',\n",
    " '163.253.1.119',\n",
    " '2001:48a8:40ff:ffff:ffff:ffff:ffff:ffe0',\n",
    " '2001:798:cc:1::ba',\n",
    " '2001:798:cc:2b01:2201::2',\n",
    " '2001:798:cc::1a',\n",
    " '2001:468:0:1::10c',\n",
    " '2001:468:0:1::43',\n",
    " '192.122.183.46',\n",
    " '148.187.0.2',\n",
    " '130.59.37.145',\n",
    " '130.59.38.201',\n",
    " '2001:7f8:1::a500:559:1',\n",
    " '192.41.236.1',\n",
    " '2001:798:cc:1::d1',\n",
    " '2001:468:0:1::192',\n",
    " '163.253.2.16',\n",
    " '2001:620:0:c0c6::1',\n",
    " '207.74.131.241',\n",
    " '198.108.22.13',\n",
    " '163.253.1.40',\n",
    " '2001:468:ff:15c5::2',\n",
    " '148.187.129.15',\n",
    " '2001:468:0:1::79',\n",
    " '130.59.36.70']"
   ]
  },
  {
   "cell_type": "code",
   "execution_count": 8,
   "metadata": {},
   "outputs": [],
   "source": [
    "existing = all_geo_files[all_geo_files['ip'].isin(ip_list)].groupby('ip').first().reset_index()"
   ]
  },
  {
   "cell_type": "code",
   "execution_count": 9,
   "metadata": {},
   "outputs": [],
   "source": [
    "ip_list = list(set(ip_list) - set(existing['ip']))"
   ]
  },
  {
   "cell_type": "code",
   "execution_count": 10,
   "metadata": {},
   "outputs": [
    {
     "data": {
      "text/html": [
       "<div>\n",
       "<style scoped>\n",
       "    .dataframe tbody tr th:only-of-type {\n",
       "        vertical-align: middle;\n",
       "    }\n",
       "\n",
       "    .dataframe tbody tr th {\n",
       "        vertical-align: top;\n",
       "    }\n",
       "\n",
       "    .dataframe thead th {\n",
       "        text-align: right;\n",
       "    }\n",
       "</style>\n",
       "<table border=\"1\" class=\"dataframe\">\n",
       "  <thead>\n",
       "    <tr style=\"text-align: right;\">\n",
       "      <th></th>\n",
       "      <th>ip</th>\n",
       "      <th>continent_code</th>\n",
       "      <th>continent_name</th>\n",
       "      <th>country_code2</th>\n",
       "      <th>country_name</th>\n",
       "      <th>state_prov</th>\n",
       "      <th>district</th>\n",
       "      <th>city</th>\n",
       "      <th>latitude</th>\n",
       "      <th>longitude</th>\n",
       "      <th>is_eu</th>\n",
       "      <th>isp</th>\n",
       "      <th>connection_type</th>\n",
       "      <th>organization</th>\n",
       "      <th>time_zone</th>\n",
       "      <th>message</th>\n",
       "    </tr>\n",
       "  </thead>\n",
       "  <tbody>\n",
       "    <tr>\n",
       "      <th>0</th>\n",
       "      <td>130.59.36.102</td>\n",
       "      <td>EU</td>\n",
       "      <td>Europe</td>\n",
       "      <td>CH</td>\n",
       "      <td>Switzerland</td>\n",
       "      <td>Zurich</td>\n",
       "      <td>None</td>\n",
       "      <td>Zurich</td>\n",
       "      <td>47.37700</td>\n",
       "      <td>8.53977</td>\n",
       "      <td>False</td>\n",
       "      <td>SWITCH</td>\n",
       "      <td>NaN</td>\n",
       "      <td>SWITCH</td>\n",
       "      <td>NaN</td>\n",
       "      <td>None</td>\n",
       "    </tr>\n",
       "    <tr>\n",
       "      <th>1</th>\n",
       "      <td>130.59.36.246</td>\n",
       "      <td>EU</td>\n",
       "      <td>Europe</td>\n",
       "      <td>CH</td>\n",
       "      <td>Switzerland</td>\n",
       "      <td>Zurich</td>\n",
       "      <td>None</td>\n",
       "      <td>Zurich</td>\n",
       "      <td>47.37700</td>\n",
       "      <td>8.53977</td>\n",
       "      <td>False</td>\n",
       "      <td>SWITCH</td>\n",
       "      <td>NaN</td>\n",
       "      <td>SWITCH</td>\n",
       "      <td>NaN</td>\n",
       "      <td>None</td>\n",
       "    </tr>\n",
       "    <tr>\n",
       "      <th>2</th>\n",
       "      <td>130.59.36.70</td>\n",
       "      <td>EU</td>\n",
       "      <td>Europe</td>\n",
       "      <td>CH</td>\n",
       "      <td>Switzerland</td>\n",
       "      <td>Zurich</td>\n",
       "      <td>None</td>\n",
       "      <td>Zurich</td>\n",
       "      <td>47.37700</td>\n",
       "      <td>8.53977</td>\n",
       "      <td>False</td>\n",
       "      <td>SWITCH</td>\n",
       "      <td>NaN</td>\n",
       "      <td>SWITCH</td>\n",
       "      <td>NaN</td>\n",
       "      <td>None</td>\n",
       "    </tr>\n",
       "    <tr>\n",
       "      <th>3</th>\n",
       "      <td>130.59.37.145</td>\n",
       "      <td>EU</td>\n",
       "      <td>Europe</td>\n",
       "      <td>CH</td>\n",
       "      <td>Switzerland</td>\n",
       "      <td>Zurich</td>\n",
       "      <td>None</td>\n",
       "      <td>Zurich</td>\n",
       "      <td>47.37700</td>\n",
       "      <td>8.53977</td>\n",
       "      <td>False</td>\n",
       "      <td>SWITCH</td>\n",
       "      <td>NaN</td>\n",
       "      <td>SWITCH</td>\n",
       "      <td>NaN</td>\n",
       "      <td>None</td>\n",
       "    </tr>\n",
       "    <tr>\n",
       "      <th>4</th>\n",
       "      <td>130.59.37.154</td>\n",
       "      <td>EU</td>\n",
       "      <td>Europe</td>\n",
       "      <td>CH</td>\n",
       "      <td>Switzerland</td>\n",
       "      <td>Zurich</td>\n",
       "      <td>None</td>\n",
       "      <td>Zurich</td>\n",
       "      <td>47.37700</td>\n",
       "      <td>8.53977</td>\n",
       "      <td>False</td>\n",
       "      <td>SWITCH</td>\n",
       "      <td>NaN</td>\n",
       "      <td>SWITCH</td>\n",
       "      <td>NaN</td>\n",
       "      <td>None</td>\n",
       "    </tr>\n",
       "    <tr>\n",
       "      <th>...</th>\n",
       "      <td>...</td>\n",
       "      <td>...</td>\n",
       "      <td>...</td>\n",
       "      <td>...</td>\n",
       "      <td>...</td>\n",
       "      <td>...</td>\n",
       "      <td>...</td>\n",
       "      <td>...</td>\n",
       "      <td>...</td>\n",
       "      <td>...</td>\n",
       "      <td>...</td>\n",
       "      <td>...</td>\n",
       "      <td>...</td>\n",
       "      <td>...</td>\n",
       "      <td>...</td>\n",
       "      <td>...</td>\n",
       "    </tr>\n",
       "    <tr>\n",
       "      <th>77</th>\n",
       "      <td>62.40.124.44</td>\n",
       "      <td>EU</td>\n",
       "      <td>Europe</td>\n",
       "      <td>GB</td>\n",
       "      <td>United Kingdom</td>\n",
       "      <td>England</td>\n",
       "      <td>None</td>\n",
       "      <td>Cambridge</td>\n",
       "      <td>52.19281</td>\n",
       "      <td>0.13314</td>\n",
       "      <td>False</td>\n",
       "      <td>GEANT Vereniging</td>\n",
       "      <td>NaN</td>\n",
       "      <td>GEANT Vereniging</td>\n",
       "      <td>NaN</td>\n",
       "      <td>None</td>\n",
       "    </tr>\n",
       "    <tr>\n",
       "      <th>78</th>\n",
       "      <td>62.40.98.107</td>\n",
       "      <td>EU</td>\n",
       "      <td>Europe</td>\n",
       "      <td>GB</td>\n",
       "      <td>United Kingdom</td>\n",
       "      <td>England</td>\n",
       "      <td>None</td>\n",
       "      <td>Cambridge</td>\n",
       "      <td>52.19281</td>\n",
       "      <td>0.13314</td>\n",
       "      <td>False</td>\n",
       "      <td>GEANT Vereniging</td>\n",
       "      <td>NaN</td>\n",
       "      <td>GEANT Vereniging</td>\n",
       "      <td>NaN</td>\n",
       "      <td>None</td>\n",
       "    </tr>\n",
       "    <tr>\n",
       "      <th>79</th>\n",
       "      <td>62.40.98.238</td>\n",
       "      <td>EU</td>\n",
       "      <td>Europe</td>\n",
       "      <td>GB</td>\n",
       "      <td>United Kingdom</td>\n",
       "      <td>England</td>\n",
       "      <td>None</td>\n",
       "      <td>Cambridge</td>\n",
       "      <td>52.19281</td>\n",
       "      <td>0.13314</td>\n",
       "      <td>False</td>\n",
       "      <td>GEANT Vereniging</td>\n",
       "      <td>NaN</td>\n",
       "      <td>GEANT Vereniging</td>\n",
       "      <td>NaN</td>\n",
       "      <td>None</td>\n",
       "    </tr>\n",
       "    <tr>\n",
       "      <th>80</th>\n",
       "      <td>62.40.98.244</td>\n",
       "      <td>EU</td>\n",
       "      <td>Europe</td>\n",
       "      <td>GB</td>\n",
       "      <td>United Kingdom</td>\n",
       "      <td>England</td>\n",
       "      <td>None</td>\n",
       "      <td>Cambridge</td>\n",
       "      <td>52.19281</td>\n",
       "      <td>0.13314</td>\n",
       "      <td>False</td>\n",
       "      <td>GEANT Vereniging</td>\n",
       "      <td>NaN</td>\n",
       "      <td>GEANT Vereniging</td>\n",
       "      <td>NaN</td>\n",
       "      <td>None</td>\n",
       "    </tr>\n",
       "    <tr>\n",
       "      <th>81</th>\n",
       "      <td>62.40.98.65</td>\n",
       "      <td>EU</td>\n",
       "      <td>Europe</td>\n",
       "      <td>GB</td>\n",
       "      <td>United Kingdom</td>\n",
       "      <td>England</td>\n",
       "      <td>None</td>\n",
       "      <td>Cambridge</td>\n",
       "      <td>52.19281</td>\n",
       "      <td>0.13314</td>\n",
       "      <td>False</td>\n",
       "      <td>GEANT Vereniging</td>\n",
       "      <td>NaN</td>\n",
       "      <td>GEANT Vereniging</td>\n",
       "      <td>NaN</td>\n",
       "      <td>None</td>\n",
       "    </tr>\n",
       "  </tbody>\n",
       "</table>\n",
       "<p>82 rows × 16 columns</p>\n",
       "</div>"
      ],
      "text/plain": [
       "               ip continent_code continent_name country_code2    country_name   \n",
       "0   130.59.36.102             EU         Europe            CH     Switzerland  \\\n",
       "1   130.59.36.246             EU         Europe            CH     Switzerland   \n",
       "2    130.59.36.70             EU         Europe            CH     Switzerland   \n",
       "3   130.59.37.145             EU         Europe            CH     Switzerland   \n",
       "4   130.59.37.154             EU         Europe            CH     Switzerland   \n",
       "..            ...            ...            ...           ...             ...   \n",
       "77   62.40.124.44             EU         Europe            GB  United Kingdom   \n",
       "78   62.40.98.107             EU         Europe            GB  United Kingdom   \n",
       "79   62.40.98.238             EU         Europe            GB  United Kingdom   \n",
       "80   62.40.98.244             EU         Europe            GB  United Kingdom   \n",
       "81    62.40.98.65             EU         Europe            GB  United Kingdom   \n",
       "\n",
       "   state_prov district       city  latitude  longitude  is_eu   \n",
       "0      Zurich     None     Zurich  47.37700    8.53977  False  \\\n",
       "1      Zurich     None     Zurich  47.37700    8.53977  False   \n",
       "2      Zurich     None     Zurich  47.37700    8.53977  False   \n",
       "3      Zurich     None     Zurich  47.37700    8.53977  False   \n",
       "4      Zurich     None     Zurich  47.37700    8.53977  False   \n",
       "..        ...      ...        ...       ...        ...    ...   \n",
       "77    England     None  Cambridge  52.19281    0.13314  False   \n",
       "78    England     None  Cambridge  52.19281    0.13314  False   \n",
       "79    England     None  Cambridge  52.19281    0.13314  False   \n",
       "80    England     None  Cambridge  52.19281    0.13314  False   \n",
       "81    England     None  Cambridge  52.19281    0.13314  False   \n",
       "\n",
       "                 isp  connection_type      organization  time_zone message  \n",
       "0             SWITCH              NaN            SWITCH        NaN    None  \n",
       "1             SWITCH              NaN            SWITCH        NaN    None  \n",
       "2             SWITCH              NaN            SWITCH        NaN    None  \n",
       "3             SWITCH              NaN            SWITCH        NaN    None  \n",
       "4             SWITCH              NaN            SWITCH        NaN    None  \n",
       "..               ...              ...               ...        ...     ...  \n",
       "77  GEANT Vereniging              NaN  GEANT Vereniging        NaN    None  \n",
       "78  GEANT Vereniging              NaN  GEANT Vereniging        NaN    None  \n",
       "79  GEANT Vereniging              NaN  GEANT Vereniging        NaN    None  \n",
       "80  GEANT Vereniging              NaN  GEANT Vereniging        NaN    None  \n",
       "81  GEANT Vereniging              NaN  GEANT Vereniging        NaN    None  \n",
       "\n",
       "[82 rows x 16 columns]"
      ]
     },
     "execution_count": 10,
     "metadata": {},
     "output_type": "execute_result"
    }
   ],
   "source": [
    "existing"
   ]
  },
  {
   "cell_type": "code",
   "execution_count": 11,
   "metadata": {},
   "outputs": [],
   "source": [
    "from tqdm import tqdm"
   ]
  },
  {
   "cell_type": "code",
   "execution_count": 12,
   "metadata": {},
   "outputs": [
    {
     "name": "stderr",
     "output_type": "stream",
     "text": [
      "100%|██████████| 52/52 [00:06<00:00,  8.51it/s]\n"
     ]
    }
   ],
   "source": [
    "df = [pd.DataFrame(\n",
    "        get_metadata(\n",
    "            ip\n",
    "        ), index=[0]\n",
    "    )\n",
    " for ip in tqdm(ip_list)]"
   ]
  },
  {
   "cell_type": "code",
   "execution_count": 13,
   "metadata": {},
   "outputs": [],
   "source": [
    "dfs = pd.concat(df)"
   ]
  },
  {
   "cell_type": "code",
   "execution_count": 14,
   "metadata": {},
   "outputs": [
    {
     "data": {
      "text/plain": [
       "Index(['ip', 'continent_code', 'continent_name', 'country_code2',\n",
       "       'country_code3', 'country_name', 'country_capital', 'state_prov',\n",
       "       'state_code', 'district', 'city', 'zipcode', 'latitude', 'longitude',\n",
       "       'is_eu', 'calling_code', 'country_tld', 'languages', 'country_flag',\n",
       "       'geoname_id', 'isp', 'connection_type', 'organization', 'currency',\n",
       "       'time_zone'],\n",
       "      dtype='object')"
      ]
     },
     "execution_count": 14,
     "metadata": {},
     "output_type": "execute_result"
    }
   ],
   "source": [
    "dfs.columns"
   ]
  },
  {
   "cell_type": "code",
   "execution_count": 15,
   "metadata": {},
   "outputs": [],
   "source": [
    "dfs = dfs[[\n",
    "    'ip',\n",
    "    'continent_code', \n",
    "    'continent_name', \n",
    "    'country_code2',\n",
    "    # 'country_code3', \n",
    "    'country_name', \n",
    "    # 'country_capital',\n",
    "    'state_prov',\n",
    "    'district', \n",
    "    'city', \n",
    "    # 'zipcode',\n",
    "    'latitude',\n",
    "    'longitude',\n",
    "    'is_eu',\n",
    "    # 'calling_code', \n",
    "    # 'country_tld', \n",
    "    # 'languages', \n",
    "    # 'country_flag',\n",
    "    # 'geoname_id', \n",
    "    'isp', \n",
    "    'connection_type', \n",
    "    'organization', \n",
    "    # 'currency',\n",
    "    'time_zone', \n",
    "    # 'message'\n",
    "    ]]"
   ]
  },
  {
   "cell_type": "code",
   "execution_count": 16,
   "metadata": {},
   "outputs": [],
   "source": [
    "dfs['ip'] = ip_list"
   ]
  },
  {
   "cell_type": "code",
   "execution_count": 17,
   "metadata": {},
   "outputs": [
    {
     "data": {
      "text/plain": [
       "<AxesSubplot: >"
      ]
     },
     "execution_count": 17,
     "metadata": {},
     "output_type": "execute_result"
    },
    {
     "data": {
      "image/png": "[encoded data removed]",
      "text/plain": [
       "<Figure size 640x480 with 1 Axes>"
      ]
     },
     "metadata": {},
     "output_type": "display_data"
    }
   ],
   "source": [
    "dfs['country_code2'].hist()"
   ]
  },
  {
   "cell_type": "code",
   "execution_count": 18,
   "metadata": {},
   "outputs": [],
   "source": [
    "dfs = pd.concat([dfs, existing])"
   ]
  },
  {
   "cell_type": "code",
   "execution_count": 19,
   "metadata": {},
   "outputs": [],
   "source": [
    "dataset = 'Nebraska-CSCS_LCG2'\n",
    "# dataset = 'GLOW-CSCS_LCG2'\n",
    "dataset = 'AGLT2-CSCS_LCG2'\n"
   ]
  },
  {
   "cell_type": "code",
   "execution_count": 20,
   "metadata": {},
   "outputs": [
    {
     "data": {
      "text/html": [
       "<div>\n",
       "<style scoped>\n",
       "    .dataframe tbody tr th:only-of-type {\n",
       "        vertical-align: middle;\n",
       "    }\n",
       "\n",
       "    .dataframe tbody tr th {\n",
       "        vertical-align: top;\n",
       "    }\n",
       "\n",
       "    .dataframe thead th {\n",
       "        text-align: right;\n",
       "    }\n",
       "</style>\n",
       "<table border=\"1\" class=\"dataframe\">\n",
       "  <thead>\n",
       "    <tr style=\"text-align: right;\">\n",
       "      <th></th>\n",
       "      <th>ip</th>\n",
       "      <th>continent_code</th>\n",
       "      <th>continent_name</th>\n",
       "      <th>country_code2</th>\n",
       "      <th>country_name</th>\n",
       "      <th>state_prov</th>\n",
       "      <th>district</th>\n",
       "      <th>city</th>\n",
       "      <th>latitude</th>\n",
       "      <th>longitude</th>\n",
       "      <th>is_eu</th>\n",
       "      <th>isp</th>\n",
       "      <th>connection_type</th>\n",
       "      <th>organization</th>\n",
       "      <th>time_zone</th>\n",
       "      <th>message</th>\n",
       "    </tr>\n",
       "  </thead>\n",
       "  <tbody>\n",
       "  </tbody>\n",
       "</table>\n",
       "</div>"
      ],
      "text/plain": [
       "Empty DataFrame\n",
       "Columns: [ip, continent_code, continent_name, country_code2, country_name, state_prov, district, city, latitude, longitude, is_eu, isp, connection_type, organization, time_zone, message]\n",
       "Index: []"
      ]
     },
     "execution_count": 20,
     "metadata": {},
     "output_type": "execute_result"
    }
   ],
   "source": [
    "dfs.loc[dfs['latitude'].isna()]"
   ]
  },
  {
   "cell_type": "code",
   "execution_count": 21,
   "metadata": {},
   "outputs": [
    {
     "data": {
      "text/plain": [
       "country_code2\n",
       "CH    30\n",
       "GB    18\n",
       "NL     1\n",
       "US    85\n",
       "dtype: int64"
      ]
     },
     "execution_count": 21,
     "metadata": {},
     "output_type": "execute_result"
    }
   ],
   "source": [
    "dfs.groupby(by=[ 'country_code2']).size()"
   ]
  },
  {
   "cell_type": "code",
   "execution_count": 22,
   "metadata": {},
   "outputs": [],
   "source": [
    "dfs.to_csv(f\"data/ip_metadata/{dataset}.csv\", index=False)"
   ]
  },
  {
   "cell_type": "code",
   "execution_count": null,
   "metadata": {},
   "outputs": [],
   "source": []
  }
 ],
 "metadata": {
  "kernelspec": {
   "display_name": "Python 3 (ipykernel)",
   "language": "python",
   "name": "python3"
  },
  "language_info": {
   "codemirror_mode": {
    "name": "ipython",
    "version": 3
   },
   "file_extension": ".py",
   "mimetype": "text/x-python",
   "name": "python",
   "nbconvert_exporter": "python",
   "pygments_lexer": "ipython3",
   "version": "3.10.11"
  },
  "orig_nbformat": 4
 },
 "nbformat": 4,
 "nbformat_minor": 2
}
