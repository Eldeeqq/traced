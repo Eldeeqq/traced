{
 "cells": [
  {
   "cell_type": "code",
   "execution_count": 1,
   "id": "e18ccc5c",
   "metadata": {
    "ExecuteTime": {
     "end_time": "2023-08-27T14:19:29.636793119Z",
     "start_time": "2023-08-27T14:19:03.242628788Z"
    }
   },
   "outputs": [
    {
     "name": "stdout",
     "output_type": "stream",
     "text": [
      "/home/msi/projects/diplomka\n"
     ]
    }
   ],
   "source": [
    "cd ../../.."
   ]
  },
  {
   "cell_type": "code",
   "execution_count": 2,
   "id": "484efd46-07ee-4c72-98b2-9ef9aee185d3",
   "metadata": {
    "ExecuteTime": {
     "end_time": "2023-08-27T14:19:29.639895290Z",
     "start_time": "2023-08-27T14:19:03.250469683Z"
    }
   },
   "outputs": [],
   "source": [
    "import pandas as pd\n",
    "import glob\n",
    "from datetime import datetime, timedelta\n",
    "import networkx as nx\n",
    "import math\n",
    "import numpy as np\n",
    "import matplotlib.pyplot as plt\n",
    "from itertools import count\n",
    "import seaborn as sns\n",
    "import netgraph as ng\n",
    "from collections import defaultdict\n",
    "from hashlib import sha1\n",
    "import json\n",
    "import pandas as pd\n",
    "import netgraph as ng"
   ]
  },
  {
   "cell_type": "code",
   "execution_count": 3,
   "id": "71677c61",
   "metadata": {
    "ExecuteTime": {
     "end_time": "2023-08-27T14:19:29.649755783Z",
     "start_time": "2023-08-27T14:19:03.407329166Z"
    }
   },
   "outputs": [],
   "source": [
    "from traced import TraceMonitor, SiteTraceMonitor"
   ]
  },
  {
   "cell_type": "code",
   "execution_count": 4,
   "id": "4ac7e9f6-3cac-4205-8ede-8680b9b77029",
   "metadata": {
    "ExecuteTime": {
     "end_time": "2023-08-27T14:19:29.650392552Z",
     "start_time": "2023-08-27T14:19:03.416243832Z"
    }
   },
   "outputs": [],
   "source": [
    "pd.set_option('display.max_rows', 500)\n",
    "pd.set_option('display.max_columns', 500)\n",
    "pd.set_option('display.width', 1000)\n",
    "\n",
    "np.printoptions(precision=2)\n",
    "\n",
    "sns.set_style(\"darkgrid\")\n",
    "sns.set_context(\"paper\")"
   ]
  },
  {
   "attachments": {},
   "cell_type": "markdown",
   "id": "6803bee1-6145-4186-b8c6-4016540ffa24",
   "metadata": {},
   "source": [
    "# Get files"
   ]
  },
  {
   "cell_type": "code",
   "execution_count": 5,
   "id": "4eba599e",
   "metadata": {
    "ExecuteTime": {
     "end_time": "2023-08-27T14:19:29.650665411Z",
     "start_time": "2023-08-27T14:19:03.461811381Z"
    }
   },
   "outputs": [],
   "source": [
    "dataset = 'FZK_LCCG2-INFN_T1'\n",
    "# dataset = 'INFN_T1-CSCS_LCG2'\n",
    "dataset = 'CA_SFU_T2-CSCS_LCG2'\n",
    "# dataset = 'SARA_MATRIX-CSCS_LCG2'\n",
    "# dataset = 'CA-VICTORIA-WESTGRID-T2_CSCS-LCG2'\n",
    "# dataset = 'NDGF_T1-CSCS_LCG2'\n",
    "# dataset = 'BNL_ATLAS-CSCS_LCG2'\n",
    "# dataset = 'Nebraska-CSCS_LCG2'\n",
    "# dataset = 'GLOW-CSCS_LCG2'\n",
    "# dataset = 'AGLT2-CSCS_LCG2'"
   ]
  },
  {
   "cell_type": "code",
   "execution_count": 6,
   "id": "bff48f0a-c201-46f1-b197-388aa6b79a12",
   "metadata": {
    "ExecuteTime": {
     "end_time": "2023-08-27T14:19:29.651166505Z",
     "start_time": "2023-08-27T14:19:03.461985667Z"
    }
   },
   "outputs": [
    {
     "data": {
      "text/plain": "44635"
     },
     "execution_count": 6,
     "metadata": {},
     "output_type": "execute_result"
    }
   ],
   "source": [
    "# files = sorted(glob.glob(\"data/sites/CA_SFU_T2-CSCS_LCG2/*.json\"))\n",
    "files = sorted(glob.glob(f\"data/sites/{dataset}/*.json\"))\n",
    "len(files)\n"
   ]
  },
  {
   "cell_type": "code",
   "execution_count": 7,
   "id": "d83d7f89",
   "metadata": {
    "ExecuteTime": {
     "end_time": "2023-08-27T14:19:29.651352630Z",
     "start_time": "2023-08-27T14:19:03.570798748Z"
    }
   },
   "outputs": [],
   "source": [
    "with open(files[0], 'r') as f:\n",
    "    data = json.load(f)"
   ]
  },
  {
   "cell_type": "code",
   "execution_count": 8,
   "id": "93c9860f",
   "metadata": {
    "ExecuteTime": {
     "end_time": "2023-08-27T14:19:29.651505664Z",
     "start_time": "2023-08-27T14:19:03.613944937Z"
    }
   },
   "outputs": [],
   "source": [
    "src, dest = data['src'], data['dest']"
   ]
  },
  {
   "attachments": {},
   "cell_type": "markdown",
   "id": "274cb3c9",
   "metadata": {},
   "source": [
    "# Processing"
   ]
  },
  {
   "cell_type": "code",
   "execution_count": 9,
   "id": "15288963",
   "metadata": {
    "ExecuteTime": {
     "end_time": "2023-08-27T14:19:29.651659983Z",
     "start_time": "2023-08-27T14:19:03.614101509Z"
    }
   },
   "outputs": [],
   "source": [
    "files = sorted(\n",
    "    # glob.glob(\"data/out/FZK_LCCG2-INF_T1/*.json\")\n",
    "    files\n",
    "    )"
   ]
  },
  {
   "cell_type": "code",
   "execution_count": 10,
   "id": "114b92f4",
   "metadata": {
    "ExecuteTime": {
     "end_time": "2023-08-27T14:19:29.651811602Z",
     "start_time": "2023-08-27T14:19:03.614197277Z"
    }
   },
   "outputs": [],
   "source": [
    "%load_ext snakeviz"
   ]
  },
  {
   "cell_type": "code",
   "execution_count": 11,
   "id": "8f161172",
   "metadata": {
    "ExecuteTime": {
     "end_time": "2023-08-27T14:19:29.651961143Z",
     "start_time": "2023-08-27T14:19:03.614311741Z"
    }
   },
   "outputs": [],
   "source": [
    "with open(files[12], \"r\") as f:\n",
    "    json_data = json.load(f)"
   ]
  },
  {
   "cell_type": "code",
   "execution_count": 12,
   "id": "f7f8c264",
   "metadata": {
    "ExecuteTime": {
     "end_time": "2023-08-27T14:19:29.652111724Z",
     "start_time": "2023-08-27T14:19:03.657776494Z"
    }
   },
   "outputs": [],
   "source": [
    "src_site, dest_site = dataset.split('-')"
   ]
  },
  {
   "cell_type": "code",
   "execution_count": 13,
   "id": "f096c9e8",
   "metadata": {
    "ExecuteTime": {
     "end_time": "2023-08-27T14:19:29.652258707Z",
     "start_time": "2023-08-27T14:19:03.657934684Z"
    }
   },
   "outputs": [],
   "source": [
    "stm = SiteTraceMonitor(src_site, dest_site)"
   ]
  },
  {
   "cell_type": "code",
   "execution_count": 14,
   "id": "070e8233",
   "metadata": {
    "ExecuteTime": {
     "end_time": "2023-08-27T14:19:29.652615911Z",
     "start_time": "2023-08-27T14:19:03.658031848Z"
    }
   },
   "outputs": [
    {
     "data": {
      "text/plain": "'CA_SFU_T2'"
     },
     "execution_count": 14,
     "metadata": {},
     "output_type": "execute_result"
    }
   ],
   "source": [
    "stm.src"
   ]
  },
  {
   "cell_type": "code",
   "execution_count": 15,
   "id": "4396784a",
   "metadata": {
    "ExecuteTime": {
     "end_time": "2023-08-27T14:19:29.652773694Z",
     "start_time": "2023-08-27T14:19:03.658131964Z"
    }
   },
   "outputs": [],
   "source": [
    "## NOTE: I substracted index from ttl\n",
    "## NOTE: Does TTL anomalies occur in same path, do they correlate with RTT anomalies?"
   ]
  },
  {
   "cell_type": "code",
   "execution_count": 16,
   "id": "e05952c3",
   "metadata": {
    "scrolled": true,
    "ExecuteTime": {
     "end_time": "2023-08-27T14:19:52.318647948Z",
     "start_time": "2023-08-27T14:19:03.658224598Z"
    }
   },
   "outputs": [
    {
     "name": "stderr",
     "output_type": "stream",
     "text": [
      "100%|██████████| 44635/44635 [00:48<00:00, 917.88it/s] \n"
     ]
    }
   ],
   "source": [
    "stm.process(files)"
   ]
  },
  {
   "cell_type": "code",
   "execution_count": 17,
   "id": "cd4f89a4",
   "metadata": {
    "ExecuteTime": {
     "end_time": "2023-08-27T14:19:52.319151478Z",
     "start_time": "2023-08-27T14:19:52.317955326Z"
    }
   },
   "outputs": [
    {
     "data": {
      "text/plain": "[1, 2, 3, 4, 5, 6, 7, 8, 9, 10, 11, 12, 13, 14, 16]"
     },
     "execution_count": 17,
     "metadata": {},
     "output_type": "execute_result"
    }
   ],
   "source": [
    "json_data['ttls']"
   ]
  },
  {
   "cell_type": "code",
   "execution_count": 18,
   "id": "b52559ca",
   "metadata": {
    "ExecuteTime": {
     "end_time": "2023-08-27T14:19:52.349924414Z",
     "start_time": "2023-08-27T14:19:52.318224614Z"
    }
   },
   "outputs": [],
   "source": [
    "import random\n",
    "pair = random.choice(list(stm.trace_models.keys()))"
   ]
  },
  {
   "cell_type": "code",
   "execution_count": 19,
   "id": "0789d5c2",
   "metadata": {
    "ExecuteTime": {
     "end_time": "2023-08-27T14:19:52.350256266Z",
     "start_time": "2023-08-27T14:19:52.318389653Z"
    }
   },
   "outputs": [],
   "source": [
    "# for model in stm.trace_models[pair].rtt_poissons.values():\n",
    "#     model.plot()"
   ]
  },
  {
   "cell_type": "code",
   "execution_count": 20,
   "id": "2f0924e0",
   "metadata": {
    "ExecuteTime": {
     "end_time": "2023-08-27T14:19:52.350797508Z",
     "start_time": "2023-08-27T14:19:52.318555207Z"
    }
   },
   "outputs": [
    {
     "ename": "SyntaxError",
     "evalue": "invalid syntax (1426321339.py, line 1)",
     "output_type": "error",
     "traceback": [
      "\u001B[0;36m  Cell \u001B[0;32mIn[20], line 1\u001B[0;36m\u001B[0m\n\u001B[0;31m    stm.trace_models[pair].\u001B[0m\n\u001B[0m                           ^\u001B[0m\n\u001B[0;31mSyntaxError\u001B[0m\u001B[0;31m:\u001B[0m invalid syntax\n"
     ]
    }
   ],
   "source": [
    "stm.trace_models[pair]."
   ]
  },
  {
   "cell_type": "code",
   "execution_count": null,
   "id": "9aacd7b5",
   "metadata": {
    "ExecuteTime": {
     "start_time": "2023-08-27T14:19:52.318773424Z"
    }
   },
   "outputs": [],
   "source": [
    "data = stm.trace_models[pair].hops_ip_model.path_probs.to_frame()\n",
    "data = data[filter(lambda x: x[0]== 'p', data.columns)]"
   ]
  },
  {
   "cell_type": "code",
   "execution_count": null,
   "id": "4fee34c5",
   "metadata": {
    "ExecuteTime": {
     "start_time": "2023-08-27T14:19:52.349487901Z"
    }
   },
   "outputs": [],
   "source": [
    "keys = iter(list(stm.trace_models[pair].rtt_models.keys()))"
   ]
  },
  {
   "cell_type": "code",
   "execution_count": null,
   "id": "08dd58e1",
   "metadata": {
    "ExecuteTime": {
     "start_time": "2023-08-27T14:19:52.349793643Z"
    }
   },
   "outputs": [],
   "source": [
    "key =  next(keys)"
   ]
  },
  {
   "cell_type": "code",
   "execution_count": null,
   "id": "5a587229",
   "metadata": {
    "ExecuteTime": {
     "start_time": "2023-08-27T14:19:52.350084119Z"
    }
   },
   "outputs": [],
   "source": [
    "keys = random.choice(list(stm.trace_models[pair].rtt_models.keys()))"
   ]
  },
  {
   "cell_type": "code",
   "execution_count": null,
   "id": "5affee91",
   "metadata": {
    "ExecuteTime": {
     "start_time": "2023-08-27T14:19:52.350378841Z"
    }
   },
   "outputs": [],
   "source": [
    "fig = plt.figure(figsize=(12, 6))\n",
    "\n",
    "stm.trace_models[pair].destination_reached_model.plot()"
   ]
  },
  {
   "cell_type": "code",
   "execution_count": null,
   "metadata": {
    "ExecuteTime": {
     "start_time": "2023-08-27T14:19:52.350586590Z"
    }
   },
   "outputs": [],
   "source": [
    "stm.trace_models[pair].n_hops_model.plot()"
   ],
   "id": "1fc666959d7c5b42"
  },
  {
   "cell_type": "code",
   "execution_count": null,
   "id": "2020f63f",
   "metadata": {
    "ExecuteTime": {
     "end_time": "2023-08-27T14:19:52.514103662Z",
     "start_time": "2023-08-27T14:19:52.351040562Z"
    }
   },
   "outputs": [],
   "source": [
    "stm.trace_models[pair].destination_reached_model.to_frame()['success_prob'].diff().apply(lambda x: np.log1p(-x)).plot()"
   ]
  },
  {
   "cell_type": "code",
   "execution_count": null,
   "id": "277ec059",
   "metadata": {
    "ExecuteTime": {
     "start_time": "2023-08-27T14:19:52.351374823Z"
    }
   },
   "outputs": [],
   "source": [
    "fig = plt.figure(figsize=(12, 6))\n",
    "stm.trace_models[pair].rtt_models[key].plot(fig.gca())"
   ]
  },
  {
   "cell_type": "code",
   "execution_count": null,
   "id": "3cb4cb98",
   "metadata": {
    "ExecuteTime": {
     "start_time": "2023-08-27T14:19:52.351589389Z"
    }
   },
   "outputs": [],
   "source": [
    "fig = plt.figure(figsize=(12, 6))\n",
    "stm.trace_models[pair].hops_ip_model.node_prob_edge_prob.plot(fig.gca())"
   ]
  },
  {
   "cell_type": "code",
   "execution_count": null,
   "id": "f4485a00",
   "metadata": {
    "ExecuteTime": {
     "start_time": "2023-08-27T14:19:52.351804554Z"
    }
   },
   "outputs": [],
   "source": [
    "fig = plt.figure(figsize=(12, 6))\n",
    "stm.trace_models[pair].hops_asn_model.node_prob_edge_prob.plot(fig.gca())"
   ]
  },
  {
   "cell_type": "code",
   "execution_count": null,
   "id": "5df1b00d",
   "metadata": {
    "ExecuteTime": {
     "start_time": "2023-08-27T14:19:52.352016727Z"
    }
   },
   "outputs": [],
   "source": [
    "fig = plt.figure(figsize=(12, 6))\n",
    "stm.trace_models[pair].path_probs.plot(fig.gca())\n",
    "fig.gca().get_legend().remove() "
   ]
  },
  {
   "cell_type": "code",
   "execution_count": null,
   "id": "19aa696d",
   "metadata": {
    "ExecuteTime": {
     "start_time": "2023-08-27T14:19:52.352217645Z"
    }
   },
   "outputs": [],
   "source": [
    "stm.trace_models[pair].ttl_poissons[key].plot()"
   ]
  },
  {
   "cell_type": "code",
   "execution_count": null,
   "id": "68c74ff9",
   "metadata": {
    "ExecuteTime": {
     "start_time": "2023-08-27T14:19:52.352419007Z"
    }
   },
   "outputs": [],
   "source": [
    "x = sorted(stm.trace_models[pair].detected.keys())"
   ]
  },
  {
   "cell_type": "code",
   "execution_count": null,
   "id": "198e286b",
   "metadata": {
    "ExecuteTime": {
     "start_time": "2023-08-27T14:19:52.352617034Z"
    }
   },
   "outputs": [],
   "source": [
    "detected = stm.trace_models[pair].detected"
   ]
  },
  {
   "cell_type": "code",
   "execution_count": null,
   "id": "9518af29",
   "metadata": {
    "ExecuteTime": {
     "start_time": "2023-08-27T14:19:52.352887213Z"
    }
   },
   "outputs": [],
   "source": [
    "import json"
   ]
  },
  {
   "cell_type": "code",
   "execution_count": null,
   "id": "91f3a94b",
   "metadata": {
    "ExecuteTime": {
     "start_time": "2023-08-27T14:19:52.355624141Z"
    }
   },
   "outputs": [],
   "source": [
    "tmp = '-'.join(dataset)\n"
   ]
  },
  {
   "cell_type": "code",
   "execution_count": null,
   "id": "96b1bc5c",
   "metadata": {
    "ExecuteTime": {
     "start_time": "2023-08-27T14:19:52.358592478Z"
    }
   },
   "outputs": [],
   "source": [
    "\n",
    "class CustomJSONizer(json.JSONEncoder):\n",
    "    def default(self, obj):\n",
    "        return super().encode(bool(obj)) \\\n",
    "            if isinstance(obj, np.bool_) \\\n",
    "            else super().default(obj)\n",
    "    "
   ]
  },
  {
   "cell_type": "code",
   "execution_count": null,
   "id": "dba17c49",
   "metadata": {
    "ExecuteTime": {
     "start_time": "2023-08-27T14:19:52.361444504Z"
    }
   },
   "outputs": [],
   "source": [
    "aaaa= detected[0]"
   ]
  },
  {
   "cell_type": "code",
   "execution_count": null,
   "id": "ada1ee2d",
   "metadata": {
    "ExecuteTime": {
     "start_time": "2023-08-27T14:19:52.364281565Z"
    }
   },
   "outputs": [],
   "source": [
    "aaaa"
   ]
  },
  {
   "cell_type": "code",
   "execution_count": null,
   "id": "5db7a23d",
   "metadata": {
    "ExecuteTime": {
     "start_time": "2023-08-27T14:19:52.367286575Z"
    }
   },
   "outputs": [],
   "source": [
    "# for i in stm.trace_models[model].detected.values():\n",
    "#     json.dumps(dict(stm.trace_models[model].detected))\n",
    "    "
   ]
  },
  {
   "cell_type": "code",
   "execution_count": null,
   "id": "69ee213d",
   "metadata": {
    "ExecuteTime": {
     "start_time": "2023-08-27T14:19:52.370094686Z"
    }
   },
   "outputs": [],
   "source": [
    "# for k, j in i.items():\n",
    "#     try:\n",
    "#         json.dumps(j)\n",
    "#     except TypeError as e:\n",
    "#         print(k, j)\n",
    "#         pass"
   ]
  },
  {
   "cell_type": "code",
   "execution_count": null,
   "id": "76b58675",
   "metadata": {
    "ExecuteTime": {
     "start_time": "2023-08-27T14:19:52.372799707Z"
    }
   },
   "outputs": [],
   "source": [
    "for model in stm.trace_models:\n",
    "    print('->'.join(model), len(stm.trace_models[model].detected))\n",
    "\n",
    "    with open(f\"data/out/{dataset}/{'->'.join(model)}.json\", 'w') as f:\n",
    "        json.dump(dict(stm.trace_models[model].detected), f)"
   ]
  },
  {
   "cell_type": "code",
   "execution_count": null,
   "id": "f718aa1e",
   "metadata": {
    "ExecuteTime": {
     "start_time": "2023-08-27T14:19:52.375659093Z"
    }
   },
   "outputs": [],
   "source": [
    "tmp = iter(x)"
   ]
  },
  {
   "cell_type": "code",
   "execution_count": null,
   "id": "5183612b",
   "metadata": {
    "ExecuteTime": {
     "start_time": "2023-08-27T14:19:52.378530617Z"
    }
   },
   "outputs": [],
   "source": [
    "while i:= next(tmp):\n",
    "    if detected[i]['has_anomaly']:\n",
    "        break\n",
    "i"
   ]
  },
  {
   "cell_type": "code",
   "execution_count": null,
   "id": "916308a7",
   "metadata": {
    "ExecuteTime": {
     "start_time": "2023-08-27T14:19:52.383293981Z"
    }
   },
   "outputs": [],
   "source": [
    "detected[i].keys()"
   ]
  },
  {
   "cell_type": "code",
   "execution_count": null,
   "id": "4b38a30b",
   "metadata": {
    "ExecuteTime": {
     "start_time": "2023-08-27T14:19:52.385128168Z"
    }
   },
   "outputs": [],
   "source": [
    "shares = [ ]\n",
    "for j in x:\n",
    "    shares.append(detected[j]['anom_share'])"
   ]
  },
  {
   "cell_type": "code",
   "execution_count": null,
   "id": "3b8bf18c",
   "metadata": {
    "ExecuteTime": {
     "start_time": "2023-08-27T14:19:52.387984432Z"
    }
   },
   "outputs": [],
   "source": [
    "plt.plot(x, shares)"
   ]
  },
  {
   "cell_type": "code",
   "execution_count": null,
   "id": "7a7b54dd",
   "metadata": {
    "ExecuteTime": {
     "start_time": "2023-08-27T14:19:52.390781420Z"
    }
   },
   "outputs": [],
   "source": [
    "df = pd.DataFrame(shares, index=x, columns=['anom_share'])"
   ]
  },
  {
   "cell_type": "code",
   "execution_count": null,
   "id": "cb83faef",
   "metadata": {
    "ExecuteTime": {
     "start_time": "2023-08-27T14:19:52.393624553Z"
    }
   },
   "outputs": [],
   "source": [
    "df"
   ]
  },
  {
   "cell_type": "code",
   "execution_count": null,
   "id": "d648098d",
   "metadata": {
    "ExecuteTime": {
     "start_time": "2023-08-27T14:19:52.396323022Z"
    }
   },
   "outputs": [],
   "source": [
    "df['mean_ip_prob'] = None \n",
    "for i in x:\n",
    "    df.loc[i, 'mean_ip_prob'] = detected[i]['ip'][2]"
   ]
  },
  {
   "cell_type": "code",
   "execution_count": null,
   "id": "ee8f8450",
   "metadata": {
    "ExecuteTime": {
     "start_time": "2023-08-27T14:19:52.399107641Z"
    }
   },
   "outputs": [],
   "source": [
    "df['mean_as_prob'] = None \n",
    "for i in x:\n",
    "    df.loc[i, 'mean_as_prob'] = detected[i]['asn'][2]\n"
   ]
  },
  {
   "cell_type": "code",
   "execution_count": null,
   "id": "553a5f95",
   "metadata": {
    "ExecuteTime": {
     "start_time": "2023-08-27T14:19:52.402202984Z"
    }
   },
   "outputs": [],
   "source": [
    "df['mean_ttl_prob'] = None \n",
    "for i in x:\n",
    "    _, prob = list(zip(*detected[i]['ttls']))\n",
    "    df.loc[i, 'mean_ttl_prob'] = np.mean(prob)\n"
   ]
  },
  {
   "cell_type": "code",
   "execution_count": null,
   "id": "7e8dba82",
   "metadata": {
    "ExecuteTime": {
     "start_time": "2023-08-27T14:19:52.404969304Z"
    }
   },
   "outputs": [],
   "source": [
    "len(list(zip(*detected[i]['rtts'])))"
   ]
  },
  {
   "cell_type": "code",
   "execution_count": null,
   "id": "a7a0250c",
   "metadata": {
    "ExecuteTime": {
     "start_time": "2023-08-27T14:19:52.408185669Z"
    }
   },
   "outputs": [],
   "source": [
    "df['mean_rtt_pdf'] = None \n",
    "for i in x:\n",
    "    _, prob, _, _, _ = list(zip(*detected[i]['rtts']))\n",
    "    df.loc[i, 'mean_rtt_pdf'] = np.mean(prob)\n"
   ]
  },
  {
   "cell_type": "code",
   "execution_count": null,
   "id": "e67000fe",
   "metadata": {
    "ExecuteTime": {
     "start_time": "2023-08-27T14:19:52.411394903Z"
    }
   },
   "outputs": [],
   "source": [
    "df['path_prob'] = None \n",
    "\n",
    "for i in x:\n",
    "    df.loc[i, 'path_prob'] = detected[i]['path'][1]"
   ]
  },
  {
   "cell_type": "code",
   "execution_count": null,
   "id": "b0804df9",
   "metadata": {
    "ExecuteTime": {
     "start_time": "2023-08-27T14:19:52.414400609Z"
    }
   },
   "outputs": [],
   "source": [
    "df['dest_reached_prob']=None\n",
    "for i in x:\n",
    "    df.loc[i, 'dest_reached_prob'] = detected[i]['reached'][1]\n"
   ]
  },
  {
   "cell_type": "code",
   "execution_count": null,
   "id": "e4652bea",
   "metadata": {
    "ExecuteTime": {
     "start_time": "2023-08-27T14:19:52.417084488Z"
    }
   },
   "outputs": [],
   "source": [
    "detected[i]['reached'][1]"
   ]
  },
  {
   "cell_type": "code",
   "execution_count": null,
   "id": "2b02f10a",
   "metadata": {
    "ExecuteTime": {
     "start_time": "2023-08-27T14:19:52.419790780Z"
    }
   },
   "outputs": [],
   "source": [
    "df.sort_index(axis=1).corr(method='spearman').style.set_caption(\"correlation\").background_gradient(cmap='coolwarm')"
   ]
  },
  {
   "cell_type": "markdown",
   "id": "f577a5f7",
   "metadata": {},
   "source": [
    "## TTL and RTT vs link length\n"
   ]
  },
  {
   "cell_type": "code",
   "execution_count": null,
   "id": "46354dcf",
   "metadata": {
    "ExecuteTime": {
     "start_time": "2023-08-27T14:19:52.422545146Z"
    }
   },
   "outputs": [],
   "source": [
    "# files = sorted(glob.glob(\"data/sites/CA_SFU_T2-CSCS_LCG2/*.json\"))\n",
    "data = []\n"
   ]
  },
  {
   "cell_type": "code",
   "execution_count": null,
   "id": "60e563d7",
   "metadata": {
    "ExecuteTime": {
     "start_time": "2023-08-27T14:19:52.425377676Z"
    }
   },
   "outputs": [],
   "source": [
    "for file in files:\n",
    "    with open(file, 'r') as f:\n",
    "        json_data = json.load(f)\n",
    "    src = json_data['src']\n",
    "    hops = json_data['hops']\n",
    "    rtts = json_data['rtts']\n",
    "    ttls = json_data['ttls']\n",
    "    curr=src\n",
    "    for next_hop, rtt, ttl in zip(hops, rtts, ttls):\n",
    "        data.append([\n",
    "            curr,\n",
    "            next_hop,\n",
    "            rtt,\n",
    "            ttl\n",
    "        ])\n",
    "        curr = next_hop"
   ]
  },
  {
   "cell_type": "code",
   "execution_count": null,
   "id": "75b79b5c",
   "metadata": {
    "ExecuteTime": {
     "start_time": "2023-08-27T14:19:52.429157924Z"
    }
   },
   "outputs": [],
   "source": [
    "df2 = pd.DataFrame(data, columns=['src', 'dest', 'rtt', 'ttl'])\n",
    "df2"
   ]
  },
  {
   "cell_type": "code",
   "execution_count": null,
   "id": "f18aa9ff",
   "metadata": {
    "ExecuteTime": {
     "start_time": "2023-08-27T14:19:52.432126703Z"
    }
   },
   "outputs": [],
   "source": [
    "geo_files = glob.glob(\"data/out/geo_data/*.json\")\n",
    "multi_site_nodes = defaultdict(list)\n",
    "node_pos = {}\n",
    "src_dest = set()\n",
    "all_nodes  = set()"
   ]
  },
  {
   "cell_type": "code",
   "execution_count": null,
   "id": "4648041a",
   "metadata": {
    "ExecuteTime": {
     "start_time": "2023-08-27T14:19:52.434865240Z"
    }
   },
   "outputs": [],
   "source": [
    "node_pos"
   ]
  },
  {
   "cell_type": "code",
   "execution_count": null,
   "id": "c23e2e91",
   "metadata": {
    "ExecuteTime": {
     "start_time": "2023-08-27T14:19:52.437774439Z"
    }
   },
   "outputs": [],
   "source": [
    "edges = defaultdict(list)\n",
    "for file in geo_files:\n",
    "    with open(file, \"r\") as f:\n",
    "        data = json.load(f)\n",
    "    dataset = tuple(file.split('/')[-1].split('-')[:2])\n",
    "    src_dest.add(data['src'])\n",
    "    src_dest.add(data['dest'])\n",
    "    for node, ip in data['node_mapping'].items():\n",
    "        if ip in all_nodes:\n",
    "            multi_site_nodes[ip].append(data['node_pos'][node])\n",
    "        else:\n",
    "            all_nodes.add(ip)\n",
    "            node_pos[ip] = data['node_pos'][node]\n",
    "    \n",
    "    edges[dataset] += data['edges']"
   ]
  },
  {
   "cell_type": "code",
   "execution_count": null,
   "id": "fb661470",
   "metadata": {
    "ExecuteTime": {
     "start_time": "2023-08-27T14:19:52.440794117Z"
    }
   },
   "outputs": [],
   "source": [
    "geo = pd.concat(pd.read_csv(x) for x in glob.glob(\"data/ip_metadata/*.csv\"))"
   ]
  },
  {
   "cell_type": "code",
   "execution_count": null,
   "id": "fed3371b",
   "metadata": {
    "ExecuteTime": {
     "start_time": "2023-08-27T14:19:52.443508863Z"
    }
   },
   "outputs": [],
   "source": [
    "def haversine_distance(lat1, lon1, lat2, lon2):\n",
    "    try:\n",
    "        # Convert decimal degrees to radians\n",
    "        lat1, lon1, lat2, lon2 = map(math.radians, [lat1, lon1, lat2, lon2])\n",
    "\n",
    "        # Haversine formula\n",
    "        dlon = lon2 - lon1\n",
    "        dlat = lat2 - lat1\n",
    "        a = math.sin(dlat/2) ** 2 + math.cos(lat1) * math.cos(lat2) * math.sin(dlon/2) ** 2\n",
    "        c = 2 * math.atan2(math.sqrt(a), math.sqrt(1-a))\n",
    "        radius = 6371  # Radius of the Earth in kilometers\n",
    "        distance = radius * c\n",
    "    except (ValueError, TypeError):\n",
    "        distance = np.nan\n",
    "        \n",
    "    return distance\n"
   ]
  },
  {
   "cell_type": "code",
   "execution_count": null,
   "id": "3765d89c",
   "metadata": {
    "ExecuteTime": {
     "start_time": "2023-08-27T14:19:52.446828594Z"
    }
   },
   "outputs": [],
   "source": [
    "def get_geo_info(ip):\n",
    "     ip = ip.strip()\n",
    "     return node_pos[ip]\n"
   ]
  },
  {
   "cell_type": "code",
   "execution_count": null,
   "id": "3995a878",
   "metadata": {
    "ExecuteTime": {
     "start_time": "2023-08-27T14:19:52.451028248Z"
    }
   },
   "outputs": [],
   "source": [
    "get_geo_info('206.12.127.40')"
   ]
  },
  {
   "cell_type": "code",
   "execution_count": null,
   "id": "ac7746b7",
   "metadata": {
    "ExecuteTime": {
     "start_time": "2023-08-27T14:19:52.453747048Z"
    }
   },
   "outputs": [],
   "source": [
    "df2.head()"
   ]
  },
  {
   "cell_type": "code",
   "execution_count": null,
   "id": "fa5bbe69",
   "metadata": {
    "ExecuteTime": {
     "start_time": "2023-08-27T14:19:52.456410597Z"
    }
   },
   "outputs": [],
   "source": [
    "haversine_distance(*get_geo_info('206.12.127.40'),*get_geo_info('206.12.127.40'))"
   ]
  },
  {
   "cell_type": "code",
   "execution_count": null,
   "id": "947c9504",
   "metadata": {
    "ExecuteTime": {
     "start_time": "2023-08-27T14:19:52.459234888Z"
    }
   },
   "outputs": [],
   "source": [
    "geo[geo['latitude'].isna()]"
   ]
  },
  {
   "cell_type": "code",
   "execution_count": null,
   "id": "a525c59e",
   "metadata": {
    "ExecuteTime": {
     "start_time": "2023-08-27T14:19:52.461963464Z"
    }
   },
   "outputs": [],
   "source": [
    "df2['distance'] = np.nan"
   ]
  },
  {
   "cell_type": "code",
   "execution_count": null,
   "id": "c5de4b45",
   "metadata": {
    "ExecuteTime": {
     "start_time": "2023-08-27T14:19:52.464671754Z"
    }
   },
   "outputs": [],
   "source": [
    "def calculate_distance(row):\n",
    "    distance = np.nan\n",
    "    # print(get_geo_info(row['src']), get_geo_info(row['dest']))\n",
    "    try:\n",
    "        distance = haversine_distance(*get_geo_info(row['src']), *get_geo_info(row['dest']))\n",
    "        # print(distance)\n",
    "    except (ValueError, IndexError):\n",
    "        distance = np.nan\n",
    "    finally: \n",
    "        return distance"
   ]
  },
  {
   "cell_type": "code",
   "execution_count": null,
   "id": "af7d3322",
   "metadata": {
    "ExecuteTime": {
     "start_time": "2023-08-27T14:19:52.467644869Z"
    }
   },
   "outputs": [],
   "source": [
    "df2.sample(n=1).apply(calculate_distance, axis=1)"
   ]
  },
  {
   "cell_type": "code",
   "execution_count": null,
   "id": "d0941230",
   "metadata": {
    "ExecuteTime": {
     "start_time": "2023-08-27T14:19:52.470919475Z"
    }
   },
   "outputs": [],
   "source": [
    "df2['distance'] = df2.apply(calculate_distance, axis=1)"
   ]
  },
  {
   "cell_type": "code",
   "execution_count": null,
   "id": "a88341de",
   "metadata": {
    "ExecuteTime": {
     "start_time": "2023-08-27T14:19:52.474261720Z"
    }
   },
   "outputs": [],
   "source": [
    "df2.dropna().corr(method='pearson', numeric_only=True)"
   ]
  },
  {
   "cell_type": "code",
   "execution_count": null,
   "id": "43113a6c",
   "metadata": {
    "ExecuteTime": {
     "start_time": "2023-08-27T14:19:52.477824001Z"
    }
   },
   "outputs": [],
   "source": [
    "df2.dropna().plot(kind='scatter', x='log_rtt', y='sqrt_dist')"
   ]
  },
  {
   "cell_type": "code",
   "execution_count": null,
   "id": "89348f34",
   "metadata": {
    "ExecuteTime": {
     "start_time": "2023-08-27T14:19:52.481183785Z"
    }
   },
   "outputs": [],
   "source": [
    "df2.dropna().plot(kind='scatter', x='sqrt_dist', y='ttl')"
   ]
  },
  {
   "cell_type": "code",
   "execution_count": null,
   "id": "ece97a4e",
   "metadata": {
    "ExecuteTime": {
     "start_time": "2023-08-27T14:19:52.484273737Z"
    }
   },
   "outputs": [],
   "source": [
    "df2['sqrt_ttl'] = df2['ttl'].apply(np.sqrt)\n",
    "df2['log_ttl'] = df2['ttl'].apply(np.log)"
   ]
  },
  {
   "cell_type": "code",
   "execution_count": null,
   "id": "27eaac4a",
   "metadata": {
    "ExecuteTime": {
     "start_time": "2023-08-27T14:19:52.487346047Z"
    }
   },
   "outputs": [],
   "source": [
    "df2['sqrt_dist'] = df2['distance'].apply(np.sqrt)\n",
    "df2['log_dist'] = df2['distance'].apply(np.log)"
   ]
  },
  {
   "cell_type": "code",
   "execution_count": null,
   "id": "0a99ce73",
   "metadata": {
    "ExecuteTime": {
     "start_time": "2023-08-27T14:19:52.490239938Z"
    }
   },
   "outputs": [],
   "source": [
    "df2['log_rtt'] = df2['rtt'].apply(np.log)\n",
    "df2['sqrt_rtt'] = df2['rtt'].apply(np.sqrt)"
   ]
  },
  {
   "cell_type": "code",
   "execution_count": null,
   "id": "63134a75",
   "metadata": {
    "ExecuteTime": {
     "start_time": "2023-08-27T14:19:52.492970771Z"
    }
   },
   "outputs": [],
   "source": [
    "df2.dropna().plot(kind='scatter', x='sqrt_rtt', y='sqrt_ttl')"
   ]
  },
  {
   "cell_type": "code",
   "execution_count": null,
   "id": "3f2cdf67",
   "metadata": {
    "ExecuteTime": {
     "start_time": "2023-08-27T14:19:52.496121226Z"
    }
   },
   "outputs": [],
   "source": [
    "df2.corr(method='spearman', numeric_only=True)"
   ]
  },
  {
   "cell_type": "code",
   "execution_count": null,
   "id": "70d5530c",
   "metadata": {
    "ExecuteTime": {
     "start_time": "2023-08-27T14:19:52.499129559Z"
    }
   },
   "outputs": [],
   "source": [
    "from tqdm.auto import tqdm"
   ]
  },
  {
   "cell_type": "code",
   "execution_count": null,
   "id": "b5639c80",
   "metadata": {
    "ExecuteTime": {
     "start_time": "2023-08-27T14:19:52.501954410Z"
    }
   },
   "outputs": [],
   "source": [
    "distances = {\n",
    "    (x['src'], x['dest']): x['distance']\n",
    "    for i,x in df2.iterrows()\n",
    "}"
   ]
  },
  {
   "cell_type": "code",
   "execution_count": null,
   "id": "f4551b0a",
   "metadata": {
    "ExecuteTime": {
     "start_time": "2023-08-27T14:19:52.504813587Z"
    }
   },
   "outputs": [],
   "source": [
    "idk = []\n",
    "\n",
    "for file in tqdm(files):\n",
    "    with open(file, 'r') as f:\n",
    "        json_data = json.load(f)\n",
    "    src = json_data['src']\n",
    "    hops = json_data['hops']\n",
    "    rtts = json_data['rtts']\n",
    "    ttls = json_data['ttls']\n",
    "    curr=src\n",
    "    cum_size = 0\n",
    "    \n",
    "    for next_hop, rtt, ttl in zip(hops, rtts, ttls):\n",
    "        tmp = haversine_distance(*node_pos[curr], *node_pos[next_hop])\n",
    "        if np.isnan(tmp):\n",
    "            tmp = 0\n",
    "        cum_size += tmp\n",
    "        curr = next_hop\n",
    "    idk.append([cum_size, np.max(rtts, initial=0), np.max(ttls, initial=0)])"
   ]
  },
  {
   "cell_type": "code",
   "execution_count": null,
   "id": "9b82e866",
   "metadata": {
    "ExecuteTime": {
     "start_time": "2023-08-27T14:19:52.507931694Z"
    }
   },
   "outputs": [],
   "source": [
    "df3 = pd.DataFrame(idk, columns=['total_distance', 'total_rtt', 'total_ttl'])"
   ]
  },
  {
   "cell_type": "code",
   "execution_count": null,
   "id": "74d3e18c",
   "metadata": {
    "ExecuteTime": {
     "start_time": "2023-08-27T14:19:52.512484941Z"
    }
   },
   "outputs": [],
   "source": [
    "df3.corr(method='spearman')"
   ]
  },
  {
   "cell_type": "code",
   "execution_count": null,
   "id": "a053fc72",
   "metadata": {
    "ExecuteTime": {
     "end_time": "2023-08-27T14:19:52.670844156Z",
     "start_time": "2023-08-27T14:19:52.514486973Z"
    }
   },
   "outputs": [],
   "source": [
    "tmp = np.where(np.array(shares) > 0.5)\n",
    "tmp[0].shape"
   ]
  },
  {
   "cell_type": "code",
   "execution_count": null,
   "id": "26c018fa",
   "metadata": {
    "ExecuteTime": {
     "start_time": "2023-08-27T14:19:52.518154249Z"
    }
   },
   "outputs": [],
   "source": [
    "from collections import Counter\n",
    "c = Counter([detected[k]['path_hash'] for k in tmp[0]])\n",
    "c"
   ]
  },
  {
   "cell_type": "code",
   "execution_count": null,
   "id": "9f309a8c",
   "metadata": {
    "ExecuteTime": {
     "start_time": "2023-08-27T14:19:52.520912873Z"
    }
   },
   "outputs": [],
   "source": [
    "c2 = Counter([detected[k]['ip_hash'] for k in tmp[0]])\n",
    "c2"
   ]
  },
  {
   "cell_type": "code",
   "execution_count": null,
   "id": "18e2968c",
   "metadata": {
    "ExecuteTime": {
     "start_time": "2023-08-27T14:19:52.525671478Z"
    }
   },
   "outputs": [],
   "source": [
    "c3 = Counter([detected[k]['unique_asns'] for k in tmp[0]])\n",
    "c3"
   ]
  },
  {
   "cell_type": "code",
   "execution_count": null,
   "id": "ed1d588f",
   "metadata": {
    "ExecuteTime": {
     "start_time": "2023-08-27T14:19:52.529881739Z"
    }
   },
   "outputs": [],
   "source": [
    "from pprint import pprint"
   ]
  },
  {
   "cell_type": "code",
   "execution_count": null,
   "id": "3d33fb18",
   "metadata": {
    "ExecuteTime": {
     "start_time": "2023-08-27T14:19:52.532396813Z"
    }
   },
   "outputs": [],
   "source": [
    "tmp[0]"
   ]
  },
  {
   "cell_type": "code",
   "execution_count": null,
   "id": "3a419027",
   "metadata": {
    "ExecuteTime": {
     "start_time": "2023-08-27T14:19:52.535607424Z"
    }
   },
   "outputs": [],
   "source": [
    "d = detected[np.random.randint(0, len(detected))]\n",
    "plt.plot(d['ip'][1], label='ip probs')\n",
    "plt.plot(d['asn'][1], label='asn probs')\n",
    "rtt = np.array(list(zip(*d['rtts']))[1])\n",
    "# normalize rtt\n",
    "# rtt = (rtt - rtt.min()) / (rtt.max() - rtt.min())\n",
    "# rtt = (rtt ) / (rtt.std())\n",
    "\n",
    "ttl = np.array(list(zip(*d['ttls']))[1])\n",
    "\n",
    "plt.plot(rtt, label='rtt')\n",
    "plt.plot(ttl, label='ttl')\n",
    "plt.legend()"
   ]
  },
  {
   "cell_type": "code",
   "execution_count": null,
   "id": "a71b11da",
   "metadata": {
    "ExecuteTime": {
     "start_time": "2023-08-27T14:19:52.538950607Z"
    }
   },
   "outputs": [],
   "source": []
  },
  {
   "cell_type": "code",
   "execution_count": null,
   "id": "aa6d8a5b",
   "metadata": {
    "ExecuteTime": {
     "start_time": "2023-08-27T14:19:52.541981660Z"
    }
   },
   "outputs": [],
   "source": [
    "%matplotlib inline"
   ]
  },
  {
   "cell_type": "code",
   "execution_count": null,
   "id": "a3705b97",
   "metadata": {
    "ExecuteTime": {
     "start_time": "2023-08-27T14:19:52.545026601Z"
    }
   },
   "outputs": [],
   "source": [
    "max_hops = 0\n",
    "for k in tmp[0]:\n",
    "    k = detected[k]\n",
    "    max_hops = max(max_hops,len(k['ip'][1]))\n",
    "max_hops"
   ]
  },
  {
   "cell_type": "code",
   "execution_count": null,
   "id": "2746aa2d",
   "metadata": {
    "ExecuteTime": {
     "start_time": "2023-08-27T14:19:52.548111990Z"
    }
   },
   "outputs": [],
   "source": [
    "with open(files[0], 'r') as f:\n",
    "    data = json.load(f)"
   ]
  },
  {
   "cell_type": "code",
   "execution_count": null,
   "id": "536a1bf6",
   "metadata": {
    "ExecuteTime": {
     "start_time": "2023-08-27T14:19:52.552371750Z"
    }
   },
   "outputs": [],
   "source": [
    "import seaborn as sns\n",
    "\n",
    "sns.set_style(\"darkgrid\")\n",
    "sns.set_context(\"paper\")\n",
    "\n",
    "import numpy as np\n",
    "import matplotlib.pyplot as plt\n",
    "import matplotlib.animation as animation\n",
    "from scipy.stats import norm\n",
    "\n",
    "# Set up the figure and axis\n",
    "fig, ax = plt.subplots()\n",
    "\n",
    "plt.suptitle(f\"{data['src_site']} -> {data['dest_site']}\")\n",
    "\n",
    "ax.set_xlim(-0.5, max_hops + 0.5)\n",
    "ax.set_ylim(-0.05, 1.1)\n",
    "\n",
    "a, = ax.plot([0,12], [0,0], color='blue', label='RTT prob')\n",
    "b, = ax.plot([0,12], [0,0], color='red', label='TTL prob')\n",
    "c, = ax.plot([0,12], [0,0], color='green', label='IP prob')\n",
    "e, = ax.plot([0,12], [0,0], color='orange', label='ASN prob')\n",
    "# stems, = ax.plot([0, 1], [], marker='o', linestyle = 'None', color='red')\n",
    "\n",
    "ax.legend()\n",
    "\n",
    "# Initialize the line to be empty\n",
    "def init():\n",
    "    a.set_data([], [])\n",
    "    b.set_data([], [])\n",
    "    c.set_data([], [])\n",
    "    e.set_data([], [])\n",
    "    return a,b,c,e\n",
    "\n",
    "# Generate the frames for the animation\n",
    "def update(frame):\n",
    "\n",
    "    d = detected[frame]\n",
    "    ts = pd.to_datetime(d['ts'], unit='ms')\n",
    "    ax.set_title(f\"Anomaly detected at {ts}, score: {d['anom_share']:0.2f}, asn_hash: {d['unique_asns'][-6:]}\")\n",
    "\n",
    "    x = np.array(range(len(d['ip'][1])))\n",
    "\n",
    "    rtt = np.array(list(zip(*d['rtts']))[1])\n",
    "    # normalize rtt\n",
    "    rtt = (rtt - rtt.min()) / (rtt.max() - rtt.min())\n",
    "    # rtt = (rtt - rtt.mean()) / (rtt.std())\n",
    "\n",
    "    ttl = np.array(list(zip(*d['ttls']))[1])\n",
    "\n",
    "    a.set_data(x, rtt)\n",
    "    b.set_data(x, ttl)\n",
    "    c.set_data(x, d['ip'][1])\n",
    "    e.set_data(x, d['asn'][1])\n",
    "    \n",
    "    return a,b,c,e\n",
    "\n",
    "# Create the animation\n",
    "frames = tmp[0]  # Lambda values for each frame\n",
    "ani = animation.FuncAnimation(fig, update, frames=frames, init_func=init, blit=True)\n",
    "\n",
    "# Display the animation\n",
    "plt.show()\n"
   ]
  },
  {
   "cell_type": "code",
   "execution_count": null,
   "id": "5ec6a88b",
   "metadata": {
    "ExecuteTime": {
     "start_time": "2023-08-27T14:19:52.555007538Z"
    }
   },
   "outputs": [],
   "source": [
    "f'{data[\"src_site\"]}_{data[\"dest_site\"]}'"
   ]
  },
  {
   "cell_type": "code",
   "execution_count": null,
   "id": "fb85a9e0",
   "metadata": {
    "ExecuteTime": {
     "start_time": "2023-08-27T14:19:52.557925739Z"
    }
   },
   "outputs": [],
   "source": [
    "ani.save(f'{data[\"src_site\"]}_{data[\"dest_site\"]}_anomalies.gif', fps=1, )"
   ]
  },
  {
   "cell_type": "code",
   "execution_count": null,
   "id": "f31fa5c4",
   "metadata": {
    "ExecuteTime": {
     "start_time": "2023-08-27T14:19:52.561178851Z"
    }
   },
   "outputs": [],
   "source": [
    "pprint(detected[1408].keys())"
   ]
  },
  {
   "cell_type": "code",
   "execution_count": null,
   "id": "9279db74",
   "metadata": {
    "ExecuteTime": {
     "start_time": "2023-08-27T14:19:52.564078096Z"
    }
   },
   "outputs": [],
   "source": [
    "stm.trace_models[pair].ttl_poissons[key].to_frame()"
   ]
  },
  {
   "cell_type": "code",
   "execution_count": null,
   "id": "456790fc",
   "metadata": {
    "ExecuteTime": {
     "start_time": "2023-08-27T14:19:52.566961002Z"
    }
   },
   "outputs": [],
   "source": [
    "for model in list(stm.trace_models.values())[0].ttl_poissons.values():\n",
    "    model.plot()"
   ]
  },
  {
   "cell_type": "code",
   "execution_count": null,
   "id": "baa60c11",
   "metadata": {
    "ExecuteTime": {
     "start_time": "2023-08-27T14:19:52.569932607Z"
    }
   },
   "outputs": [],
   "source": [
    "ips = set()\n",
    "for k, v in stm.trace_models.items():\n",
    "    # fig, (ax, ax2) = plt.subplots(1, 2, figsize=(10, 5))\n",
    "    # v.hops_ip_model.plot(ax)\n",
    "    # v.hops_ip_model.plot_graph(ax)\n",
    "    # ax.legend()\n",
    "    # ax2.legend()\n",
    "    ips.update(v.hops_ip_model.nodes)"
   ]
  },
  {
   "cell_type": "code",
   "execution_count": null,
   "id": "846e35fd",
   "metadata": {
    "ExecuteTime": {
     "start_time": "2023-08-27T14:19:52.572934765Z"
    }
   },
   "outputs": [],
   "source": [
    "list(ips)"
   ]
  },
  {
   "cell_type": "code",
   "execution_count": null,
   "id": "95ff97b8",
   "metadata": {
    "ExecuteTime": {
     "start_time": "2023-08-27T14:19:52.578086290Z"
    }
   },
   "outputs": [],
   "source": [
    "# meta_df = pd.read_csv(f\"data/ip_metadata/{dataset}.csv\")\n"
   ]
  },
  {
   "cell_type": "code",
   "execution_count": null,
   "id": "85bc2ddd",
   "metadata": {
    "ExecuteTime": {
     "start_time": "2023-08-27T14:19:52.579980767Z"
    }
   },
   "outputs": [],
   "source": [
    "# ip_to_geo = meta_df[(meta_df['latitude'].notna())].set_index('ip')[['latitude', 'longitude']].apply(lambda x: np.array(tuple(x)), axis=1).to_dict()"
   ]
  },
  {
   "cell_type": "code",
   "execution_count": null,
   "id": "dd0cd70b",
   "metadata": {
    "ExecuteTime": {
     "start_time": "2023-08-27T14:19:52.584199327Z"
    }
   },
   "outputs": [],
   "source": [
    "# for k in stm.trace_models:\n",
    "#     with open(f\"data/out/geo_data/{dataset}-{k[0]}-{k[1]}.json\", \"w\") as f:\n",
    "#         f.write(stm.trace_models[k].hops_ip_model.to_json(ip_to_geo, 1))"
   ]
  },
  {
   "cell_type": "code",
   "execution_count": null,
   "id": "d31936ed",
   "metadata": {
    "ExecuteTime": {
     "start_time": "2023-08-27T14:19:52.588562860Z"
    }
   },
   "outputs": [],
   "source": [
    "import warnings\n",
    "warnings.filterwarnings('ignore')"
   ]
  },
  {
   "cell_type": "code",
   "execution_count": null,
   "id": "98498062",
   "metadata": {
    "ExecuteTime": {
     "start_time": "2023-08-27T14:19:52.592301165Z"
    }
   },
   "outputs": [],
   "source": [
    "stm.trace_models"
   ]
  },
  {
   "cell_type": "code",
   "execution_count": null,
   "id": "b3634699",
   "metadata": {
    "ExecuteTime": {
     "start_time": "2023-08-27T14:19:52.596833330Z"
    }
   },
   "outputs": [],
   "source": [
    "# for k, v in stm.trace_models.items():\n",
    "#     print(k)\n",
    "#     fig = plt.figure(figsize=(20, 3))\n",
    "#     v.destination_reached_model.plot(fig.gca())\n",
    "#     plt.show()\n",
    "#     fig = plt.figure(figsize=(20, 3))\n",
    "#     v.hops_ip_model.plot(fig.gca())\n",
    "#     plt.show()\n",
    "\n",
    "#     for i,j in v.rtt_models.items():\n",
    "#         if j.n < 20:\n",
    "#             continue\n",
    "#         if j.to_frame()['anomalies'].sum() == 0:\n",
    "#             continue\n",
    "#         fig = plt.figure(figsize=(20, 3))\n",
    "#         j.plot(fig.gca())\n",
    "#         plt.legend()\n",
    "#         plt.show()\n"
   ]
  },
  {
   "cell_type": "code",
   "execution_count": null,
   "id": "78a950a6",
   "metadata": {
    "ExecuteTime": {
     "start_time": "2023-08-27T14:19:52.600874707Z"
    }
   },
   "outputs": [],
   "source": [
    "list(stm.trace_models.keys())"
   ]
  },
  {
   "cell_type": "code",
   "execution_count": null,
   "id": "2ad599fb",
   "metadata": {
    "ExecuteTime": {
     "start_time": "2023-08-27T14:19:52.604581907Z"
    }
   },
   "outputs": [],
   "source": [
    "ta = stm.trace_models['2001:48a8:68f7:8001:192:41:236:31', '2001:620:808:4129::15']"
   ]
  },
  {
   "cell_type": "code",
   "execution_count": null,
   "id": "e13d4dcc",
   "metadata": {
    "ExecuteTime": {
     "start_time": "2023-08-27T14:19:52.608173808Z"
    }
   },
   "outputs": [],
   "source": [
    "# fig= plt.figure(figsize=(10, 10))\n",
    "# ta.destination_reached_model.plot(plt.gca())"
   ]
  },
  {
   "cell_type": "code",
   "execution_count": null,
   "id": "57b61d24",
   "metadata": {
    "ExecuteTime": {
     "start_time": "2023-08-27T14:19:52.612003718Z"
    }
   },
   "outputs": [],
   "source": [
    "# # fig, (ax1, ax2) = plt.subplots( 2, 1, figsize=(12, 5))\n",
    "# fig = plt.figure(figsize=(12, 5))\n",
    "# ax = plt.gca()\n",
    "# ta.hops_ip_model.node_prob_edge_prob.plot(ax, title='path negative log prob')\n",
    "\n",
    "# fig = plt.figure(figsize=(12, 5))\n",
    "# ax = plt.gca()\n",
    "# ta.hops_ip_model.local_anomaly_model.plot(ax, title='local negative log prob')"
   ]
  },
  {
   "cell_type": "code",
   "execution_count": null,
   "id": "e9e64e47",
   "metadata": {
    "ExecuteTime": {
     "start_time": "2023-08-27T14:19:52.615740050Z"
    }
   },
   "outputs": [],
   "source": [
    "# fig=plt.figure(figsize=(20, 6))\n",
    "# ta.hops_ip_model.weighted_anomaly_model.plot(plt.gca())"
   ]
  },
  {
   "cell_type": "code",
   "execution_count": null,
   "id": "89d83050",
   "metadata": {
    "ExecuteTime": {
     "start_time": "2023-08-27T14:19:52.619005259Z"
    }
   },
   "outputs": [],
   "source": [
    "# fig=plt.figure(figsize=(20, 6))\n",
    "# ta.hops_ip_model.node_prob_edge_prob.plot(plt.gca())"
   ]
  },
  {
   "cell_type": "code",
   "execution_count": null,
   "id": "bdec873f",
   "metadata": {
    "ExecuteTime": {
     "start_time": "2023-08-27T14:19:52.621734899Z"
    }
   },
   "outputs": [],
   "source": [
    "# fig = plt.figure(figsize=(12, 5))\n",
    "# ta.destination_reached_model.plot(plt.gca())"
   ]
  },
  {
   "cell_type": "code",
   "execution_count": null,
   "id": "2bf1c246",
   "metadata": {
    "ExecuteTime": {
     "start_time": "2023-08-27T14:19:52.625732704Z"
    }
   },
   "outputs": [],
   "source": [
    "fig = plt.figure(figsize=(12, 5))\n",
    "ta.hops_asn_model.node_prob_edge_prob.plot(plt.gca())"
   ]
  },
  {
   "cell_type": "code",
   "execution_count": null,
   "id": "0b682d27",
   "metadata": {
    "ExecuteTime": {
     "start_time": "2023-08-27T14:19:52.628455351Z"
    }
   },
   "outputs": [],
   "source": [
    "import importlib"
   ]
  },
  {
   "cell_type": "code",
   "execution_count": null,
   "id": "1523a779",
   "metadata": {
    "ExecuteTime": {
     "start_time": "2023-08-27T14:19:52.631402836Z"
    }
   },
   "outputs": [],
   "source": [
    "import trct.models.poisson_model"
   ]
  },
  {
   "cell_type": "code",
   "execution_count": null,
   "id": "ebdfcadb",
   "metadata": {
    "ExecuteTime": {
     "start_time": "2023-08-27T14:19:52.634315097Z"
    }
   },
   "outputs": [],
   "source": [
    "trct.models.poisson_model = importlib.reload(trct.models.poisson_model)"
   ]
  },
  {
   "attachments": {},
   "cell_type": "markdown",
   "id": "3633faf7",
   "metadata": {},
   "source": []
  },
  {
   "cell_type": "code",
   "execution_count": null,
   "id": "7aea3010",
   "metadata": {
    "ExecuteTime": {
     "start_time": "2023-08-27T14:19:52.637886252Z"
    }
   },
   "outputs": [],
   "source": [
    "ps = trct.models.poisson_model.PoissonModel('u', 'v')"
   ]
  },
  {
   "cell_type": "code",
   "execution_count": null,
   "id": "c3d89dac",
   "metadata": {
    "ExecuteTime": {
     "start_time": "2023-08-27T14:19:52.640345574Z"
    }
   },
   "outputs": [],
   "source": [
    "for i,x in data.items():\n",
    "    ps.log(i.timestamp()*1000, x)"
   ]
  },
  {
   "cell_type": "code",
   "execution_count": null,
   "id": "115f9825",
   "metadata": {
    "ExecuteTime": {
     "start_time": "2023-08-27T14:19:52.685847055Z"
    }
   },
   "outputs": [],
   "source": [
    "ps.to_frame()"
   ]
  },
  {
   "cell_type": "code",
   "execution_count": null,
   "id": "7549c9cc",
   "metadata": {
    "ExecuteTime": {
     "start_time": "2023-08-27T14:19:52.686117134Z"
    }
   },
   "outputs": [],
   "source": [
    "ps.plot()"
   ]
  },
  {
   "cell_type": "code",
   "execution_count": null,
   "id": "4d67482b",
   "metadata": {
    "ExecuteTime": {
     "start_time": "2023-08-27T14:19:52.686306285Z"
    }
   },
   "outputs": [],
   "source": [
    "data"
   ]
  },
  {
   "cell_type": "code",
   "execution_count": null,
   "id": "1b40dc7a",
   "metadata": {
    "ExecuteTime": {
     "end_time": "2023-08-27T14:19:52.770499636Z",
     "start_time": "2023-08-27T14:19:52.686466659Z"
    }
   },
   "outputs": [],
   "source": [
    "for m in ta.ttl_models.values():\n",
    "    data = m.to_frame()['ttls']\n",
    "    if data.shape[0] < 10:\n",
    "        continue\n",
    "    fig = plt.figure(figsize=(12, 5))\n",
    "\n",
    "    ps = trct.models.poisson_model.PoissonModel(m.u, m.v)\n",
    "    for i,x in data.items():\n",
    "        ps.log(i.timestamp()*1000, x)\n",
    "    \n",
    "    ps.plot()\n",
    "    plt.show()"
   ]
  },
  {
   "cell_type": "code",
   "execution_count": null,
   "id": "2cd0af78",
   "metadata": {
    "ExecuteTime": {
     "start_time": "2023-08-27T14:19:52.686622798Z"
    }
   },
   "outputs": [],
   "source": [
    "ips = iter(ta.ttl_models.keys())"
   ]
  },
  {
   "cell_type": "code",
   "execution_count": null,
   "id": "e72f88a1",
   "metadata": {
    "ExecuteTime": {
     "start_time": "2023-08-27T14:19:52.686775509Z"
    }
   },
   "outputs": [],
   "source": [
    "ip = next(ips)"
   ]
  },
  {
   "cell_type": "code",
   "execution_count": null,
   "id": "4b20f3ee",
   "metadata": {
    "ExecuteTime": {
     "start_time": "2023-08-27T14:19:52.686929885Z"
    }
   },
   "outputs": [],
   "source": [
    "fig = plt.figure(figsize=(20, 4))\n",
    "\n",
    "tmp = ta.ttl_models[ip].to_frame()\n",
    "\n",
    "\n",
    "probs = tmp[filter(lambda x: x.startswith('p') , tmp.columns)]\n",
    "probs.plot(title=ip, ax=plt.gca())"
   ]
  },
  {
   "cell_type": "code",
   "execution_count": null,
   "id": "d8b86146",
   "metadata": {
    "ExecuteTime": {
     "start_time": "2023-08-27T14:19:52.687103999Z"
    }
   },
   "outputs": [],
   "source": [
    "data = tmp['ttls']"
   ]
  },
  {
   "cell_type": "code",
   "execution_count": null,
   "id": "280cc0ec",
   "metadata": {
    "ExecuteTime": {
     "start_time": "2023-08-27T14:19:52.687281770Z"
    }
   },
   "outputs": [],
   "source": [
    "alphas = [1]\n",
    "betas = [1]\n",
    "\n",
    "lambdas = []\n",
    "vars = []\n",
    "gamma_vars = []\n",
    "probs = []"
   ]
  },
  {
   "cell_type": "code",
   "execution_count": null,
   "id": "eb590258",
   "metadata": {
    "ExecuteTime": {
     "start_time": "2023-08-27T14:19:52.687450613Z"
    }
   },
   "outputs": [],
   "source": [
    "import math"
   ]
  },
  {
   "cell_type": "code",
   "execution_count": null,
   "id": "039a4b93",
   "metadata": {
    "ExecuteTime": {
     "start_time": "2023-08-27T14:19:52.687606006Z"
    }
   },
   "outputs": [],
   "source": [
    "data = tmp['ttls']"
   ]
  },
  {
   "cell_type": "code",
   "execution_count": null,
   "id": "7e144ec7",
   "metadata": {
    "ExecuteTime": {
     "start_time": "2023-08-27T14:19:52.687758081Z"
    }
   },
   "outputs": [],
   "source": [
    "for d in data:\n",
    "    alphas.append(alphas[-1] + d)\n",
    "    betas.append(betas[-1] + 1)\n",
    "    lambdas.append(alphas[-1] / betas[-1])\n",
    "    gamma_vars.append(alphas[-1] / (betas[-1] ** 2))\n",
    "    vars.append(lambdas[-1])\n",
    "    l = lambdas[-1]\n",
    "    probs.append(\n",
    "        l**d * np.exp(-l) / math.factorial(d)\n",
    "    )"
   ]
  },
  {
   "cell_type": "code",
   "execution_count": null,
   "id": "281b460f",
   "metadata": {
    "ExecuteTime": {
     "start_time": "2023-08-27T14:19:52.687911344Z"
    }
   },
   "outputs": [],
   "source": [
    "np.sqrt(gamma_vars)"
   ]
  },
  {
   "cell_type": "code",
   "execution_count": null,
   "id": "c392a8d8",
   "metadata": {
    "ExecuteTime": {
     "start_time": "2023-08-27T14:19:52.688140240Z"
    }
   },
   "outputs": [],
   "source": [
    "plt.plot(data, alpha=0.5)\n",
    "plt.plot(data.index, lambdas)\n",
    "lambdas = np.array(lambdas)\n",
    "bound = np.sqrt(vars)\n",
    "\n",
    "plt.fill_between(data.index,  lambdas+bound, lambdas - bound, alpha=0.6, color='red', label='95% confidence interval')\n"
   ]
  },
  {
   "cell_type": "code",
   "execution_count": null,
   "id": "4bd400e5",
   "metadata": {
    "ExecuteTime": {
     "start_time": "2023-08-27T14:19:52.688302762Z"
    }
   },
   "outputs": [],
   "source": [
    "plt.plot(probs)\n",
    "for i in range(12, 30, 3):\n",
    "    \n",
    "    p_i = lambdas**i * np.exp(-lambdas) / math.factorial(i)\n",
    "    plt.plot( p_i, label=f'p({i})')\n",
    "plt.legend()"
   ]
  },
  {
   "cell_type": "code",
   "execution_count": null,
   "id": "587c7512",
   "metadata": {
    "ExecuteTime": {
     "start_time": "2023-08-27T14:19:52.688463732Z"
    }
   },
   "outputs": [],
   "source": [
    "import numpy as np\n",
    "import matplotlib.pyplot as plt\n",
    "from scipy.special import factorial"
   ]
  },
  {
   "cell_type": "code",
   "execution_count": null,
   "id": "23284d5d",
   "metadata": {
    "ExecuteTime": {
     "start_time": "2023-08-27T14:19:52.688616116Z"
    }
   },
   "outputs": [],
   "source": [
    "for time in range(1, lambdas.shape[0], lambdas.shape[0]//20 + 1):\n",
    "    lm = lambdas[time]   \n",
    "    t = np.linspace(0, 30, 1000)\n",
    "    d = np.exp(-lm)*np.power(lm, t)/factorial(t)\n",
    "    plt.title(f'Poisson({lm:2.2f}), time={time}')\n",
    "    plt.plot(t, d, 'b')\n",
    "    for i in range(12, 30, 3):\n",
    "        p_i = lm**i * np.exp(-lm) / math.factorial(i)\n",
    "        plt.plot( i, p_i, 'ro')\n",
    "\n",
    "    plt.show()"
   ]
  },
  {
   "cell_type": "code",
   "execution_count": null,
   "id": "86fc2726",
   "metadata": {
    "ExecuteTime": {
     "start_time": "2023-08-27T14:19:52.688771626Z"
    }
   },
   "outputs": [],
   "source": [
    "import numpy as np\n",
    "import matplotlib.pyplot as plt\n",
    "import matplotlib.animation as animation\n",
    "from scipy.stats import poisson\n",
    "\n",
    "# Set up the figure and axis\n",
    "fig, ax = plt.subplots()\n",
    "ax.set_xlim(0, 20)\n",
    "ax.set_ylim(0, 0.3)\n",
    "line, = ax.plot([], [], lw=2)\n",
    "stem, = ax.scatter([], [])\n",
    "stem_sup = np.array(range(12, 30, 3))\n",
    "\n",
    "\n",
    "# Initialize the line to be empty\n",
    "def init():\n",
    "    line.set_data([], [])\n",
    "    return line,\n",
    "\n",
    "# Generate the frames for the animation\n",
    "def update(frame):\n",
    "    x = np.arange(0, 20)\n",
    "    y = poisson.pmf(x, frame)\n",
    "    line.set_data(x, y)\n",
    "    p_i = frame**stem_sup * np.exp(-frame) / factorial(stem_sup)\n",
    "\n",
    "\n",
    "    stem.set_data(stem_sup, p_i )\n",
    "\n",
    "    ax.set_title('Poisson Distribution (λ = {})'.format(frame))\n",
    "    return line,\n",
    "\n",
    "# Create the animation\n",
    "frames = lambdas[:100]  # Lambda values for each frame\n",
    "ani = animation.FuncAnimation(fig, update, frames=frames, init_func=init, blit=True)\n",
    "\n",
    "# Display the animation\n",
    "plt.show()\n"
   ]
  },
  {
   "cell_type": "code",
   "execution_count": null,
   "id": "3a915d41",
   "metadata": {
    "ExecuteTime": {
     "start_time": "2023-08-27T14:19:52.688958393Z"
    }
   },
   "outputs": [],
   "source": [
    "import numpy as np\n",
    "import matplotlib.pyplot as plt\n",
    "import matplotlib.animation as animation\n",
    "from scipy.stats import poisson\n",
    "\n",
    "# Set up the figure and axis\n",
    "fig, ax = plt.subplots()\n",
    "ax.set_xlim(0, 40)\n",
    "ax.set_ylim(0, 0.17)\n",
    "line, = ax.plot([], [], lw=2)\n",
    "stems, = ax.plot([], [], marker='o', linestyle = 'None', color='red')\n",
    "# stems, = ax.plot([], [], line='ro')\n",
    "values = np.array(range(12, 23))\n",
    "\n",
    "# Initialize the line and stems to be empty\n",
    "def init():\n",
    "    line.set_data([], [])\n",
    "    # stems[0].set_data([], [])\n",
    "    stems.set_data([], [])\n",
    "    return line, stems\n",
    "\n",
    "# Generate the frames for the animation\n",
    "def update(frame):\n",
    "    x = np.arange(0, 40)\n",
    "    y = poisson.pmf(x, frame)\n",
    "    line.set_data(x, y)\n",
    "    \n",
    "    # Probability values to highlight\n",
    "    prob_values = poisson.pmf(values, frame)\n",
    "    \n",
    "    stems.set_data(values, prob_values)\n",
    "    \n",
    "    ax.set_title(f'Poisson Distribution (λ = {frame:.2f})')\n",
    "    return line, stems\n",
    "\n",
    "# Create the animation\n",
    "frames = lambdas[:30]  # Lambda values for each frame\n",
    "ani = animation.FuncAnimation(fig, update, frames=frames, init_func=init, blit=True)\n",
    "\n",
    "# Display the animation\n",
    "plt.show()\n"
   ]
  },
  {
   "cell_type": "code",
   "execution_count": null,
   "id": "bc7d82bb",
   "metadata": {
    "ExecuteTime": {
     "start_time": "2023-08-27T14:19:52.689122186Z"
    }
   },
   "outputs": [],
   "source": [
    "ani.save('poisson.gif', writer='imagemagick', fps=4)"
   ]
  },
  {
   "cell_type": "code",
   "execution_count": null,
   "id": "bf723c08",
   "metadata": {
    "ExecuteTime": {
     "start_time": "2023-08-27T14:19:52.689288966Z"
    }
   },
   "outputs": [],
   "source": [
    "probs = np.array(probs)"
   ]
  },
  {
   "cell_type": "code",
   "execution_count": null,
   "id": "8b629084",
   "metadata": {
    "ExecuteTime": {
     "start_time": "2023-08-27T14:19:52.689455002Z"
    }
   },
   "outputs": [],
   "source": [
    "an_idx = np.where(probs < 0.05)[0]"
   ]
  },
  {
   "cell_type": "code",
   "execution_count": null,
   "id": "4bfdcbbd",
   "metadata": {
    "ExecuteTime": {
     "start_time": "2023-08-27T14:19:52.689633444Z"
    }
   },
   "outputs": [],
   "source": [
    "plt.plot(data)\n",
    "plt.plot(data.iloc[an_idx].index, data.iloc[an_idx], 'o', color='red')\n",
    "plt.plot(data.index, lambdas)"
   ]
  },
  {
   "cell_type": "code",
   "execution_count": null,
   "id": "fc02b572",
   "metadata": {
    "ExecuteTime": {
     "start_time": "2023-08-27T14:19:52.729778414Z"
    }
   },
   "outputs": [],
   "source": [
    "p_cols = list(filter(lambda x: x.startswith('p'), tmp.columns))"
   ]
  },
  {
   "cell_type": "code",
   "execution_count": null,
   "id": "cfde1eaf",
   "metadata": {
    "ExecuteTime": {
     "start_time": "2023-08-27T14:19:52.730053599Z"
    }
   },
   "outputs": [],
   "source": [
    "informations = - tmp[p_cols] * np.log(tmp[p_cols])"
   ]
  },
  {
   "cell_type": "code",
   "execution_count": null,
   "id": "11d06dfc",
   "metadata": {
    "ExecuteTime": {
     "start_time": "2023-08-27T14:19:52.730284266Z"
    }
   },
   "outputs": [],
   "source": [
    "informations['sum'] = informations.sum(axis=1)"
   ]
  },
  {
   "cell_type": "code",
   "execution_count": null,
   "id": "5b1182c6",
   "metadata": {
    "ExecuteTime": {
     "start_time": "2023-08-27T14:19:52.730468737Z"
    }
   },
   "outputs": [],
   "source": [
    "(informations['p_17']/informations['sum']).plot()"
   ]
  },
  {
   "cell_type": "code",
   "execution_count": null,
   "id": "217be300",
   "metadata": {
    "ExecuteTime": {
     "start_time": "2023-08-27T14:19:52.730627655Z"
    }
   },
   "outputs": [],
   "source": [
    "(informations/informations.sum(axis=1)).plot(backend='plotly')"
   ]
  },
  {
   "cell_type": "code",
   "execution_count": null,
   "id": "097e2555",
   "metadata": {
    "ExecuteTime": {
     "start_time": "2023-08-27T14:19:52.730789447Z"
    }
   },
   "outputs": [],
   "source": [
    "informations.plot()"
   ]
  },
  {
   "cell_type": "code",
   "execution_count": null,
   "id": "0f395309",
   "metadata": {
    "ExecuteTime": {
     "start_time": "2023-08-27T14:19:52.730943118Z"
    }
   },
   "outputs": [],
   "source": [
    "informations.mean(axis=1).plot()"
   ]
  },
  {
   "cell_type": "code",
   "execution_count": null,
   "id": "d988522d",
   "metadata": {
    "ExecuteTime": {
     "start_time": "2023-08-27T14:19:52.731100639Z"
    }
   },
   "outputs": [],
   "source": [
    "tmp['expected'] = tmp[filter(lambda x: x[0]=='p', tmp.columns)].apply(lambda x: int( x.index[np.argmax(x)][2:]), axis=1)"
   ]
  },
  {
   "cell_type": "code",
   "execution_count": null,
   "id": "1c714cb7",
   "metadata": {
    "ExecuteTime": {
     "start_time": "2023-08-27T14:19:52.731253679Z"
    }
   },
   "outputs": [],
   "source": [
    "tmp"
   ]
  },
  {
   "cell_type": "code",
   "execution_count": null,
   "id": "6a71e11f",
   "metadata": {
    "ExecuteTime": {
     "start_time": "2023-08-27T14:19:52.731409937Z"
    }
   },
   "outputs": [],
   "source": [
    "(tmp['ttls'] - tmp['expected']).plot()"
   ]
  },
  {
   "cell_type": "code",
   "execution_count": null,
   "id": "e538ac30",
   "metadata": {
    "ExecuteTime": {
     "start_time": "2023-08-27T14:19:52.731566680Z"
    }
   },
   "outputs": [],
   "source": [
    "informations['sum_e'] = informations.sum(axis=1)"
   ]
  },
  {
   "cell_type": "code",
   "execution_count": null,
   "id": "7dd6d293",
   "metadata": {
    "ExecuteTime": {
     "start_time": "2023-08-27T14:19:52.731723169Z"
    }
   },
   "outputs": [],
   "source": [
    "informations['e_p'] = np.nan"
   ]
  },
  {
   "cell_type": "code",
   "execution_count": null,
   "id": "dcb186b4",
   "metadata": {
    "ExecuteTime": {
     "start_time": "2023-08-27T14:19:52.731884420Z"
    }
   },
   "outputs": [],
   "source": [
    "tmp['expected'] = np.nan"
   ]
  },
  {
   "cell_type": "code",
   "execution_count": null,
   "id": "f26470d5",
   "metadata": {
    "ExecuteTime": {
     "start_time": "2023-08-27T14:19:52.732048263Z"
    }
   },
   "outputs": [],
   "source": [
    "for i,x in tmp['ttls'].items():\n",
    "    print(i,x)\n",
    "    informations.loc[i, 'e_p'] = np.median(informations.loc[i, f'p_{x}'])\n",
    "    tmp.loc[i, 'expected'] = tmp.loc[i, f'p_{x}']"
   ]
  },
  {
   "cell_type": "code",
   "execution_count": null,
   "id": "3071318a",
   "metadata": {
    "ExecuteTime": {
     "start_time": "2023-08-27T14:19:52.732324815Z"
    }
   },
   "outputs": [],
   "source": [
    "informations.sample(n=10).sort_index()"
   ]
  },
  {
   "cell_type": "code",
   "execution_count": null,
   "id": "406e6680",
   "metadata": {
    "ExecuteTime": {
     "start_time": "2023-08-27T14:19:52.732516399Z"
    }
   },
   "outputs": [],
   "source": []
  },
  {
   "cell_type": "code",
   "execution_count": null,
   "id": "4358e5da",
   "metadata": {
    "ExecuteTime": {
     "start_time": "2023-08-27T14:19:52.732676880Z"
    }
   },
   "outputs": [],
   "source": [
    "e = informations.drop(columns=['sum_e', 'e_p']).min(axis=1, skipna=True)"
   ]
  },
  {
   "cell_type": "code",
   "execution_count": null,
   "id": "67f037fc",
   "metadata": {
    "ExecuteTime": {
     "start_time": "2023-08-27T14:19:52.732833032Z"
    }
   },
   "outputs": [],
   "source": [
    "tmp['ttls'].plot()"
   ]
  },
  {
   "cell_type": "code",
   "execution_count": null,
   "id": "1d252e92",
   "metadata": {
    "ExecuteTime": {
     "start_time": "2023-08-27T14:19:52.733002761Z"
    }
   },
   "outputs": [],
   "source": [
    "(informations['e_p']/e).plot()"
   ]
  },
  {
   "cell_type": "code",
   "execution_count": null,
   "id": "994e0135",
   "metadata": {
    "ExecuteTime": {
     "start_time": "2023-08-27T14:19:52.733153042Z"
    }
   },
   "outputs": [],
   "source": [
    "x=((probs.max(axis=1)/tmp['expected']).apply(np.log))#.plot()"
   ]
  },
  {
   "cell_type": "code",
   "execution_count": null,
   "id": "c383f250",
   "metadata": {
    "ExecuteTime": {
     "start_time": "2023-08-27T14:19:52.733305331Z"
    }
   },
   "outputs": [],
   "source": [
    "from trct.models import NormalModel"
   ]
  },
  {
   "cell_type": "code",
   "execution_count": null,
   "id": "4583a9df",
   "metadata": {
    "ExecuteTime": {
     "start_time": "2023-08-27T14:19:52.733461511Z"
    }
   },
   "outputs": [],
   "source": [
    "nm = NormalModel('u', 'v')\n",
    "for i, v in enumerate(x):\n",
    "    nm.log(i,v)"
   ]
  },
  {
   "cell_type": "code",
   "execution_count": null,
   "id": "e1c29c68",
   "metadata": {
    "ExecuteTime": {
     "start_time": "2023-08-27T14:19:52.733666691Z"
    }
   },
   "outputs": [],
   "source": [
    "fig  = plt.figure(figsize=(20, 5))\n",
    "nm.plot(fig.gca())"
   ]
  },
  {
   "cell_type": "code",
   "execution_count": null,
   "id": "f4d09aed",
   "metadata": {
    "ExecuteTime": {
     "start_time": "2023-08-27T14:19:52.734478660Z"
    }
   },
   "outputs": [],
   "source": [
    "xxxx = nm.to_frame().reset_index()\n",
    "xxx = xxxx[xxxx['anomalies']]"
   ]
  },
  {
   "cell_type": "code",
   "execution_count": null,
   "id": "cf2cfa41",
   "metadata": {
    "ExecuteTime": {
     "end_time": "2023-08-27T14:19:52.863951154Z",
     "start_time": "2023-08-27T14:19:52.777932758Z"
    }
   },
   "outputs": [],
   "source": [
    "xxx.index"
   ]
  },
  {
   "cell_type": "code",
   "execution_count": null,
   "id": "97307fb1",
   "metadata": {
    "ExecuteTime": {
     "start_time": "2023-08-27T14:19:52.778165187Z"
    }
   },
   "outputs": [],
   "source": [
    "tmp['marked'] = False"
   ]
  },
  {
   "cell_type": "code",
   "execution_count": null,
   "id": "79f97d3b",
   "metadata": {
    "ExecuteTime": {
     "start_time": "2023-08-27T14:19:52.778327334Z"
    }
   },
   "outputs": [],
   "source": [
    "tmp.columns"
   ]
  },
  {
   "cell_type": "code",
   "execution_count": null,
   "id": "f21fd8c6",
   "metadata": {
    "ExecuteTime": {
     "start_time": "2023-08-27T14:19:52.778495997Z"
    }
   },
   "outputs": [],
   "source": [
    "tmp.iloc[xxx.index, -1] = True"
   ]
  },
  {
   "cell_type": "code",
   "execution_count": null,
   "id": "24eea309",
   "metadata": {
    "ExecuteTime": {
     "start_time": "2023-08-27T14:19:52.778667551Z"
    }
   },
   "outputs": [],
   "source": [
    "\n",
    "tmp['marked'].value_counts()"
   ]
  },
  {
   "cell_type": "code",
   "execution_count": null,
   "id": "f62bbf02",
   "metadata": {
    "ExecuteTime": {
     "start_time": "2023-08-27T14:19:52.778825242Z"
    }
   },
   "outputs": [],
   "source": [
    "tmp[['ttls', 'marked']].plot(kind='scatter', y='ttls', color='marked' )"
   ]
  },
  {
   "cell_type": "code",
   "execution_count": null,
   "id": "1354a863",
   "metadata": {
    "ExecuteTime": {
     "start_time": "2023-08-27T14:19:52.778979400Z"
    }
   },
   "outputs": [],
   "source": [
    "fig = plt.figure(figsize=(20, 5))\n",
    "nm2.plot(fig.gca())"
   ]
  },
  {
   "cell_type": "code",
   "execution_count": null,
   "id": "b30911d4",
   "metadata": {
    "ExecuteTime": {
     "start_time": "2023-08-27T14:19:52.779129636Z"
    }
   },
   "outputs": [],
   "source": [
    "ctr = 0\n",
    "for i, x in ta.ttl_models.items():\n",
    "    if ctr==4:\n",
    "        break\n",
    "    print(i)\n",
    "    fig = plt.figure(figsize=(20, 4))\n",
    "    display(x.plot(plt.gca()))\n",
    "    ctr+=1"
   ]
  },
  {
   "cell_type": "code",
   "execution_count": null,
   "id": "6014a095",
   "metadata": {
    "ExecuteTime": {
     "start_time": "2023-08-27T14:19:52.779288971Z"
    }
   },
   "outputs": [],
   "source": []
  },
  {
   "cell_type": "code",
   "execution_count": null,
   "id": "c4321ce1",
   "metadata": {
    "ExecuteTime": {
     "start_time": "2023-08-27T14:19:52.779446505Z"
    }
   },
   "outputs": [],
   "source": [
    "# fig, (ax1, ax2) = plt.subplots( 2, 1, figsize=(12, 5))\n",
    "fig = plt.figure(figsize=(12, 5))\n",
    "ax = plt.gca()\n",
    "ta.hops_ip_model.global_anomaly_model.plot(ax)\n",
    "\n",
    "fig = plt.figure(figsize=(12, 5))\n",
    "ax = plt.gca()\n",
    "ta.hops_ip_model.local_anomaly_model.plot(ax)"
   ]
  },
  {
   "cell_type": "code",
   "execution_count": null,
   "id": "86add542",
   "metadata": {
    "ExecuteTime": {
     "start_time": "2023-08-27T14:19:52.779603253Z"
    }
   },
   "outputs": [],
   "source": [
    "fig=plt.figure(figsize=(20, 6))\n",
    "ta.hops_ip_model.weighted_anomaly_model.plot(plt.gca())"
   ]
  },
  {
   "cell_type": "code",
   "execution_count": null,
   "id": "c135d6b9",
   "metadata": {
    "ExecuteTime": {
     "start_time": "2023-08-27T14:19:52.779754206Z"
    }
   },
   "outputs": [],
   "source": [
    "fig=plt.figure(figsize=(20, 6))\n",
    "ta.hops_ip_model.node_prob_edge_prob.plot(plt.gca())"
   ]
  },
  {
   "cell_type": "code",
   "execution_count": null,
   "id": "f4c9390e",
   "metadata": {
    "ExecuteTime": {
     "start_time": "2023-08-27T14:19:52.779913018Z"
    }
   },
   "outputs": [],
   "source": [
    "s = np.array(ta.hops_ip_model.weighted_probs)"
   ]
  },
  {
   "cell_type": "code",
   "execution_count": null,
   "id": "c9300a57",
   "metadata": {
    "ExecuteTime": {
     "start_time": "2023-08-27T14:19:52.780149571Z"
    }
   },
   "outputs": [],
   "source": [
    "plt.plot(np.log(s))"
   ]
  },
  {
   "cell_type": "code",
   "execution_count": null,
   "id": "dd8c0f4c",
   "metadata": {
    "ExecuteTime": {
     "start_time": "2023-08-27T14:19:52.780309533Z"
    }
   },
   "outputs": [],
   "source": [
    "df_paths = ta.hops_ip_model.to_frame()"
   ]
  },
  {
   "cell_type": "code",
   "execution_count": null,
   "id": "1d759efe",
   "metadata": {
    "ExecuteTime": {
     "start_time": "2023-08-27T14:19:52.780478537Z"
    }
   },
   "outputs": [],
   "source": [
    "# ta.hops_ip_model.plot_graph(plt.gca(), node_layout=final_pos2)"
   ]
  },
  {
   "cell_type": "code",
   "execution_count": null,
   "id": "6cf1c8b5",
   "metadata": {
    "ExecuteTime": {
     "start_time": "2023-08-27T14:19:52.780625337Z"
    }
   },
   "outputs": [],
   "source": []
  },
  {
   "cell_type": "code",
   "execution_count": null,
   "id": "b4a809fc",
   "metadata": {
    "ExecuteTime": {
     "start_time": "2023-08-27T14:19:52.780779498Z"
    }
   },
   "outputs": [],
   "source": [
    "\n",
    "(df_paths.groupby('paths').size().sort_values(ascending=False)/df_paths.shape[0]).plot(kind='bar')"
   ]
  },
  {
   "cell_type": "code",
   "execution_count": null,
   "id": "654e1aaf",
   "metadata": {
    "ExecuteTime": {
     "start_time": "2023-08-27T14:19:52.780933284Z"
    }
   },
   "outputs": [],
   "source": [
    "N=10"
   ]
  },
  {
   "cell_type": "code",
   "execution_count": null,
   "id": "2b1fc76f",
   "metadata": {
    "ExecuteTime": {
     "start_time": "2023-08-27T14:19:52.781089663Z"
    }
   },
   "outputs": [],
   "source": [
    "\n",
    "paths = df_paths.groupby('paths').size().sort_values(ascending=False).head(N).index.tolist()"
   ]
  },
  {
   "cell_type": "code",
   "execution_count": null,
   "id": "40614252",
   "metadata": {
    "ExecuteTime": {
     "start_time": "2023-08-27T14:19:52.781241582Z"
    }
   },
   "outputs": [],
   "source": [
    "mapper = { v:f'top {i+1}' for i, v in enumerate(df_paths.groupby('paths').size().sort_values(ascending=False).rank().index.tolist())}"
   ]
  },
  {
   "cell_type": "code",
   "execution_count": null,
   "id": "20465964",
   "metadata": {
    "ExecuteTime": {
     "start_time": "2023-08-27T14:19:52.781399827Z"
    }
   },
   "outputs": [],
   "source": [
    "df_paths[df_paths['paths'].isin(paths)]['paths'].unique()"
   ]
  },
  {
   "cell_type": "code",
   "execution_count": null,
   "id": "784f5fd7",
   "metadata": {
    "ExecuteTime": {
     "start_time": "2023-08-27T14:19:52.781571186Z"
    }
   },
   "outputs": [],
   "source": [
    "df_paths['weighted_probs'].apply(lambda x: )"
   ]
  },
  {
   "cell_type": "code",
   "execution_count": null,
   "id": "6e424b26",
   "metadata": {
    "ExecuteTime": {
     "start_time": "2023-08-27T14:19:52.781725549Z"
    }
   },
   "outputs": [],
   "source": [
    "df_paths[df_paths['paths'].isin(paths)].groupby('paths')['local_probs'].plot()\n",
    "plt.legend()\n",
    "# plt.legend([mapper[x] for x in df_paths[df_paths['paths'].isin(paths)]['paths'].unique()], )"
   ]
  },
  {
   "cell_type": "code",
   "execution_count": null,
   "id": "e0b58e96",
   "metadata": {
    "ExecuteTime": {
     "start_time": "2023-08-27T14:19:52.821811123Z"
    }
   },
   "outputs": [],
   "source": [
    "ta.ttl_models"
   ]
  },
  {
   "cell_type": "code",
   "execution_count": null,
   "id": "ed6ff0b9",
   "metadata": {
    "ExecuteTime": {
     "start_time": "2023-08-27T14:19:52.822029536Z"
    }
   },
   "outputs": [],
   "source": [
    "with open(files[43456], \"r\") as f:\n",
    "    json_data = json.load(f)"
   ]
  },
  {
   "cell_type": "code",
   "execution_count": null,
   "id": "4d780da4",
   "metadata": {
    "ExecuteTime": {
     "start_time": "2023-08-27T14:19:52.822198083Z"
    }
   },
   "outputs": [],
   "source": [
    "node_colors = defaultdict(lambda : 'blue')"
   ]
  },
  {
   "cell_type": "code",
   "execution_count": null,
   "id": "440bd94a",
   "metadata": {
    "ExecuteTime": {
     "start_time": "2023-08-27T14:19:52.822362672Z"
    }
   },
   "outputs": [],
   "source": [
    "path = [ta.hops_ip_model.node_to_index[x] for x in json_data['hops']] + [0]\n",
    "\n",
    "for node in g.nodes:\n",
    "    node_colors[node] = 'blue'\n",
    "\n",
    "for node in path:\n",
    "    node_colors[node] = 'red'\n",
    "\n",
    "node_colors[ta.hops_ip_model.node_to_index['206.12.127.40']] = 'green'\n",
    "node_colors[ta.hops_ip_model.node_to_index['148.187.129.15']] =  'green'"
   ]
  },
  {
   "cell_type": "code",
   "execution_count": null,
   "id": "0264f8cc",
   "metadata": {
    "ExecuteTime": {
     "start_time": "2023-08-27T14:19:52.822523060Z"
    }
   },
   "outputs": [],
   "source": [
    "\n",
    "#TODO add hash of path to df"
   ]
  },
  {
   "cell_type": "code",
   "execution_count": null,
   "id": "dbad0d7b",
   "metadata": {
    "ExecuteTime": {
     "start_time": "2023-08-27T14:19:52.822676536Z"
    }
   },
   "outputs": [],
   "source": [
    "node_sizes = defaultdict(lambda : 1)\n",
    "\n",
    "data = np.array(list(ta.hops_ip_model.node_in_counts.values()))   \n",
    "\n",
    "mx = data.max()\n",
    "mn = data.min()\n",
    "\n",
    "for k, v in ta.hops_ip_model.node_out_counts.items():\n",
    "    node_sizes[ta.hops_ip_model.node_to_index[k]] = ((v-mn)/(mx-mn))*2"
   ]
  },
  {
   "cell_type": "code",
   "execution_count": null,
   "id": "911cfc57",
   "metadata": {
    "ExecuteTime": {
     "start_time": "2023-08-27T14:19:52.822830021Z"
    }
   },
   "outputs": [],
   "source": [
    "\n",
    "fig=plt.figure(figsize=(20, 20))\n",
    "ng.Graph(\n",
    "        g,\n",
    "        layout='dot',\n",
    "        arrows=True,\n",
    "        weighted=True,\n",
    "        node_color={x:node_colors[x] for x in g.nodes}, # TODO: this based on src/dest/normal\n",
    "        # node_edge_color=clors,\n",
    "        node_labels={x: i for i, x in enumerate(g.nodes)},\n",
    "        # node_shape={x: tier_mapping[x] for x in graph.nodes},  # so^>v<dph8\n",
    "        edge_cmap=\"RdYlGn\",\n",
    "        # node_colors=node_colors,\n",
    "        # edge_colors=node_colors,\n",
    "        node_size={x:node_sizes[x] for x in g.nodes},\n",
    "        node_layout=final_pos2,\n",
    "            \n",
    "            )"
   ]
  },
  {
   "cell_type": "code",
   "execution_count": null,
   "id": "8bb65812",
   "metadata": {
    "ExecuteTime": {
     "start_time": "2023-08-27T14:19:52.822981440Z"
    }
   },
   "outputs": [],
   "source": [
    "# ta.plot()"
   ]
  },
  {
   "cell_type": "code",
   "execution_count": null,
   "id": "84363994",
   "metadata": {
    "ExecuteTime": {
     "start_time": "2023-08-27T14:19:52.823138739Z"
    }
   },
   "outputs": [],
   "source": [
    "from trct.models import NormalModel"
   ]
  },
  {
   "cell_type": "code",
   "execution_count": null,
   "id": "7d793a32",
   "metadata": {
    "ExecuteTime": {
     "start_time": "2023-08-27T14:19:52.823292215Z"
    }
   },
   "outputs": [],
   "source": [
    "max_data = (np.array(ta.ttl_models[\"148.187.129.15\"].most_probable_ttl))\n"
   ]
  },
  {
   "cell_type": "code",
   "execution_count": null,
   "id": "30201a19",
   "metadata": {
    "ExecuteTime": {
     "start_time": "2023-08-27T14:19:52.823450825Z"
    }
   },
   "outputs": [],
   "source": [
    "m = ta.ttl_models[\"148.187.129.15\"]"
   ]
  },
  {
   "cell_type": "code",
   "execution_count": null,
   "id": "fa9dca4c",
   "metadata": {
    "ExecuteTime": {
     "start_time": "2023-08-27T14:19:52.823609840Z"
    }
   },
   "outputs": [],
   "source": [
    "df = m.to_frame()"
   ]
  },
  {
   "cell_type": "code",
   "execution_count": null,
   "id": "059e6f5c",
   "metadata": {
    "ExecuteTime": {
     "start_time": "2023-08-27T14:19:52.823764026Z"
    }
   },
   "outputs": [],
   "source": [
    "tmp = df.reset_index()\n",
    "c=tmp[tmp['anomalies']]['anomalies'].index.tolist()"
   ]
  },
  {
   "cell_type": "code",
   "execution_count": null,
   "id": "7c931254",
   "metadata": {
    "ExecuteTime": {
     "start_time": "2023-08-27T14:19:52.824000968Z"
    }
   },
   "outputs": [],
   "source": [
    "fig = plt.figure(figsize=(26, 10))\n",
    "max_data = (np.array(ta.ttl_models[\"148.187.129.15\"].ttl_prob))\n",
    "plt.plot(max_data)\n",
    "index = np.where(max_data < 0.05)\n",
    "plt.plot(index[0], max_data[index], 'ro', label=\"outliers\")\n",
    "plt.plot(c, max_data[c], 'ro', label=\"outliers\")\n",
    "plt.legend()\n",
    "plt.title(f\"Outliers = {len(index[0])/len(max_data)}\")"
   ]
  },
  {
   "cell_type": "code",
   "execution_count": null,
   "id": "b4f03bec",
   "metadata": {
    "ExecuteTime": {
     "start_time": "2023-08-27T14:19:52.824158416Z"
    }
   },
   "outputs": [],
   "source": [
    "fig = plt.figure(figsize=(18, 4))\n",
    "ax = plt.gca()\n",
    "ta.hops_ip_model.plot(ax)\n",
    "ax.legend()"
   ]
  },
  {
   "cell_type": "code",
   "execution_count": null,
   "id": "569d74e1",
   "metadata": {
    "ExecuteTime": {
     "start_time": "2023-08-27T14:19:52.824314401Z"
    }
   },
   "outputs": [],
   "source": [
    "tmp = ta.hops_ip_model.to_frame()"
   ]
  },
  {
   "cell_type": "code",
   "execution_count": null,
   "id": "9227206a",
   "metadata": {
    "ExecuteTime": {
     "start_time": "2023-08-27T14:19:52.824463820Z"
    }
   },
   "outputs": [],
   "source": [
    "ts, path = zip(*ta.hops_ip_model.unique_paths)"
   ]
  },
  {
   "cell_type": "code",
   "execution_count": null,
   "id": "0a812ce2",
   "metadata": {
    "ExecuteTime": {
     "start_time": "2023-08-27T14:19:52.824614721Z"
    }
   },
   "outputs": [],
   "source": [
    "x = pd.DataFrame({'path': path, 'ts':pd.to_datetime(ts, unit='ms')})"
   ]
  },
  {
   "cell_type": "code",
   "execution_count": null,
   "id": "d41aefbe",
   "metadata": {
    "ExecuteTime": {
     "start_time": "2023-08-27T14:19:52.824767022Z"
    }
   },
   "outputs": [],
   "source": [
    "cc = x.groupby('path').agg({'ts': ['min', 'max']})"
   ]
  },
  {
   "cell_type": "code",
   "execution_count": null,
   "id": "0f37d28d",
   "metadata": {
    "ExecuteTime": {
     "start_time": "2023-08-27T14:19:52.824914171Z"
    }
   },
   "outputs": [],
   "source": [
    "from trct.models import NormalModel"
   ]
  },
  {
   "cell_type": "code",
   "execution_count": null,
   "id": "7e9abdf0",
   "metadata": {
    "ExecuteTime": {
     "start_time": "2023-08-27T14:19:52.825064255Z"
    }
   },
   "outputs": [],
   "source": [
    "m = NormalModel(src, dest, )"
   ]
  },
  {
   "cell_type": "code",
   "execution_count": null,
   "id": "b019aff8",
   "metadata": {
    "ExecuteTime": {
     "start_time": "2023-08-27T14:19:52.825228232Z"
    }
   },
   "outputs": [],
   "source": [
    "tmp['local_probs'].plot()"
   ]
  },
  {
   "cell_type": "code",
   "execution_count": null,
   "id": "e15fe2cb",
   "metadata": {
    "ExecuteTime": {
     "start_time": "2023-08-27T14:19:52.825379116Z"
    }
   },
   "outputs": [],
   "source": [
    "m = NormalModel(src, dest, alpha_0=0.5, mu_0=3, sigma_0=1)\n",
    "\n",
    "for i,x in tmp['global_probs'].apply(np.log).items(): #diff\n",
    "    if(np.isnan(x)):\n",
    "        continue\n",
    "    m.log(i.timestamp()*1000, -x)\n",
    "\n",
    "fig = plt.figure(figsize=(20, 6))\n",
    "ax =fig.gca()\n",
    "m.plot(ax)\n",
    "ax.set_title(\"Normal Model\")"
   ]
  },
  {
   "cell_type": "code",
   "execution_count": null,
   "id": "f202181e",
   "metadata": {
    "ExecuteTime": {
     "start_time": "2023-08-27T14:19:52.825547523Z"
    }
   },
   "outputs": [],
   "source": [
    "m = NormalModel(src, dest, alpha_0=0.5, mu_0=3, sigma_0=1)\n",
    "\n",
    "for i,x in tmp['local_probs'].apply(np.log).items(): #diff\n",
    "    if(np.isnan(x)):\n",
    "        continue\n",
    "    m.log(i.timestamp()*1000, -x)\n",
    "\n",
    "fig = plt.figure(figsize=(20, 6))\n",
    "m.plot(fig.gca())"
   ]
  },
  {
   "cell_type": "code",
   "execution_count": null,
   "id": "de9e3572",
   "metadata": {
    "ExecuteTime": {
     "end_time": "2023-08-27T14:19:52.925876382Z",
     "start_time": "2023-08-27T14:19:52.865705671Z"
    }
   },
   "outputs": [],
   "source": [
    "m = NormalModel(src, dest, alpha_0=0.5, mu_0=3, sigma_0=1)\n",
    "\n",
    "for i,x in tmp['local_probs'].apply(np.log).items(): #diff\n",
    "    if(np.isnan(x)):\n",
    "        continue\n",
    "    m.log(i.timestamp()*1000, -x)\n",
    "\n",
    "fig = plt.figure(figsize=(20, 6))\n",
    "m.plot(fig.gca())"
   ]
  },
  {
   "cell_type": "code",
   "execution_count": null,
   "id": "e841bd74",
   "metadata": {
    "ExecuteTime": {
     "start_time": "2023-08-27T14:19:52.865852655Z"
    }
   },
   "outputs": [],
   "source": [
    "m = NormalModel(src, dest, alpha_0=1, mu_0=20, sigma_0=1)\n",
    "\n",
    "for i,x in tmp['global_probs'].apply(np.log).items(): #diff\n",
    "    if(np.isnan(x)):\n",
    "        continue\n",
    "    m.log(i.timestamp()*1000, -x)\n",
    "\n",
    "fig = plt.figure(figsize=(20, 6))\n",
    "m.plot(fig.gca())"
   ]
  },
  {
   "cell_type": "code",
   "execution_count": null,
   "id": "01d3ed9d",
   "metadata": {
    "ExecuteTime": {
     "start_time": "2023-08-27T14:19:52.865957737Z"
    }
   },
   "outputs": [],
   "source": [
    "m = NormalModel(src, dest, alpha_0=3, mu_0=0, sigma_0=1)\n",
    " \n",
    "for i,x in tmp['local_probs'].apply(np.log).diff().clip(-np.inf, 1).items(): #diff    \n",
    "    if(np.isnan(x)):\n",
    "        continue\n",
    "    \n",
    "    m.log(i.timestamp()*1000, -x)\n",
    "fig = plt.figure(figsize=(20, 6))\n",
    "m.plot(fig.gca())"
   ]
  },
  {
   "cell_type": "code",
   "execution_count": null,
   "id": "929719ae",
   "metadata": {
    "ExecuteTime": {
     "start_time": "2023-08-27T14:19:52.866054330Z"
    }
   },
   "outputs": [],
   "source": [
    "m = NormalModel(src, dest, alpha_0=3, mu_0=20, sigma_0=1)\n",
    "\n",
    "for i,x in tmp['global_probs'].apply(np.log).diff().items(): #diff\n",
    "    if(np.isnan(x)):\n",
    "        continue\n",
    "    m.log(i.timestamp()*1000, -x)\n",
    "\n",
    "fig = plt.figure(figsize=(20, 6))\n",
    "m.plot(fig.gca())"
   ]
  },
  {
   "cell_type": "code",
   "execution_count": null,
   "id": "8b4e8467",
   "metadata": {
    "ExecuteTime": {
     "start_time": "2023-08-27T14:19:52.866142900Z"
    }
   },
   "outputs": [],
   "source": [
    "tmp['local_probs'].plot()"
   ]
  },
  {
   "cell_type": "code",
   "execution_count": null,
   "id": "a4a8e79e",
   "metadata": {
    "ExecuteTime": {
     "start_time": "2023-08-27T14:19:52.866238596Z"
    }
   },
   "outputs": [],
   "source": [
    "fig = plt.figure(figsize=(22, 4))\n",
    "fig.gca().xaxis.set_label(\"p\")\n",
    "# (tmp['global_probs'] / tmp['local_probs']).diff().plot(ax=fig.gca())\n",
    "x=(tmp['local_probs'])\n",
    "x.plot(ax=fig.gca())\n",
    "# (tmp['global_probs']-tmp['local_probs']).diff().plot(ax=fig.gca())\n",
    "# (tmp['global_probs']).diff().plot(ax=fig.gca())\n",
    "# (tmp['local_probs']).plot(ax=fig.gca())\n",
    "# plt.plot(cc['ts']['min'], [0]*len(cc), 'o')\n",
    "# plt.plot(cc['ts']['max'], [0]*len(cc), '>')\n",
    "# (tmp['local_probs'][tmp['local_probs']<0.025]).plot(ax=fig.gca(), style='x')\n",
    "# tmp[tmp['weighted_probs']<0.05]['weighted_probs'].plot(ax=fig.gca(), style='x')\n",
    "x[x<(0.05)].plot(ax=fig.gca(), style='x', c='r')\n",
    "# print(tmp[tmp['weighted_probs']<0.05]['weighted_probs'].shape)\n",
    "print(x[x<(0.05)].shape[0]/x.shape[0])\n",
    "# todo try path entropy"
   ]
  },
  {
   "cell_type": "code",
   "execution_count": null,
   "id": "e2780bea",
   "metadata": {
    "ExecuteTime": {
     "start_time": "2023-08-27T14:19:52.866328491Z"
    }
   },
   "outputs": [],
   "source": [
    "fig = plt.figure(figsize=(22, 4))\n",
    "fig.gca().xaxis.set_label(\"p\")\n",
    "# (tmp['global_probs'] / tmp['local_probs']).diff().plot(ax=fig.gca())\n",
    "x=((tmp['global_probs']))\n",
    "x.plot(ax=fig.gca())\n",
    "# (tmp['global_probs']-tmp['local_probs']).diff().plot(ax=fig.gca())\n",
    "# (tmp['global_probs']).diff().plot(ax=fig.gca())\n",
    "# (tmp['local_probs']).plot(ax=fig.gca())\n",
    "# plt.plot(cc['ts']['min'], [0]*len(cc), 'o')\n",
    "# plt.plot(cc['ts']['max'], [0]*len(cc), '>')\n",
    "# (tmp['local_probs'][tmp['local_probs']<0.025]).plot(ax=fig.gca(), style='x')\n",
    "# tmp[tmp['weighted_probs']<0.05]['weighted_probs'].plot(ax=fig.gca(), style='x')\n",
    "x[x<(0.05)].plot(ax=fig.gca(), style='x', c='r')\n",
    "# print(tmp[tmp['weighted_probs']<0.05]['weighted_probs'].shape)\n",
    "print(x[x<(0.05)].shape[0]/x.shape[0])"
   ]
  },
  {
   "cell_type": "code",
   "execution_count": null,
   "id": "f1cb5cea",
   "metadata": {
    "ExecuteTime": {
     "start_time": "2023-08-27T14:19:52.866421703Z"
    }
   },
   "outputs": [],
   "source": [
    "fig = plt.figure(figsize=(22, 4))\n",
    "fig.gca().xaxis.set_label(\"p\")\n",
    "# (tmp['global_probs'] / tmp['local_probs']).diff().plot(ax=fig.gca())\n",
    "x=((tmp['weighted_probs']))\n",
    "x.plot(ax=fig.gca())\n",
    "# (tmp['global_probs']-tmp['local_probs']).diff().plot(ax=fig.gca())\n",
    "# (tmp['global_probs']).diff().plot(ax=fig.gca())\n",
    "# (tmp['local_probs']).plot(ax=fig.gca())\n",
    "# plt.plot(cc['ts']['min'], [0]*len(cc), 'o')\n",
    "# plt.plot(cc['ts']['max'], [0]*len(cc), '>')\n",
    "# (tmp['local_probs'][tmp['local_probs']<0.025]).plot(ax=fig.gca(), style='x')\n",
    "# tmp[tmp['weighted_probs']<0.05]['weighted_probs'].plot(ax=fig.gca(), style='x')\n",
    "x[x<(0.0005)].plot(ax=fig.gca(), style='x', c='r')\n",
    "# print(tmp[tmp['weighted_probs']<0.05]['weighted_probs'].shape)\n",
    "print(x[x<(0.005)].shape[0]/x.shape[0])"
   ]
  }
 ],
 "metadata": {
  "kernelspec": {
   "display_name": "Python 3 (ipykernel)",
   "language": "python",
   "name": "python3"
  },
  "language_info": {
   "codemirror_mode": {
    "name": "ipython",
    "version": 3
   },
   "file_extension": ".py",
   "mimetype": "text/x-python",
   "name": "python",
   "nbconvert_exporter": "python",
   "pygments_lexer": "ipython3",
   "version": "3.10.12"
  }
 },
 "nbformat": 4,
 "nbformat_minor": 5
}
