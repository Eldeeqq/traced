{
 "cells": [
  {
   "cell_type": "code",
   "execution_count": null,
   "id": "initial_id",
   "metadata": {
    "ExecuteTime": {
     "end_time": "2023-08-27T15:22:38.066176360Z",
     "start_time": "2023-08-27T15:22:38.065796254Z"
    },
    "collapsed": true
   },
   "outputs": [],
   "source": [
    "cd ../.."
   ]
  },
  {
   "cell_type": "code",
   "execution_count": null,
   "id": "b152019c29ad1b24",
   "metadata": {
    "ExecuteTime": {
     "end_time": "2023-08-27T15:22:38.066347007Z",
     "start_time": "2023-08-27T15:22:38.065925289Z"
    },
    "collapsed": false
   },
   "outputs": [],
   "source": [
    "import json\n",
    "import glob\n",
    "from pprint import pprint\n",
    "import matplotlib.pyplot as plt\n"
   ]
  },
  {
   "cell_type": "code",
   "execution_count": null,
   "id": "c7b6b28f",
   "metadata": {},
   "outputs": [],
   "source": [
    "import seaborn as sns"
   ]
  },
  {
   "cell_type": "code",
   "execution_count": null,
   "id": "7272e376",
   "metadata": {},
   "outputs": [],
   "source": [
    "sns.set_style(\"whitegrid\")"
   ]
  },
  {
   "cell_type": "code",
   "execution_count": null,
   "id": "482747d266c2bdac",
   "metadata": {
    "ExecuteTime": {
     "end_time": "2023-08-27T15:22:38.122764438Z",
     "start_time": "2023-08-27T15:22:38.065975689Z"
    },
    "collapsed": false
   },
   "outputs": [],
   "source": [
    "import numpy as np"
   ]
  },
  {
   "cell_type": "code",
   "execution_count": null,
   "id": "e3dfea6c07a77450",
   "metadata": {
    "ExecuteTime": {
     "end_time": "2023-08-27T15:22:38.122939240Z",
     "start_time": "2023-08-27T15:22:38.113736710Z"
    },
    "collapsed": false
   },
   "outputs": [],
   "source": [
    "np.random.seed(42)"
   ]
  },
  {
   "cell_type": "code",
   "execution_count": null,
   "id": "423f9dc51730dc43",
   "metadata": {
    "ExecuteTime": {
     "end_time": "2023-08-27T15:22:47.824984577Z",
     "start_time": "2023-08-27T15:22:38.113861718Z"
    },
    "collapsed": false
   },
   "outputs": [],
   "source": [
    "files = sorted(glob.glob(\"data/INFN-T1/*.json\"))\n"
   ]
  },
  {
   "cell_type": "code",
   "execution_count": null,
   "id": "c530224800812cea",
   "metadata": {
    "ExecuteTime": {
     "end_time": "2023-08-27T15:22:49.253802382Z",
     "start_time": "2023-08-27T15:22:49.213522640Z"
    },
    "collapsed": false
   },
   "outputs": [],
   "source": [
    "selected_files = np.random.choice(files, 1000)"
   ]
  },
  {
   "cell_type": "code",
   "execution_count": null,
   "id": "788df660723c6146",
   "metadata": {
    "ExecuteTime": {
     "end_time": "2023-08-27T15:22:49.253936429Z",
     "start_time": "2023-08-27T15:22:49.253680636Z"
    },
    "collapsed": false
   },
   "outputs": [],
   "source": [
    "def load_json(file):\n",
    "    with open(file) as f:\n",
    "        return json.load(f)\n"
   ]
  },
  {
   "cell_type": "code",
   "execution_count": null,
   "id": "c028a17a",
   "metadata": {},
   "outputs": [],
   "source": [
    "len(files)"
   ]
  },
  {
   "cell_type": "code",
   "execution_count": null,
   "id": "bc270314c25e97e3",
   "metadata": {
    "ExecuteTime": {
     "end_time": "2023-08-27T15:22:49.573918224Z",
     "start_time": "2023-08-27T15:22:49.253777921Z"
    },
    "collapsed": false
   },
   "outputs": [],
   "source": [
    "loaded_files = [load_json(x) for x in files]\n"
   ]
  },
  {
   "cell_type": "code",
   "execution_count": null,
   "id": "2632d6a8b1e1dabb",
   "metadata": {
    "ExecuteTime": {
     "end_time": "2023-08-27T15:37:27.001166603Z",
     "start_time": "2023-08-27T15:37:26.819623039Z"
    },
    "collapsed": false
   },
   "outputs": [],
   "source": [
    "import copy\n",
    "\n",
    "file = copy.deepcopy(loaded_files[0])"
   ]
  },
  {
   "cell_type": "code",
   "execution_count": null,
   "id": "d086cef617bc9394",
   "metadata": {
    "ExecuteTime": {
     "end_time": "2023-08-27T15:37:27.148934745Z",
     "start_time": "2023-08-27T15:37:26.983839949Z"
    },
    "collapsed": false
   },
   "outputs": [],
   "source": [
    "subfields = {k:v for k,v in file.items() \n",
    " if (k not in ['asns', 'hops', 'rtts', 'ttls']) and ( k.startswith('src_') or k.startswith('dest_') or k == 'src' or k == 'dest')}\n",
    "\n",
    "for k,v in sorted(subfields.items()):\n",
    "    print(k, v)\n",
    "    del file[k]"
   ]
  },
  {
   "cell_type": "code",
   "execution_count": null,
   "id": "c53ebedd2e7f5703",
   "metadata": {
    "ExecuteTime": {
     "end_time": "2023-08-27T15:37:27.386481986Z",
     "start_time": "2023-08-27T15:37:27.129391044Z"
    },
    "collapsed": false
   },
   "outputs": [],
   "source": [
    "print('asns', 'hops', 'rtts', 'ttls', sep=' ; ')\n",
    "for items in zip(file['asns'], file['hops'], file['rtts'], file['ttls']):\n",
    "    print(*items, sep=' ; ')\n",
    "del file['asns']\n",
    "del file['hops']\n",
    "del file['rtts']\n",
    "del file['ttls']"
   ]
  },
  {
   "cell_type": "code",
   "execution_count": null,
   "id": "e9c92b76f8a1e445",
   "metadata": {
    "ExecuteTime": {
     "end_time": "2023-08-27T15:37:27.580609862Z",
     "start_time": "2023-08-27T15:37:27.334584834Z"
    },
    "collapsed": false
   },
   "outputs": [],
   "source": [
    "print(\"timestamp\", file['timestamp'])\n",
    "del file['timestamp']"
   ]
  },
  {
   "cell_type": "code",
   "execution_count": null,
   "id": "8c7046ecf3325cb2",
   "metadata": {
    "ExecuteTime": {
     "end_time": "2023-08-27T15:37:27.763251694Z",
     "start_time": "2023-08-27T15:37:27.547351368Z"
    },
    "collapsed": false
   },
   "outputs": [],
   "source": [
    "print(\"path_complete\", file['path_complete'])\n",
    "del file['path_complete']\n",
    "print(\"destination_reached\", file['destination_reached'])\n",
    "del file['destination_reached']\n",
    "print(\"looping\", file['looping'])\n",
    "del file['looping']\n",
    "print(\"ipv6\", file['ipv6'])\n",
    "del file['ipv6']\n",
    "print(\"push\", file['push'])\n",
    "del file['push'] # maybe useless"
   ]
  },
  {
   "cell_type": "code",
   "execution_count": null,
   "id": "79914a8159342692",
   "metadata": {
    "ExecuteTime": {
     "end_time": "2023-08-27T15:37:27.905864686Z",
     "start_time": "2023-08-27T15:37:27.701743477Z"
    },
    "collapsed": false
   },
   "outputs": [],
   "source": [
    "pprint(file)"
   ]
  },
  {
   "cell_type": "code",
   "execution_count": null,
   "id": "2b89d77a075fb90a",
   "metadata": {
    "ExecuteTime": {
     "end_time": "2023-08-27T15:37:28.361209981Z",
     "start_time": "2023-08-27T15:37:28.165407874Z"
    },
    "collapsed": false
   },
   "outputs": [],
   "source": [
    "file.keys()"
   ]
  },
  {
   "cell_type": "code",
   "execution_count": null,
   "id": "3bfff666",
   "metadata": {},
   "outputs": [],
   "source": [
    "rtts = []\n",
    "tss = []\n",
    "mean_rtts = []\n",
    "sum_rtts = []\n",
    "n_hops = []\n",
    "sites = []\n",
    "max_ttl = []\n",
    "for file in loaded_files:\n",
    "    rtts.append(max(file['rtts']) if file['rtts'] else 0)\n",
    "    tss.append(file['timestamp'])\n",
    "    mean_rtts.append(np.mean(file['rtts']) if file['rtts'] else 0)\n",
    "    sum_rtts.append(np.sum(file['rtts']) if file['rtts'] else 0)\n",
    "    n_hops.append(len(file['hops']))\n",
    "    sites.append(file['src_site'] if 'src_site' in file else '')\n",
    "    max_ttl.append(max(file['ttls']) if file['ttls'] else 0)"
   ]
  },
  {
   "cell_type": "code",
   "execution_count": null,
   "id": "c1fe85f0",
   "metadata": {},
   "outputs": [],
   "source": []
  },
  {
   "cell_type": "code",
   "execution_count": null,
   "id": "e622fa63",
   "metadata": {},
   "outputs": [],
   "source": [
    "len(loaded_files)"
   ]
  },
  {
   "cell_type": "code",
   "execution_count": null,
   "id": "7bb38109",
   "metadata": {},
   "outputs": [],
   "source": [
    "import pandas as pd"
   ]
  },
  {
   "cell_type": "code",
   "execution_count": null,
   "id": "6b97c365",
   "metadata": {},
   "outputs": [],
   "source": [
    "df = pd.DataFrame({'max_rtt': rtts, 'timestamp': tss, 'mean_rtt': mean_rtts, 'sum_rtt': sum_rtts, 'n_hops': max_ttl, \"site\": sites})"
   ]
  },
  {
   "cell_type": "code",
   "execution_count": null,
   "id": "307a6ed5",
   "metadata": {},
   "outputs": [],
   "source": [
    "df['timestamp'] = pd.to_datetime(df['timestamp'], unit='ms')"
   ]
  },
  {
   "cell_type": "code",
   "execution_count": null,
   "id": "22e98775",
   "metadata": {},
   "outputs": [],
   "source": [
    "df.set_index('timestamp', inplace=True)"
   ]
  },
  {
   "cell_type": "code",
   "execution_count": null,
   "id": "875dcc16",
   "metadata": {},
   "outputs": [],
   "source": [
    "df.sort_index(inplace=True)\n"
   ]
  },
  {
   "cell_type": "code",
   "execution_count": null,
   "id": "a3f609c9",
   "metadata": {},
   "outputs": [],
   "source": [
    "df.columns = ['Max RTT (ms)', 'Mean RTT (ms)', 'Total RTT (ms)', \"Number of hops\", \"Site\"]\n"
   ]
  },
  {
   "cell_type": "code",
   "execution_count": null,
   "id": "b2652f98",
   "metadata": {},
   "outputs": [],
   "source": [
    "fig = plt.figure(figsize=(10, 6))\n",
    "# df.plot(y='mean_rtt', label='Mean RTT', ax=fig.gca(), alpha=.7)\n",
    "# df.plot(y='max_rtt', label='Max RTT', ax=fig.gca(), alpha=.7)\n",
    "t = df.reset_index().plot(y=df.columns[2], x='timestamp',  ax=fig.gca(), kind='scatter', c=df.columns[0], legend=False, alpha = 0.3)\n",
    "plt.xlabel('Date')\n",
    "plt.title('Duration of traceroutes over time')\n",
    "# plt.yticks(np.arange(0, 150000, 5000))\n",
    "fig.savefig('results/figures/max_rtt_over_time.png', dpi=350)\n",
    "\n",
    "\n",
    "plt.show()"
   ]
  },
  {
   "cell_type": "code",
   "execution_count": null,
   "id": "cec0c4f8",
   "metadata": {},
   "outputs": [],
   "source": []
  },
  {
   "cell_type": "code",
   "execution_count": null,
   "id": "c41a879f",
   "metadata": {},
   "outputs": [],
   "source": [
    "df.sort_index(inplace=True)"
   ]
  },
  {
   "cell_type": "code",
   "execution_count": null,
   "id": "6f9606f5",
   "metadata": {},
   "outputs": [],
   "source": [
    "# (df\n",
    "# # .loc['2023-02-01 00:00:00':'2023-02-16 00:00:00']\n",
    "# ).sort_values(by='Site').plot(\n",
    "#     kind='scatter', backend='plotly', y=df.columns[2], x=df.columns[3],\n",
    "#     color=\"Site\"\n",
    "#     )\n"
   ]
  },
  {
   "cell_type": "code",
   "execution_count": null,
   "id": "48626353",
   "metadata": {},
   "outputs": [],
   "source": [
    "# df.loc['2023-02-01 00:00:00':'2023-02-16 00:00:00'].plot(\n",
    "#     kind='scatter', backend='plotly', y=df.columns[2], x=df.columns[3],\n",
    "#     color=\"Site\"\n",
    "#     )\n"
   ]
  },
  {
   "cell_type": "code",
   "execution_count": null,
   "id": "95a76fcf",
   "metadata": {},
   "outputs": [],
   "source": [
    "from collections import defaultdict"
   ]
  },
  {
   "cell_type": "code",
   "execution_count": null,
   "id": "66db3c01",
   "metadata": {},
   "outputs": [],
   "source": [
    "destinations = defaultdict(int)"
   ]
  },
  {
   "cell_type": "code",
   "execution_count": null,
   "id": "1269e130",
   "metadata": {},
   "outputs": [],
   "source": [
    "for file in loaded_files:\n",
    "    if not 'src_site' in file:\n",
    "        continue\n",
    "    destinations[file['src_site']] += 1\n"
   ]
  },
  {
   "cell_type": "code",
   "execution_count": null,
   "id": "0e44e3cb",
   "metadata": {},
   "outputs": [],
   "source": [
    "from wordcloud import WordCloud"
   ]
  },
  {
   "cell_type": "code",
   "execution_count": null,
   "id": "1a322860",
   "metadata": {},
   "outputs": [],
   "source": [
    "wc = WordCloud(background_color=\"white\", max_words=2000, width=800, height=400)\n",
    "wc.generate_from_frequencies(destinations)"
   ]
  },
  {
   "cell_type": "code",
   "execution_count": null,
   "id": "64889b00",
   "metadata": {},
   "outputs": [],
   "source": [
    "plt.figure()\n",
    "plt.imshow(wc, interpolation=\"bilinear\")\n",
    "plt.axis(\"off\")\n",
    "plt.show()"
   ]
  },
  {
   "cell_type": "code",
   "execution_count": null,
   "id": "ce9a33d7",
   "metadata": {},
   "outputs": [],
   "source": [
    "# create two lists of keys and values sorted by values (descending)\n",
    "keys = sorted(destinations, key=destinations.get, reverse=True)\n",
    "values = sorted(destinations.values(), reverse=True)\n",
    "df = pd.DataFrame({'keys': keys, 'values': values})\n"
   ]
  },
  {
   "cell_type": "code",
   "execution_count": null,
   "id": "cc61eb16",
   "metadata": {},
   "outputs": [],
   "source": [
    "df['color'] = 'blue'\n",
    "df['keys_lower'] = df['keys'].str.lower()\n",
    "df.loc[(df['keys_lower'].str.contains('t1'))|(df['keys_lower'].str.contains('tier1')), 'color'] = 'red'\n",
    "df.loc[(df['keys_lower'].str.contains('t2'))|(df['keys_lower'].str.contains('tier2')), 'color'] = 'green'\n",
    "df.loc[(df['keys_lower'].str.contains('lcg2')), 'color'] = 'yellow'"
   ]
  },
  {
   "cell_type": "code",
   "execution_count": null,
   "id": "1b9c5e2b",
   "metadata": {},
   "outputs": [],
   "source": [
    "df['keys'] = df['keys'].astype('category')"
   ]
  },
  {
   "cell_type": "code",
   "execution_count": null,
   "id": "0bfe71ac",
   "metadata": {},
   "outputs": [],
   "source": [
    "# df['values'] /= df['values'].sum()"
   ]
  },
  {
   "cell_type": "code",
   "execution_count": null,
   "id": "db040529",
   "metadata": {},
   "outputs": [],
   "source": [
    "len(files)"
   ]
  },
  {
   "cell_type": "code",
   "execution_count": null,
   "id": "3f8124db",
   "metadata": {},
   "outputs": [],
   "source": [
    "fig = plt.figure(figsize=(15, 4))\n",
    "df.plot( kind='bar', x='keys', y='values', title='Number of incoming traceroutes per site', ax=fig.gca(), label='Number of incoming traceroutes')\n",
    "plt.xlabel('Site')\n",
    "fig.savefig('results/figures/number_of_incoming_traceroutes_per_site.svg')"
   ]
  },
  {
   "cell_type": "code",
   "execution_count": null,
   "id": "ea382f6d",
   "metadata": {},
   "outputs": [],
   "source": [
    "len(keys)"
   ]
  },
  {
   "cell_type": "code",
   "execution_count": null,
   "id": "39e57ef7",
   "metadata": {},
   "outputs": [],
   "source": [
    "tss = []\n",
    "site = []\n",
    "nhops= []\n",
    "for file in loaded_files:\n",
    "    if not 'src_site' in file:\n",
    "        continue\n",
    "    tss.append(file['timestamp'])\n",
    "    site.append(file['src_site'])\n",
    "    nhops.append(len(file['hops']))"
   ]
  },
  {
   "cell_type": "code",
   "execution_count": null,
   "id": "b4f0fdc7",
   "metadata": {},
   "outputs": [],
   "source": [
    "df = pd.DataFrame({'timestamp': tss, 'site': site, 'nhops': nhops})\n",
    "df['timestamp'] = pd.to_datetime(df['timestamp'], unit='ms')\n",
    "df.set_index('timestamp', inplace=True)"
   ]
  },
  {
   "cell_type": "code",
   "execution_count": null,
   "id": "cce6dff5",
   "metadata": {},
   "outputs": [],
   "source": [
    "df"
   ]
  },
  {
   "cell_type": "code",
   "execution_count": null,
   "id": "15f92492",
   "metadata": {},
   "outputs": [],
   "source": [
    "site = []\n",
    "delta_t = []\n",
    "hops = []\n",
    "\n",
    "for i, x in df.reset_index().groupby(by=['site']):\n",
    "    # display(i)\n",
    "    # display(x['timestamp'].diff().dropna().dt.seconds.abs().mean() / 3600)\n",
    "    site.append(i)\n",
    "    delta_t.append(x['timestamp'].diff().dropna().dt.seconds.abs().mean() / 3600)\n",
    "    hops.append(x['nhops'].diff().dropna().abs().mean())\n",
    "    # display(x.diff().dropna().abs().mean(axis=1))"
   ]
  },
  {
   "cell_type": "code",
   "execution_count": null,
   "id": "9db5adf0",
   "metadata": {},
   "outputs": [],
   "source": [
    "df2 = pd.DataFrame({'site': site, 'delta_t': delta_t, 'mean_hops': hops})"
   ]
  },
  {
   "cell_type": "code",
   "execution_count": null,
   "id": "99b61df1",
   "metadata": {},
   "outputs": [],
   "source": [
    "pd.infer_freq(df.index)\n"
   ]
  },
  {
   "cell_type": "code",
   "execution_count": null,
   "id": "4bcbc68088866bec",
   "metadata": {
    "ExecuteTime": {
     "end_time": "2023-08-27T15:43:15.145265141Z",
     "start_time": "2023-08-27T15:43:14.999344135Z"
    },
    "collapsed": false
   },
   "outputs": [],
   "source": [
    "max_rtts  = [x.get('max_rtt', 0) for x in loaded_files]\n",
    "n_hops  = [x.get('n_hops', 0) for x in loaded_files]\n",
    "destination_reached = [x.get('destination_reached', False) for x in loaded_files]"
   ]
  },
  {
   "cell_type": "code",
   "execution_count": null,
   "id": "4dc4f0599ccf4b0c",
   "metadata": {
    "ExecuteTime": {
     "end_time": "2023-08-27T15:43:24.142777540Z",
     "start_time": "2023-08-27T15:43:23.436647962Z"
    },
    "collapsed": false
   },
   "outputs": [],
   "source": [
    "\n",
    "fig = plt.figure(figsize=(8, 3))\n",
    "plt.hist(sum_rtts, log=True)\n",
    "plt.title(\"Histogram of sum of RTT values (log scale)\")\n",
    "plt.xlabel(\"Sum of RTT (ms)\")\n",
    "plt.ylabel(\"log of Count\")\n",
    "fig.savefig(\"results/figures/max_rtts.svg\")\n",
    "plt.show()\n"
   ]
  },
  {
   "cell_type": "code",
   "execution_count": null,
   "id": "4f0b9660efb116e8",
   "metadata": {
    "ExecuteTime": {
     "end_time": "2023-08-27T15:43:26.409617599Z",
     "start_time": "2023-08-27T15:43:26.168225098Z"
    },
    "collapsed": false
   },
   "outputs": [],
   "source": [
    "fig = plt.figure(figsize=(8, 3))\n",
    "plt.hist(n_hops, bins=25)\n",
    "plt.title(\"Histogram of number of hops\")\n",
    "plt.xlabel(\"Number of hops\")\n",
    "plt.ylabel(\"Count\")\n",
    "fig.savefig(\"results/figures/n_hops.svg\")\n",
    "plt.show()\n"
   ]
  },
  {
   "cell_type": "code",
   "execution_count": null,
   "id": "ddc9e834",
   "metadata": {},
   "outputs": [],
   "source": [
    "fig = plt.figure(figsize=(8, 3))\n",
    "plt.hist(max_ttl, bins=25)\n",
    "plt.title(\"Histogram of number of hops\")\n",
    "plt.xlabel(\"Number of hops\")\n",
    "plt.ylabel(\"Count\")\n",
    "fig.savefig(\"results/figures/max_ttl.svg\")\n",
    "plt.show()\n"
   ]
  },
  {
   "cell_type": "code",
   "execution_count": null,
   "id": "ed624988",
   "metadata": {},
   "outputs": [],
   "source": [
    "import pandas as pd"
   ]
  },
  {
   "cell_type": "code",
   "execution_count": null,
   "id": "7c9020c9",
   "metadata": {},
   "outputs": [],
   "source": [
    "df = pd.DataFrame({'max_rtt': max_rtts, 'max_ttl': max_ttl, 'Destination Reached': destination_reached})\n",
    "\n"
   ]
  },
  {
   "cell_type": "code",
   "execution_count": null,
   "id": "ebf7395e",
   "metadata": {},
   "outputs": [],
   "source": [
    "df.groupby(by=\"ipv6\")[['max_rtt', 'max_ttl']].describe()"
   ]
  },
  {
   "cell_type": "code",
   "execution_count": null,
   "id": "d106da4e",
   "metadata": {},
   "outputs": [],
   "source": [
    "counts = df.groupby(by=[\"Destination Reached\",  \"Looping\", \"ipv6\", \"Path Complete\"]).size().unstack(fill_value=0)\n",
    "normalized_counts = counts / counts.values.sum()\n"
   ]
  },
  {
   "cell_type": "code",
   "execution_count": null,
   "id": "5c970cdb",
   "metadata": {},
   "outputs": [],
   "source": [
    "fig = plt.figure(figsize=(8, 4))\n",
    "sns.heatmap(normalized_counts, annot=True, cmap=\"YlGnBu\", fmt=\".3%\", cbar=False)\n",
    "\n",
    "plt.xlabel( \"Path Complete\")\n",
    "plt.ylabel(\"Destination Reached - Looping - IPv6\")\n",
    "# plt.title('Heatmap of ')\n",
    "fig.savefig(\"results/figures/heatmap-counts.svg\",)\n",
    "plt.show()\n"
   ]
  },
  {
   "cell_type": "code",
   "execution_count": null,
   "id": "3f343473",
   "metadata": {},
   "outputs": [],
   "source": [
    "import seaborn as sns"
   ]
  },
  {
   "cell_type": "code",
   "execution_count": null,
   "id": "11a6a028",
   "metadata": {},
   "outputs": [],
   "source": [
    "# make three subplots sharing the same x axis in one column\n",
    "f, (ax1, ax2, ax3, ax4) = plt.subplots(4, sharex=True, figsize=(8, 8));\n"
   ]
  },
  {
   "cell_type": "code",
   "execution_count": null,
   "id": "8e3f3ad9",
   "metadata": {},
   "outputs": [],
   "source": [
    "# fig = plt.figure(figsize=(8, 4))\n",
    "sns.scatterplot(data=df, y='max_rtt', x='max_ttl', hue='Destination Reached', alpha=0.25, ax=ax1)\n",
    "ax1.set_ylabel('Max RTT (ms)')\n",
    "\n",
    "# plt.show()\n"
   ]
  },
  {
   "cell_type": "code",
   "execution_count": null,
   "id": "a76735de",
   "metadata": {},
   "outputs": [],
   "source": [
    "path_complete = [x.get('path_complete', False) for x in loaded_files]"
   ]
  },
  {
   "cell_type": "code",
   "execution_count": null,
   "id": "7a9650b3",
   "metadata": {},
   "outputs": [],
   "source": [
    "df['Path Complete'] = path_complete"
   ]
  },
  {
   "cell_type": "code",
   "execution_count": null,
   "id": "1e47cc36",
   "metadata": {},
   "outputs": [],
   "source": [
    "# fig = plt.figure(figsize=(8, 4))\n",
    "sns.scatterplot(data=df, y='max_rtt', x='max_ttl', hue='Path Complete', alpha=0.25, ax=ax2)\n",
    "ax2.set_ylabel('Max RTT (ms)')\n",
    "\n",
    "# plt.show()\n"
   ]
  },
  {
   "cell_type": "code",
   "execution_count": null,
   "id": "77ee99ed",
   "metadata": {},
   "outputs": [],
   "source": [
    "looping = [x.get('looping', False) for x in loaded_files]\n",
    "df['Looping'] = looping"
   ]
  },
  {
   "cell_type": "code",
   "execution_count": null,
   "id": "beeb46e5",
   "metadata": {},
   "outputs": [],
   "source": [
    "# fig = plt.figure(figsize=(8, 4))\n",
    "sns.scatterplot(data=df, y='max_rtt', x='max_ttl', hue='Looping', alpha=0.25, ax=ax3)\n",
    "ax3.set_ylabel('Max RTT (ms)')\n",
    "\n",
    "# plt.show()"
   ]
  },
  {
   "cell_type": "code",
   "execution_count": null,
   "id": "5c8fe5ac",
   "metadata": {},
   "outputs": [],
   "source": []
  },
  {
   "cell_type": "code",
   "execution_count": null,
   "id": "6f38cec0",
   "metadata": {},
   "outputs": [],
   "source": [
    "ipv6 = [x.get('ipv6', False) for x in loaded_files]\n",
    "df['ipv6'] = ipv6"
   ]
  },
  {
   "cell_type": "code",
   "execution_count": null,
   "id": "b04ffc0a",
   "metadata": {},
   "outputs": [],
   "source": [
    "# fig = plt.figure(figsize=(8, 4))\n",
    "sns.scatterplot(data=df, y='max_rtt', x='max_ttl', hue='ipv6', alpha=0.25, ax=ax4)\n",
    "ax4.set_ylabel('Max RTT (ms)')\n",
    "\n",
    "# plt.show()"
   ]
  },
  {
   "cell_type": "code",
   "execution_count": null,
   "id": "96ac322c",
   "metadata": {},
   "outputs": [],
   "source": [
    "ax3.set_xlabel(\"Number of hops\")"
   ]
  },
  {
   "cell_type": "code",
   "execution_count": null,
   "id": "b12bdba2",
   "metadata": {},
   "outputs": [],
   "source": [
    "cd masters-thesis"
   ]
  },
  {
   "cell_type": "code",
   "execution_count": null,
   "id": "e6ca7b55",
   "metadata": {},
   "outputs": [],
   "source": [
    "f.suptitle(\"Max RTT vs Number of hops\")\n",
    "f.savefig(\"results/figures/max_rtt_vs_n_hops.png\", dpi=350)"
   ]
  },
  {
   "cell_type": "code",
   "execution_count": null,
   "id": "f57405cd",
   "metadata": {},
   "outputs": [],
   "source": [
    "f"
   ]
  },
  {
   "cell_type": "code",
   "execution_count": null,
   "id": "ca57696e",
   "metadata": {},
   "outputs": [],
   "source": [
    "from sklearn.metrics import confusion_matrix"
   ]
  },
  {
   "cell_type": "code",
   "execution_count": null,
   "id": "3f8c0cb7",
   "metadata": {},
   "outputs": [],
   "source": [
    "df[df['Path Complete'] & df['Destination Reached'] & df['Looping']].shape #.plot(kind='scatter', x='max_ttl', y='max_rtt', alpha=0.25)"
   ]
  },
  {
   "cell_type": "code",
   "execution_count": null,
   "id": "85805a8b",
   "metadata": {},
   "outputs": [],
   "source": [
    "df[df['Path Complete'] & df['Destination Reached'] & ~df['Looping']].shape #.plot(kind='scatter', x='max_ttl', y='max_rtt', alpha=0.25)"
   ]
  },
  {
   "cell_type": "code",
   "execution_count": null,
   "id": "ff11ac22",
   "metadata": {},
   "outputs": [],
   "source": [
    "df[df['Path Complete'] & df['Destination Reached'] & df['Looping']].shape #.plot(kind='scatter', x='max_ttl', y='max_rtt', alpha=0.25)"
   ]
  },
  {
   "cell_type": "code",
   "execution_count": null,
   "id": "a6d9dfc7",
   "metadata": {},
   "outputs": [],
   "source": [
    "# df.plot(kind='scatter', x='max_ttl', y='max_rtt', color='Looping', backend='plotly')"
   ]
  },
  {
   "cell_type": "code",
   "execution_count": null,
   "id": "263dbb8c",
   "metadata": {},
   "outputs": [],
   "source": [
    "# df[df['Looping']].plot(kind='scatter', x='max_ttl', y='max_rtt', color='red', backend='plotly')"
   ]
  },
  {
   "cell_type": "code",
   "execution_count": null,
   "id": "ef349789",
   "metadata": {},
   "outputs": [],
   "source": [
    "ttls = []\n",
    "rtts = []\n",
    "for file in loaded_files:\n",
    "    ttls.extend(file['ttls'])\n",
    "    rtts.extend(file['rtts'])\n"
   ]
  },
  {
   "cell_type": "code",
   "execution_count": null,
   "id": "c88cb997",
   "metadata": {},
   "outputs": [],
   "source": [
    "df3 = pd.DataFrame({'rtt': rtts, 'ttl': ttls})"
   ]
  },
  {
   "cell_type": "code",
   "execution_count": null,
   "id": "829102a1",
   "metadata": {},
   "outputs": [],
   "source": [
    "df3.corr(method='spearman')"
   ]
  },
  {
   "cell_type": "code",
   "execution_count": null,
   "id": "aebc974af0ca0663",
   "metadata": {
    "ExecuteTime": {
     "end_time": "2023-08-27T15:45:46.310128811Z",
     "start_time": "2023-08-27T15:45:45.974617604Z"
    },
    "collapsed": false
   },
   "outputs": [],
   "source": [
    "fig = plt.figure()\n",
    "plt.scatter(max_ttl, (max_rtts), c='r', alpha=0.5)\n",
    "plt.title(\"Number of hops vs Max RTT\")\n",
    "plt.xlabel(\"Number of hops\")\n",
    "plt.ylabel(\"Max RTT (ms)\")\n",
    "fig.savefig(\"results/figures/n_hops_vs_max_rtts.png\", dpi=350)\n",
    "plt.show()"
   ]
  },
  {
   "cell_type": "code",
   "execution_count": null,
   "id": "cdee4c19",
   "metadata": {},
   "outputs": [],
   "source": [
    "from collections import defaultdict"
   ]
  },
  {
   "cell_type": "code",
   "execution_count": null,
   "id": "bd6c9b0d",
   "metadata": {},
   "outputs": [],
   "source": [
    "counts = defaultdict(lambda: defaultdict(lambda : defaultdict(lambda: defaultdict(int))))"
   ]
  },
  {
   "cell_type": "code",
   "execution_count": null,
   "id": "0b0d7b2c",
   "metadata": {},
   "outputs": [],
   "source": [
    "counts[True][True][True]"
   ]
  },
  {
   "cell_type": "code",
   "execution_count": null,
   "id": "63366517",
   "metadata": {},
   "outputs": [],
   "source": [
    "for a, b, c, d in df[['Destination Reached', 'Path Complete', 'Looping', 'ipv6']].values.tolist():\n",
    "    counts[a][b][c][d] += 1\n"
   ]
  },
  {
   "cell_type": "code",
   "execution_count": null,
   "id": "e920c120",
   "metadata": {},
   "outputs": [],
   "source": [
    "for x in [False, True]:\n",
    "    for y in [False, True]:\n",
    "        for z in [False, True]:\n",
    "            for a in [False, True]:\n",
    "                print(x, y, z, a, np.round(100*counts[x][y][z][a]/len(df), 2))\n",
    "        "
   ]
  },
  {
   "cell_type": "code",
   "execution_count": null,
   "id": "7961aabe",
   "metadata": {},
   "outputs": [],
   "source": [
    "df.apply(lambda x: (counts[x['Destination Reached']])[x['Path Complete']][x['Looping']] += 1, axis=0)\n"
   ]
  },
  {
   "cell_type": "code",
   "execution_count": null,
   "id": "55e7a67a",
   "metadata": {},
   "outputs": [],
   "source": [
    "df"
   ]
  },
  {
   "cell_type": "code",
   "execution_count": null,
   "id": "ce56b9fd",
   "metadata": {},
   "outputs": [],
   "source": [
    "from collections import Counter\n",
    "\n",
    "ctr = Counter(destinations)"
   ]
  },
  {
   "cell_type": "code",
   "execution_count": null,
   "id": "294a051c",
   "metadata": {},
   "outputs": [],
   "source": [
    "sites = [x for (x, y) in ctr.most_common(8)]"
   ]
  },
  {
   "cell_type": "code",
   "execution_count": null,
   "id": "dcdc04f4",
   "metadata": {},
   "outputs": [],
   "source": [
    "#  color palette of 10 colors\n",
    "\n",
    "cmap = plt.get_cmap(\"tab10\")\n",
    "# create a color generator\n",
    "colors = cmap(np.linspace(0, 1, 8))\n"
   ]
  },
  {
   "cell_type": "code",
   "execution_count": null,
   "id": "4100d591",
   "metadata": {},
   "outputs": [],
   "source": [
    "# colors[:,3] = 1"
   ]
  },
  {
   "cell_type": "code",
   "execution_count": null,
   "id": "52565ee4",
   "metadata": {},
   "outputs": [],
   "source": [
    "colors = {k: v for k, v in zip(sites, colors)}"
   ]
  },
  {
   "cell_type": "code",
   "execution_count": null,
   "id": "5faf65ef452cde24",
   "metadata": {
    "collapsed": false
   },
   "outputs": [],
   "source": [
    "fig = plt.figure(figsize=(10, 4))\n",
    "ax = plt.gca() \n",
    "seen = set()\n",
    "sample =  np.random.choice(loaded_files, 6000)\n",
    "for item in sample:\n",
    "    if item.get('src_site', None) not in sites:\n",
    "        continue\n",
    "    try:\n",
    "        if item['src_site'] not in seen:\n",
    "            seen.add(item['src_site'])\n",
    "            ax.plot(item['ttls'], item['rtts'], label=f\"{item['src_site']} -> {item['dest_site']}\", alpha=.5, c=colors[item['src_site']])\n",
    "    \n",
    "        else:\n",
    "            ax.plot(item['ttls'], item['rtts'], label=None, alpha=.5, c=colors[item['src_site']])\n",
    "\n",
    "    except KeyError:\n",
    "        pass\n",
    "    \n",
    "ax.set_ylabel(\"RTT (ms)\")\n",
    "ax.set_xlabel(\"TTL (hops)\")\n",
    "plt.title(\"RTT and TTL for each traceroute \")\n",
    "plt.legend()\n",
    "\n",
    "fig.savefig(\"results/figures/rtt_vs_ttl.svg\")\n",
    "\n",
    "plt.show()"
   ]
  },
  {
   "cell_type": "code",
   "execution_count": null,
   "id": "f7022033",
   "metadata": {},
   "outputs": [],
   "source": [
    "loaded_files"
   ]
  },
  {
   "cell_type": "code",
   "execution_count": null,
   "id": "1c87887b",
   "metadata": {},
   "outputs": [],
   "source": [
    "np.diff(range(5))"
   ]
  },
  {
   "cell_type": "code",
   "execution_count": null,
   "id": "7bdad57d",
   "metadata": {},
   "outputs": [],
   "source": [
    "ttl_diffs = []\n",
    "\n",
    "pctg = []\n",
    "\n",
    "for file in loaded_files:\n",
    "    if not 'ttls' in file:\n",
    "        continue\n",
    "\n",
    "    seq = np.diff(file.get('ttls'))\n",
    "    if not seq.any():\n",
    "        continue\n",
    "\n",
    "    seq -= 1\n",
    "    seq = ([seq] if isinstance(seq, int) else seq.tolist())\n",
    "    pctg.append(sum(seq) / max(file['ttls']))    \n",
    "    # for x in seq:\n",
    "    #     if x:\n",
    "    #         ttl_diffs.append(x)"
   ]
  },
  {
   "cell_type": "code",
   "execution_count": null,
   "id": "d0198f18",
   "metadata": {},
   "outputs": [],
   "source": [
    "np.mean(pctg)"
   ]
  },
  {
   "cell_type": "code",
   "execution_count": null,
   "id": "32860836",
   "metadata": {},
   "outputs": [],
   "source": [
    "from collections import Counter"
   ]
  },
  {
   "cell_type": "code",
   "execution_count": null,
   "id": "fc4e63cf",
   "metadata": {},
   "outputs": [],
   "source": [
    "ctr = Counter(ttl_diffs)"
   ]
  },
  {
   "cell_type": "code",
   "execution_count": null,
   "id": "452ceeef",
   "metadata": {},
   "outputs": [],
   "source": [
    "{ k:round(100*v/sum(ctr.values()), 3) for k,v in ctr.most_common(7) }"
   ]
  },
  {
   "cell_type": "code",
   "execution_count": null,
   "id": "1df6afb4",
   "metadata": {},
   "outputs": [],
   "source": [
    "ctr = dict(ctr)"
   ]
  },
  {
   "cell_type": "code",
   "execution_count": null,
   "id": "ca469235",
   "metadata": {},
   "outputs": [],
   "source": []
  },
  {
   "cell_type": "code",
   "execution_count": null,
   "id": "b1da2ec7",
   "metadata": {},
   "outputs": [],
   "source": [
    "# create a histogram from the ctr\n",
    "fig = plt.figure(figsize=(10, 4))\n",
    "plt.bar(ctr.keys(), np.log(list(ctr.values())), width=1)"
   ]
  }
 ],
 "metadata": {
  "kernelspec": {
   "display_name": "Python 3",
   "language": "python",
   "name": "python3"
  },
  "language_info": {
   "codemirror_mode": {
    "name": "ipython",
    "version": 3
   },
   "file_extension": ".py",
   "mimetype": "text/x-python",
   "name": "python",
   "nbconvert_exporter": "python",
   "pygments_lexer": "ipython3",
   "version": "3.10.12"
  }
 },
 "nbformat": 4,
 "nbformat_minor": 5
}
