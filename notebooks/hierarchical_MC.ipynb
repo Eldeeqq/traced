{
 "cells": [
  {
   "cell_type": "code",
   "execution_count": 1,
   "id": "462d8d8b0c61b172",
   "metadata": {
    "collapsed": false,
    "editable": true,
    "slideshow": {
     "slide_type": ""
    },
    "tags": [],
    "ExecuteTime": {
     "end_time": "2023-08-27T13:23:49.438392549Z",
     "start_time": "2023-08-27T13:23:48.271652565Z"
    }
   },
   "outputs": [
    {
     "name": "stdout",
     "output_type": "stream",
     "text": [
      "/home/msi/projects/diplomka\n"
     ]
    }
   ],
   "source": [
    "cd .."
   ]
  },
  {
   "cell_type": "code",
   "execution_count": 2,
   "id": "a80ff963bc1ac9da",
   "metadata": {
    "collapsed": false,
    "ExecuteTime": {
     "end_time": "2023-08-27T13:23:49.495757071Z",
     "start_time": "2023-08-27T13:23:48.271934839Z"
    }
   },
   "outputs": [],
   "source": [
    "import pandas as pd"
   ]
  },
  {
   "cell_type": "code",
   "execution_count": 3,
   "id": "73ab450bbc8cb57a",
   "metadata": {
    "collapsed": false,
    "editable": true,
    "slideshow": {
     "slide_type": ""
    },
    "tags": [],
    "ExecuteTime": {
     "end_time": "2023-08-27T13:23:54.960754050Z",
     "start_time": "2023-08-27T13:23:48.272051044Z"
    }
   },
   "outputs": [
    {
     "name": "stdout",
     "output_type": "stream",
     "text": [
      "AGLT2-CSCS_LCG2      GLOW-CSCS_LCG2\tNebraska-CSCS_LCG2\r\n",
      "BNL_ATLAS-CSCS_LCG2  INFN-T1\t\tSARA_MATRIX-CSCS_LCG2\r\n",
      "CA_SFU_T2-CSCS_LCG2  INFN_T1-CSCS_LCG2\r\n",
      "FZK_LCCG2-INFN_T1    NDGF_T1-CSCS_LCG2\r\n"
     ]
    }
   ],
   "source": [
    "!ls data/sites/"
   ]
  },
  {
   "cell_type": "code",
   "execution_count": 4,
   "id": "e2808487af120615",
   "metadata": {
    "collapsed": false,
    "ExecuteTime": {
     "end_time": "2023-08-27T13:23:54.960921356Z",
     "start_time": "2023-08-27T13:23:49.124655899Z"
    }
   },
   "outputs": [],
   "source": [
    "import glob"
   ]
  },
  {
   "cell_type": "code",
   "execution_count": 5,
   "id": "19356492f2938801",
   "metadata": {
    "collapsed": false,
    "editable": true,
    "slideshow": {
     "slide_type": ""
    },
    "tags": [],
    "ExecuteTime": {
     "end_time": "2023-08-27T13:23:54.979451992Z",
     "start_time": "2023-08-27T13:23:49.173673468Z"
    }
   },
   "outputs": [],
   "source": [
    "files = sorted(glob.glob('data/sites/INFN_T1-CSCS_LCG2/*.json'))"
   ]
  },
  {
   "cell_type": "code",
   "execution_count": 6,
   "id": "f3fdf9c4eb949c82",
   "metadata": {
    "collapsed": false,
    "editable": true,
    "slideshow": {
     "slide_type": ""
    },
    "tags": [],
    "ExecuteTime": {
     "end_time": "2023-08-27T13:23:54.979910989Z",
     "start_time": "2023-08-27T13:23:49.375702288Z"
    }
   },
   "outputs": [],
   "source": [
    "import json"
   ]
  },
  {
   "cell_type": "code",
   "execution_count": 7,
   "id": "3cdd63c7dcd0f1d0",
   "metadata": {
    "collapsed": false,
    "editable": true,
    "slideshow": {
     "slide_type": ""
    },
    "tags": [],
    "ExecuteTime": {
     "end_time": "2023-08-27T13:23:54.980130131Z",
     "start_time": "2023-08-27T13:23:49.417743564Z"
    }
   },
   "outputs": [],
   "source": [
    "with open(files[18689], 'r') as f:\n",
    "    data = json.load(f)"
   ]
  },
  {
   "cell_type": "code",
   "execution_count": 8,
   "id": "d4452127459a47c6",
   "metadata": {
    "collapsed": false,
    "editable": true,
    "slideshow": {
     "slide_type": ""
    },
    "tags": [],
    "ExecuteTime": {
     "end_time": "2023-08-27T13:23:54.980706120Z",
     "start_time": "2023-08-27T13:23:49.417921835Z"
    }
   },
   "outputs": [
    {
     "data": {
      "text/plain": "{'max_rtt': 18.9,\n 'src_VO': 'ATLAS',\n 'created_at': '2023-01-18T17:16:50.097470799Z',\n 'dest': '2001:620:808:4129::15',\n 'src_site': 'INFN-T1',\n 'path_complete': False,\n 'MA': '2001:760:4205:254::12',\n 'destination_reached': True,\n 'ipv6': True,\n 'dest_production': True,\n 'asns': [137, 0, 137, 137, 137, 20965, 20965, 20965, 559, 559, 559],\n 'n_hops': 11,\n 'timestamp': 1674061240000,\n 'src': '2001:760:4205:254::12',\n 'dest_site': 'CSCS-LCG2',\n 'dest_VO': 'ATLAS',\n 'looping': False,\n 'src_host': 'perfsonar-ow.cnaf.infn.it',\n 'push': False,\n 'route-sha1': 'ba4ceca130b0730eb9fdf490d461f136912dcf02',\n 'ttls': [1, 2, 3, 4, 5, 6, 7, 8, 9, 10, 12],\n 'rtts': [0.8, 0.2, 0.4, 3.4, 6.3, 6.2, 13.5, 18.9, 17.2, 15.4, 14.6],\n 'dest_host': 'perfsonar02.lcg.cscs.ch',\n 'hops': ['2001:760:4205:254::2',\n  'fd00:0:0:150::156',\n  '2001:760:ffff:110::1c',\n  '2001:760:ffff:ffaa::180:51',\n  '2001:760:ffff:ffaa::180:57',\n  '2001:798:1e:10aa::9',\n  '2001:798:cc::1d',\n  '2001:798:12:10aa::2',\n  '2001:620:0:c05c::2',\n  '2001:620:0:ffaf::',\n  '2001:620:808:4129::15'],\n 'src_production': True}"
     },
     "execution_count": 8,
     "metadata": {},
     "output_type": "execute_result"
    }
   ],
   "source": [
    "data"
   ]
  },
  {
   "cell_type": "code",
   "execution_count": 9,
   "id": "f1403a9e900b27b5",
   "metadata": {
    "collapsed": false,
    "editable": true,
    "slideshow": {
     "slide_type": ""
    },
    "tags": [],
    "ExecuteTime": {
     "end_time": "2023-08-27T13:23:54.981144735Z",
     "start_time": "2023-08-27T13:23:49.418063733Z"
    }
   },
   "outputs": [
    {
     "data": {
      "text/plain": "dict_keys(['max_rtt', 'src_VO', 'created_at', 'dest', 'src_site', 'path_complete', 'MA', 'destination_reached', 'ipv6', 'dest_production', 'asns', 'n_hops', 'timestamp', 'src', 'dest_site', 'dest_VO', 'looping', 'src_host', 'push', 'route-sha1', 'ttls', 'rtts', 'dest_host', 'hops', 'src_production'])"
     },
     "execution_count": 9,
     "metadata": {},
     "output_type": "execute_result"
    }
   ],
   "source": [
    "data.keys()"
   ]
  },
  {
   "cell_type": "code",
   "execution_count": 10,
   "id": "7260ee4c92f7c42d",
   "metadata": {
    "collapsed": false,
    "editable": true,
    "slideshow": {
     "slide_type": ""
    },
    "tags": [],
    "ExecuteTime": {
     "end_time": "2023-08-27T13:23:55.116222968Z",
     "start_time": "2023-08-27T13:23:49.418200044Z"
    }
   },
   "outputs": [
    {
     "data": {
      "text/plain": "[137, 0, 137, 137, 137, 20965, 20965, 20965, 559, 559, 559]"
     },
     "execution_count": 10,
     "metadata": {},
     "output_type": "execute_result"
    }
   ],
   "source": [
    "data['asns']"
   ]
  },
  {
   "cell_type": "code",
   "execution_count": 11,
   "id": "20bdab39ce1bbaa4",
   "metadata": {
    "collapsed": false,
    "editable": true,
    "slideshow": {
     "slide_type": ""
    },
    "tags": [],
    "ExecuteTime": {
     "end_time": "2023-08-27T13:23:55.116503477Z",
     "start_time": "2023-08-27T13:23:49.461890752Z"
    }
   },
   "outputs": [],
   "source": [
    "from collections import defaultdict"
   ]
  },
  {
   "cell_type": "code",
   "execution_count": 12,
   "id": "9642e5c742593437",
   "metadata": {
    "collapsed": false,
    "editable": true,
    "slideshow": {
     "slide_type": ""
    },
    "tags": [],
    "ExecuteTime": {
     "end_time": "2023-08-27T13:23:55.116678448Z",
     "start_time": "2023-08-27T13:23:49.462050987Z"
    }
   },
   "outputs": [],
   "source": [
    "import numpy as np"
   ]
  },
  {
   "cell_type": "code",
   "execution_count": 13,
   "id": "80fdff7d455a77ce",
   "metadata": {
    "collapsed": false,
    "editable": true,
    "slideshow": {
     "slide_type": ""
    },
    "tags": [],
    "ExecuteTime": {
     "end_time": "2023-08-27T13:23:55.116838914Z",
     "start_time": "2023-08-27T13:23:49.462157446Z"
    }
   },
   "outputs": [],
   "source": [
    "from hashlib import sha1"
   ]
  },
  {
   "cell_type": "code",
   "execution_count": 14,
   "id": "231ddbe04a99105a",
   "metadata": {
    "collapsed": false,
    "editable": true,
    "slideshow": {
     "slide_type": ""
    },
    "tags": [],
    "ExecuteTime": {
     "end_time": "2023-08-27T13:23:55.117001599Z",
     "start_time": "2023-08-27T13:23:49.462249381Z"
    }
   },
   "outputs": [],
   "source": [
    "def remove_duplicates(values):\n",
    "    deduped = []\n",
    "    initial = values[0]\n",
    "    for value in values[1:]:\n",
    "        if value != initial:\n",
    "            deduped.append(value)\n",
    "            initial = value\n",
    "    return deduped"
   ]
  },
  {
   "cell_type": "code",
   "execution_count": 15,
   "id": "8cdebc448515c0cf",
   "metadata": {
    "collapsed": false,
    "editable": true,
    "slideshow": {
     "slide_type": ""
    },
    "tags": [],
    "ExecuteTime": {
     "end_time": "2023-08-27T13:23:55.117172900Z",
     "start_time": "2023-08-27T13:23:49.462345032Z"
    }
   },
   "outputs": [],
   "source": [
    "def get_hash(values):\n",
    "    return sha1(\n",
    "            str(values).encode('utf-8')\n",
    "        ).hexdigest()[-8:]"
   ]
  },
  {
   "cell_type": "code",
   "execution_count": 16,
   "id": "9de602887f7b4d6e",
   "metadata": {
    "collapsed": false,
    "editable": true,
    "slideshow": {
     "slide_type": ""
    },
    "tags": [],
    "ExecuteTime": {
     "end_time": "2023-08-27T13:23:55.117324037Z",
     "start_time": "2023-08-27T13:23:49.462463252Z"
    }
   },
   "outputs": [],
   "source": [
    "asn_transition_probs = defaultdict(lambda: defaultdict(lambda: 0))\n",
    "asn_ip_prob = defaultdict(lambda: defaultdict(lambda: 0))"
   ]
  },
  {
   "cell_type": "code",
   "execution_count": 17,
   "id": "98ebae0b4c16d59b",
   "metadata": {
    "collapsed": false,
    "editable": true,
    "slideshow": {
     "slide_type": ""
    },
    "tags": [],
    "ExecuteTime": {
     "end_time": "2023-08-27T13:23:55.149439076Z",
     "start_time": "2023-08-27T13:23:49.462599665Z"
    }
   },
   "outputs": [],
   "source": [
    "from traced_v2.models.poisson import PoissonModel"
   ]
  },
  {
   "cell_type": "code",
   "execution_count": 18,
   "id": "431a8b839140c2a",
   "metadata": {
    "collapsed": false,
    "editable": true,
    "slideshow": {
     "slide_type": ""
    },
    "tags": [],
    "ExecuteTime": {
     "end_time": "2023-08-27T13:23:55.149692079Z",
     "start_time": "2023-08-27T13:23:49.508114161Z"
    }
   },
   "outputs": [],
   "source": [
    "n_hops_model = PoissonModel(\"src\", \"dest\") "
   ]
  },
  {
   "cell_type": "code",
   "execution_count": 19,
   "id": "11bdcd3f51d0b221",
   "metadata": {
    "collapsed": false,
    "editable": true,
    "slideshow": {
     "slide_type": ""
    },
    "tags": [],
    "ExecuteTime": {
     "end_time": "2023-08-27T13:23:55.171144468Z",
     "start_time": "2023-08-27T13:23:49.508455077Z"
    }
   },
   "outputs": [],
   "source": [
    "from traced.models.bernoulli_model import BernoulliModel"
   ]
  },
  {
   "cell_type": "code",
   "execution_count": 20,
   "id": "252d6621ccffdfaa",
   "metadata": {
    "collapsed": false,
    "editable": true,
    "slideshow": {
     "slide_type": ""
    },
    "tags": [],
    "ExecuteTime": {
     "end_time": "2023-08-27T13:23:55.172456178Z",
     "start_time": "2023-08-27T13:23:49.562234625Z"
    }
   },
   "outputs": [],
   "source": [
    "reached = BernoulliModel(\"src\", \"dest\")"
   ]
  },
  {
   "cell_type": "code",
   "execution_count": 21,
   "id": "5545f6fbe4d1980a",
   "metadata": {
    "collapsed": false,
    "editable": true,
    "slideshow": {
     "slide_type": ""
    },
    "tags": [],
    "ExecuteTime": {
     "end_time": "2023-08-27T13:23:55.172686882Z",
     "start_time": "2023-08-27T13:23:49.609771750Z"
    }
   },
   "outputs": [],
   "source": [
    "path_complete = BernoulliModel(\"src\", \"dest\")"
   ]
  },
  {
   "cell_type": "code",
   "execution_count": 22,
   "id": "3134c994d154d0e7",
   "metadata": {
    "collapsed": false,
    "editable": true,
    "slideshow": {
     "slide_type": ""
    },
    "tags": [],
    "ExecuteTime": {
     "end_time": "2023-08-27T13:24:02.587280055Z",
     "start_time": "2023-08-27T13:23:49.609876489Z"
    }
   },
   "outputs": [],
   "source": [
    "asn_probs = []\n",
    "ip_probs = []\n",
    "timestamps = []\n",
    "n_hops = []\n",
    "\n",
    "asn_hashes = []\n",
    "uniq_asn_hashes = []\n",
    "asn_error = []\n",
    "\n",
    "for file in files:\n",
    "    with open(file, 'r') as f:\n",
    "        data = json.load(f)\n",
    "    n_hops_model.log(data['timestamp'], len(data['hops']))    \n",
    "    if not ('asns' in data and data['asns'] and 'hops' in data and data['hops']): \n",
    "        continue\n",
    "    \n",
    "    reached.log(data['timestamp'], data['destination_reached'])    \n",
    "    path_complete.log(data['timestamp'], data['path_complete'])    \n",
    "    \n",
    "    timestamps.append(data['timestamp'])\n",
    "    n_hops.append(len(data['hops']))\n",
    "    current_asn = -1\n",
    "    \n",
    "    _asn_probs = []\n",
    "    _ip_probs = []\n",
    "    _mixed_probs = []\n",
    "    \n",
    "    for asn, ip in zip(data['asns'], data['hops']):\n",
    "        _asn_probs.append(asn_transition_probs[current_asn][asn] / (1+sum(asn_transition_probs[current_asn].values())))\n",
    "        asn_transition_probs[current_asn][asn] += 1\n",
    "        _ip_probs.append(asn_ip_prob[asn][ip] / (1+sum(asn_ip_prob[asn].values())))\n",
    "        asn_ip_prob[asn][ip] += 1\n",
    "        current_asn = asn\n",
    "        \n",
    "    asn_probs.append(_asn_probs)\n",
    "    ip_probs.append(_ip_probs)\n",
    "    \n",
    "    asn_hashes.append(get_hash(data['asns']))\n",
    "    uniq_asn_hashes.append(get_hash(remove_duplicates(data['asns'])))\n",
    "    "
   ]
  },
  {
   "cell_type": "code",
   "execution_count": 23,
   "id": "a1c62d78f7697011",
   "metadata": {
    "collapsed": false,
    "editable": true,
    "slideshow": {
     "slide_type": ""
    },
    "tags": [],
    "ExecuteTime": {
     "end_time": "2023-08-27T13:24:02.641259728Z",
     "start_time": "2023-08-27T13:24:02.618974997Z"
    }
   },
   "outputs": [],
   "source": [
    "timestamps = pd.to_datetime(timestamps, unit='ms')"
   ]
  },
  {
   "cell_type": "code",
   "execution_count": 24,
   "id": "28da2f4e77a4933f",
   "metadata": {
    "collapsed": false,
    "editable": true,
    "slideshow": {
     "slide_type": ""
    },
    "tags": [],
    "ExecuteTime": {
     "end_time": "2023-08-27T13:24:03.376339644Z",
     "start_time": "2023-08-27T13:24:02.665816152Z"
    }
   },
   "outputs": [],
   "source": [
    "final = np.hstack([np.mean(np.array(asn_probs[i]) * np.array(ip_probs[i])).T for i in range(len(ip_probs))])"
   ]
  },
  {
   "cell_type": "code",
   "execution_count": 25,
   "id": "fd8205bd25272002",
   "metadata": {
    "collapsed": false,
    "editable": true,
    "slideshow": {
     "slide_type": ""
    },
    "tags": [],
    "ExecuteTime": {
     "end_time": "2023-08-27T13:24:03.850792758Z",
     "start_time": "2023-08-27T13:24:03.411393348Z"
    }
   },
   "outputs": [],
   "source": [
    "K = np.hstack([np.log1p(np.mean(np.array(x)))for x in ip_probs])"
   ]
  },
  {
   "cell_type": "code",
   "execution_count": 26,
   "id": "676062e6a7ed8888",
   "metadata": {
    "collapsed": false,
    "editable": true,
    "slideshow": {
     "slide_type": ""
    },
    "tags": [],
    "ExecuteTime": {
     "end_time": "2023-08-27T13:24:04.198196814Z",
     "start_time": "2023-08-27T13:24:03.851845957Z"
    }
   },
   "outputs": [],
   "source": [
    "L = np.hstack([np.exp(-np.linalg.norm(np.array(x)))for x in asn_probs])"
   ]
  },
  {
   "cell_type": "code",
   "execution_count": 27,
   "id": "7a5e86bf48a3f651",
   "metadata": {
    "collapsed": false,
    "editable": true,
    "slideshow": {
     "slide_type": ""
    },
    "tags": [],
    "ExecuteTime": {
     "end_time": "2023-08-27T13:24:04.212529554Z",
     "start_time": "2023-08-27T13:24:04.199492519Z"
    }
   },
   "outputs": [
    {
     "data": {
      "text/plain": "array([0.        , 0.        , 0.11415292, ..., 0.14261161, 0.13922549,\n       0.13812955])"
     },
     "execution_count": 27,
     "metadata": {},
     "output_type": "execute_result"
    }
   ],
   "source": [
    "K"
   ]
  },
  {
   "cell_type": "code",
   "execution_count": 28,
   "id": "f946e8b3ec717463",
   "metadata": {
    "collapsed": false,
    "editable": true,
    "slideshow": {
     "slide_type": ""
    },
    "tags": [],
    "ExecuteTime": {
     "end_time": "2023-08-27T13:24:04.291445406Z",
     "start_time": "2023-08-27T13:24:04.203797309Z"
    }
   },
   "outputs": [],
   "source": [
    "T = pd.DataFrame(\n",
    "    {'asn_prop_t':K.flatten(), 'ip_prob': L.flatten() , 'asn_hash': asn_hashes, 'uniq_asns': uniq_asn_hashes,'final':final, 'timestamp': pd.to_datetime(timestamps, unit='ms')})"
   ]
  },
  {
   "cell_type": "code",
   "execution_count": 29,
   "id": "87c92532f03dc3ef",
   "metadata": {
    "collapsed": false,
    "editable": true,
    "slideshow": {
     "slide_type": ""
    },
    "tags": [],
    "ExecuteTime": {
     "end_time": "2023-08-27T13:24:04.291711515Z",
     "start_time": "2023-08-27T13:24:04.244698154Z"
    }
   },
   "outputs": [],
   "source": [
    "T['final_diff'] = T['final'].diff()"
   ]
  },
  {
   "cell_type": "code",
   "execution_count": 30,
   "id": "ea3280f78847b65c",
   "metadata": {
    "collapsed": false,
    "editable": true,
    "slideshow": {
     "slide_type": ""
    },
    "tags": [],
    "ExecuteTime": {
     "end_time": "2023-08-27T13:24:04.292083915Z",
     "start_time": "2023-08-27T13:24:04.248981765Z"
    }
   },
   "outputs": [],
   "source": [
    "T['asn_prop_diff'] = T['asn_prop_t'].diff()"
   ]
  },
  {
   "cell_type": "code",
   "execution_count": 31,
   "id": "e96664502be1667",
   "metadata": {
    "collapsed": false,
    "editable": true,
    "slideshow": {
     "slide_type": ""
    },
    "tags": [],
    "ExecuteTime": {
     "end_time": "2023-08-27T13:24:04.292234347Z",
     "start_time": "2023-08-27T13:24:04.289771898Z"
    }
   },
   "outputs": [],
   "source": [
    "# T.plot(backend='plotly', y='asn_prop_t', x='timestamp', kind='scatter', color='asn_hash')"
   ]
  },
  {
   "cell_type": "code",
   "execution_count": 32,
   "id": "de3762c10347ee80",
   "metadata": {
    "collapsed": false,
    "editable": true,
    "slideshow": {
     "slide_type": ""
    },
    "tags": [],
    "ExecuteTime": {
     "end_time": "2023-08-27T13:24:04.292372444Z",
     "start_time": "2023-08-27T13:24:04.289931336Z"
    }
   },
   "outputs": [],
   "source": [
    "grouped = T.groupby('asn_hash')"
   ]
  },
  {
   "cell_type": "code",
   "execution_count": 33,
   "id": "4c6f812f2d54c7ae",
   "metadata": {
    "collapsed": false,
    "editable": true,
    "slideshow": {
     "slide_type": ""
    },
    "tags": [],
    "ExecuteTime": {
     "end_time": "2023-08-27T13:24:04.292507082Z",
     "start_time": "2023-08-27T13:24:04.290035582Z"
    }
   },
   "outputs": [],
   "source": [
    "models = {}"
   ]
  },
  {
   "cell_type": "code",
   "execution_count": 34,
   "id": "369bbc81ec4e8a3b",
   "metadata": {
    "collapsed": false,
    "editable": true,
    "slideshow": {
     "slide_type": ""
    },
    "tags": [],
    "ExecuteTime": {
     "end_time": "2023-08-27T13:24:04.292638561Z",
     "start_time": "2023-08-27T13:24:04.290115521Z"
    }
   },
   "outputs": [],
   "source": [
    "from traced_v2.models.normal import NormalModel"
   ]
  },
  {
   "cell_type": "code",
   "execution_count": 35,
   "id": "7aff256f6cad3e98",
   "metadata": {
    "collapsed": false,
    "editable": true,
    "slideshow": {
     "slide_type": ""
    },
    "tags": [],
    "ExecuteTime": {
     "end_time": "2023-08-27T13:24:05.135882894Z",
     "start_time": "2023-08-27T13:24:04.290194843Z"
    }
   },
   "outputs": [],
   "source": [
    "for i, x in grouped.groups.items():\n",
    "    trace = T[T['asn_hash']==i].set_index('timestamp').sort_index()\n",
    "    models[i] = NormalModel(\"src\", \"dest\", one_sided=False, sigma_0=0, mu_0=0.3, sigma_factor=3, gamma=1)\n",
    "    for j, val in trace[('asn_prop_t')].items():\n",
    "        models[i].log(j.timestamp()*1000, np.exp(val))\n",
    "        \n",
    "    "
   ]
  },
  {
   "cell_type": "code",
   "execution_count": 36,
   "id": "1763b98fcd5e1f5e",
   "metadata": {
    "collapsed": false,
    "editable": true,
    "slideshow": {
     "slide_type": ""
    },
    "tags": [],
    "ExecuteTime": {
     "end_time": "2023-08-27T13:24:05.212356726Z",
     "start_time": "2023-08-27T13:24:05.121956614Z"
    }
   },
   "outputs": [],
   "source": [
    "import matplotlib.pyplot as plt\n",
    "\n"
   ]
  },
  {
   "cell_type": "code",
   "execution_count": 37,
   "id": "4e655f3c32494067",
   "metadata": {
    "collapsed": false,
    "editable": true,
    "slideshow": {
     "slide_type": ""
    },
    "tags": [],
    "ExecuteTime": {
     "end_time": "2023-08-27T13:24:05.212584956Z",
     "start_time": "2023-08-27T13:24:05.161755251Z"
    }
   },
   "outputs": [],
   "source": [
    "# for m in models.values():\n",
    "#     fig = plt.figure()\n",
    "#     m.plot()\n",
    "#     fig.show()"
   ]
  },
  {
   "cell_type": "code",
   "execution_count": 38,
   "id": "7c646c3fa9d3a0c9",
   "metadata": {
    "collapsed": false,
    "editable": true,
    "slideshow": {
     "slide_type": ""
    },
    "tags": [],
    "ExecuteTime": {
     "end_time": "2023-08-27T13:24:05.215019068Z",
     "start_time": "2023-08-27T13:24:05.161932104Z"
    }
   },
   "outputs": [
    {
     "data": {
      "text/plain": "Empty DataFrame\nColumns: [asn_prop_t, ip_prob, asn_hash, uniq_asns, final, timestamp, final_diff, asn_prop_diff]\nIndex: []",
      "text/html": "<div>\n<style scoped>\n    .dataframe tbody tr th:only-of-type {\n        vertical-align: middle;\n    }\n\n    .dataframe tbody tr th {\n        vertical-align: top;\n    }\n\n    .dataframe thead th {\n        text-align: right;\n    }\n</style>\n<table border=\"1\" class=\"dataframe\">\n  <thead>\n    <tr style=\"text-align: right;\">\n      <th></th>\n      <th>asn_prop_t</th>\n      <th>ip_prob</th>\n      <th>asn_hash</th>\n      <th>uniq_asns</th>\n      <th>final</th>\n      <th>timestamp</th>\n      <th>final_diff</th>\n      <th>asn_prop_diff</th>\n    </tr>\n  </thead>\n  <tbody>\n  </tbody>\n</table>\n</div>"
     },
     "execution_count": 38,
     "metadata": {},
     "output_type": "execute_result"
    }
   ],
   "source": [
    " T[T['asn_hash']=='303fd16d'].sort_values('timestamp')\n"
   ]
  },
  {
   "cell_type": "code",
   "execution_count": 39,
   "id": "2a2faf4005c56626",
   "metadata": {
    "collapsed": false,
    "editable": true,
    "slideshow": {
     "slide_type": ""
    },
    "tags": [],
    "ExecuteTime": {
     "end_time": "2023-08-27T13:24:05.215174581Z",
     "start_time": "2023-08-27T13:24:05.205723657Z"
    }
   },
   "outputs": [],
   "source": [
    "import matplotlib.pyplot as plt\n",
    "from math import prod"
   ]
  },
  {
   "cell_type": "code",
   "execution_count": 40,
   "id": "b55adbb043b7ac62",
   "metadata": {
    "collapsed": false,
    "editable": true,
    "slideshow": {
     "slide_type": ""
    },
    "tags": [],
    "ExecuteTime": {
     "end_time": "2023-08-27T13:24:05.846323629Z",
     "start_time": "2023-08-27T13:24:05.205856601Z"
    }
   },
   "outputs": [],
   "source": [
    "final = np.hstack([-np.log1p(np.mean(np.array(asn_probs[i]))).T for i in range(len(ip_probs))])"
   ]
  },
  {
   "cell_type": "code",
   "execution_count": 41,
   "id": "773ff73bab0a2183",
   "metadata": {
    "collapsed": false,
    "editable": true,
    "slideshow": {
     "slide_type": ""
    },
    "tags": [],
    "ExecuteTime": {
     "end_time": "2023-08-27T13:24:06.478300156Z",
     "start_time": "2023-08-27T13:24:05.843993072Z"
    }
   },
   "outputs": [
    {
     "name": "stderr",
     "output_type": "stream",
     "text": [
      "/home/msi/miniconda3/envs/stats/lib/python3.10/site-packages/IPython/core/interactiveshell.py:3448: FutureWarning: arrays to stack must be passed as a \"sequence\" type such as list or tuple. Support for non-sequence iterables such as generators is deprecated as of NumPy 1.16 and will raise an error in the future.\n",
      "  if await self.run_code(code, result, async_=asy):\n"
     ]
    }
   ],
   "source": [
    "final2 = np.stack([np.sum(x)] for x in asn_probs)"
   ]
  },
  {
   "cell_type": "code",
   "execution_count": 42,
   "id": "56dbcab6fa0e9338",
   "metadata": {
    "collapsed": false,
    "editable": true,
    "slideshow": {
     "slide_type": ""
    },
    "tags": [],
    "ExecuteTime": {
     "end_time": "2023-08-27T13:24:06.513082390Z",
     "start_time": "2023-08-27T13:24:06.478995719Z"
    }
   },
   "outputs": [
    {
     "data": {
      "text/plain": "array([    0,     1,     2,     3,     4,     5,     6,     7,     8,\n           9,    10,    11,    12,    13,    14,    15,    16,    17,\n          18,    19,    20,    21,    22,    23,    24,    25,    26,\n          27,    28,    29,    30,    31,    32,    33,    34,    35,\n          36,    37,    38,    39,    40,    41,    42,    43,    44,\n          45,    46,    47,    48,    49,    50,    51,    52,    53,\n          54,    55,    56,    57,    58,    59,    60,    61,    62,\n          63,    64,    65,    66,    67,    68,    69,    70,    71,\n          72,    73,    74,    75,    76,    77,    78,    79,    80,\n          81,    82,    83,    84,    85,    86,    87,    88,    89,\n          90,    91,    92,    93,    94,    95,    96,    97,    98,\n          99,   100,   101,   102,   103,   104,   105,   106,   107,\n         108,   109,   110,   111,   112,   113,   114,   115,   116,\n         117,   118,   119,   120,   121,   122,   123,   124,   125,\n         126,   127,   128,   129,   130,   131,   132,   133,   134,\n         135,   136,   137,   138,   139,   140,   141,   142,   143,\n         144,   145,   146,   147,   148,   149,   150,   151,   152,\n         153,   154,   155,   156,   157,   158,   159,   160,   161,\n         162,   163,   164,   165,   166,   167,   168,   169,   170,\n         171,   172,   173,   174,   175,   176,   177,   178,   189,\n         201,   211,   243,   270,   275,   305,   311,   317,   379,\n         520,  1142,  1150,  1293,  1842,  1946,  2226,  2582,  3005,\n        3539,  3828,  4254,  4350,  4475,  4605,  4906,  5069,  5476,\n        5791,  5823,  6319,  6713,  6888,  7312,  7429,  7452,  7645,\n        7727,  7824,  7829,  8053,  8274,  8549,  8825,  9472, 10016,\n       10185, 10579, 10700, 11719, 12037, 12142, 12588, 12638, 13588,\n       14231, 14330, 14648, 15928, 16095, 16282, 16286, 17084, 17450,\n       17457, 17566, 17599, 17688, 18032, 18399, 18589, 18973, 19235,\n       19526, 20183, 20219, 20554, 20608, 20972, 21612, 21888, 21889,\n       21891, 21893, 21912, 21913, 22524, 23044, 23476, 24123, 24671,\n       24996, 25558, 26095, 26694, 27435, 27846, 28086, 28474, 28570,\n       28647, 28861, 29362, 29872, 30707, 30962, 31125, 32545, 33202,\n       33470, 33529, 33668, 33805, 34107, 34296, 34339, 34340, 34563,\n       34693, 34746, 35389, 35631, 35664, 35692, 36047, 37225, 37907,\n       37946, 38610, 38729, 38753, 38754, 38755, 38756, 38757, 39642,\n       40288, 40987, 41218, 41819, 42294, 42399, 42413, 42801, 42955,\n       43549, 43764, 44190, 44522, 44654, 44747, 44779, 45198, 45449,\n       46445, 46612, 46635, 47711, 47720, 47847, 48747, 49021, 49782,\n       50128, 50290, 51230, 51516, 51666, 51736, 52401, 53289, 53508,\n       53807, 54120, 54220, 54577, 54639, 54774, 55191, 56534, 56545])"
     },
     "execution_count": 42,
     "metadata": {},
     "output_type": "execute_result"
    }
   ],
   "source": [
    "np.where(final > -.5)[0]"
   ]
  },
  {
   "cell_type": "code",
   "execution_count": 43,
   "id": "ef01de972292883c",
   "metadata": {
    "collapsed": false,
    "editable": true,
    "slideshow": {
     "slide_type": ""
    },
    "tags": [],
    "ExecuteTime": {
     "end_time": "2023-08-27T13:24:06.605108385Z",
     "start_time": "2023-08-27T13:24:06.487666103Z"
    }
   },
   "outputs": [],
   "source": [
    "uniqs = np.unique(uniq_asn_hashes)"
   ]
  },
  {
   "cell_type": "code",
   "execution_count": 44,
   "id": "8edb23fcc8e04298",
   "metadata": {
    "collapsed": false,
    "editable": true,
    "slideshow": {
     "slide_type": ""
    },
    "tags": [],
    "ExecuteTime": {
     "end_time": "2023-08-27T13:24:06.605403772Z",
     "start_time": "2023-08-27T13:24:06.522273938Z"
    }
   },
   "outputs": [],
   "source": [
    "cmap = plt.cm.viridis"
   ]
  },
  {
   "cell_type": "code",
   "execution_count": 45,
   "id": "76d344060ee11d5c",
   "metadata": {
    "collapsed": false,
    "editable": true,
    "slideshow": {
     "slide_type": ""
    },
    "tags": [],
    "ExecuteTime": {
     "end_time": "2023-08-27T13:24:06.605957414Z",
     "start_time": "2023-08-27T13:24:06.526222610Z"
    }
   },
   "outputs": [
    {
     "data": {
      "text/plain": "array(['0b90932e', '22b6d2f9', '2a97674c', '3a29975e', '44580a0d',\n       '4c7cc3cc', '5349d60b', '615cc7be', '67065e0d', '7f126298',\n       '90bcefe6', 'd0ed4502', 'd77392a5', 'ea30d07d', 'ebbdb9b9',\n       'efe3e0c0'], dtype='<U8')"
     },
     "execution_count": 45,
     "metadata": {},
     "output_type": "execute_result"
    }
   ],
   "source": [
    "uniqs"
   ]
  },
  {
   "cell_type": "code",
   "execution_count": 46,
   "id": "1ed63f1ef4b869ca",
   "metadata": {
    "collapsed": false,
    "editable": true,
    "slideshow": {
     "slide_type": ""
    },
    "tags": [],
    "ExecuteTime": {
     "end_time": "2023-08-27T13:24:08.890667035Z",
     "start_time": "2023-08-27T13:24:06.573709712Z"
    }
   },
   "outputs": [
    {
     "data": {
      "text/plain": "<matplotlib.legend.Legend at 0x7ff3d55159c0>"
     },
     "execution_count": 46,
     "metadata": {},
     "output_type": "execute_result"
    },
    {
     "data": {
      "text/plain": "<Figure size 2000x1000 with 1 Axes>",
      "image/png": "[encoded data removed]"
     },
     "metadata": {},
     "output_type": "display_data"
    }
   ],
   "source": [
    "index = np.arange(final.shape[0])\n",
    "fig = plt.figure(figsize=(20, 10))\n",
    "ax = fig.add_subplot(111)\n",
    "\n",
    "for i, u in enumerate(uniqs):\n",
    "    sub_index = np.where(np.array(uniq_asn_hashes)==u)\n",
    "    ax.scatter(index[sub_index], final[sub_index], label=u)\n",
    "plt.legend()\n"
   ]
  },
  {
   "cell_type": "code",
   "execution_count": 47,
   "id": "381266027885f5ae",
   "metadata": {
    "collapsed": false,
    "editable": true,
    "slideshow": {
     "slide_type": ""
    },
    "tags": [],
    "ExecuteTime": {
     "end_time": "2023-08-27T13:24:09.761246031Z",
     "start_time": "2023-08-27T13:24:08.895046153Z"
    }
   },
   "outputs": [
    {
     "data": {
      "text/plain": "<Axes: >"
     },
     "execution_count": 47,
     "metadata": {},
     "output_type": "execute_result"
    },
    {
     "data": {
      "text/plain": "<Figure size 2000x500 with 1 Axes>",
      "image/png": "[encoded data removed]"
     },
     "metadata": {},
     "output_type": "display_data"
    }
   ],
   "source": [
    "fig = plt.figure(figsize=(20, 5))\n",
    "ax =  fig.gca()\n",
    "nh = n_hops_model.to_frame()\n",
    "nh['observed_values'].plot(ax=ax) "
   ]
  },
  {
   "cell_type": "code",
   "execution_count": 47,
   "id": "8270ebc8fe43bd4d",
   "metadata": {
    "collapsed": false,
    "editable": true,
    "slideshow": {
     "slide_type": ""
    },
    "tags": [],
    "ExecuteTime": {
     "end_time": "2023-08-27T13:24:09.762036723Z",
     "start_time": "2023-08-27T13:24:09.745157425Z"
    }
   },
   "outputs": [],
   "source": []
  },
  {
   "cell_type": "code",
   "execution_count": 47,
   "id": "e3731ebd89eb0712",
   "metadata": {
    "collapsed": false,
    "editable": true,
    "slideshow": {
     "slide_type": ""
    },
    "tags": [],
    "ExecuteTime": {
     "end_time": "2023-08-27T13:24:09.774588904Z",
     "start_time": "2023-08-27T13:24:09.748422290Z"
    }
   },
   "outputs": [],
   "source": []
  },
  {
   "cell_type": "code",
   "execution_count": 48,
   "id": "52d531901981b068",
   "metadata": {
    "collapsed": false,
    "editable": true,
    "slideshow": {
     "slide_type": ""
    },
    "tags": [],
    "ExecuteTime": {
     "end_time": "2023-08-27T13:24:09.894231915Z",
     "start_time": "2023-08-27T13:24:09.761954315Z"
    }
   },
   "outputs": [
    {
     "data": {
      "text/plain": "                     observed_values  expected_values  probabilities  \\\n2023-01-01 00:01:41               10         7.333333       0.080989   \n2023-01-01 00:01:46               11         8.250000       0.078869   \n2023-01-01 00:06:00               11         8.800000       0.092547   \n2023-01-01 00:06:08               11         9.166667       0.100493   \n2023-01-01 00:07:17               11         9.428571       0.105432   \n...                              ...              ...            ...   \n2023-03-31 23:16:46               11        11.250406       0.119043   \n2023-03-31 23:26:08               11        11.250402       0.119043   \n2023-03-31 23:29:47               11        11.250397       0.119043   \n2023-03-31 23:37:37               11        11.250393       0.119043   \n2023-03-31 23:49:05               11        11.250389       0.119043   \n\n                     anomalies  \n2023-01-01 00:01:41      False  \n2023-01-01 00:01:46      False  \n2023-01-01 00:06:00      False  \n2023-01-01 00:06:08      False  \n2023-01-01 00:07:17      False  \n...                        ...  \n2023-03-31 23:16:46      False  \n2023-03-31 23:26:08      False  \n2023-03-31 23:29:47      False  \n2023-03-31 23:37:37      False  \n2023-03-31 23:49:05      False  \n\n[56618 rows x 4 columns]",
      "text/html": "<div>\n<style scoped>\n    .dataframe tbody tr th:only-of-type {\n        vertical-align: middle;\n    }\n\n    .dataframe tbody tr th {\n        vertical-align: top;\n    }\n\n    .dataframe thead th {\n        text-align: right;\n    }\n</style>\n<table border=\"1\" class=\"dataframe\">\n  <thead>\n    <tr style=\"text-align: right;\">\n      <th></th>\n      <th>observed_values</th>\n      <th>expected_values</th>\n      <th>probabilities</th>\n      <th>anomalies</th>\n    </tr>\n  </thead>\n  <tbody>\n    <tr>\n      <th>2023-01-01 00:01:41</th>\n      <td>10</td>\n      <td>7.333333</td>\n      <td>0.080989</td>\n      <td>False</td>\n    </tr>\n    <tr>\n      <th>2023-01-01 00:01:46</th>\n      <td>11</td>\n      <td>8.250000</td>\n      <td>0.078869</td>\n      <td>False</td>\n    </tr>\n    <tr>\n      <th>2023-01-01 00:06:00</th>\n      <td>11</td>\n      <td>8.800000</td>\n      <td>0.092547</td>\n      <td>False</td>\n    </tr>\n    <tr>\n      <th>2023-01-01 00:06:08</th>\n      <td>11</td>\n      <td>9.166667</td>\n      <td>0.100493</td>\n      <td>False</td>\n    </tr>\n    <tr>\n      <th>2023-01-01 00:07:17</th>\n      <td>11</td>\n      <td>9.428571</td>\n      <td>0.105432</td>\n      <td>False</td>\n    </tr>\n    <tr>\n      <th>...</th>\n      <td>...</td>\n      <td>...</td>\n      <td>...</td>\n      <td>...</td>\n    </tr>\n    <tr>\n      <th>2023-03-31 23:16:46</th>\n      <td>11</td>\n      <td>11.250406</td>\n      <td>0.119043</td>\n      <td>False</td>\n    </tr>\n    <tr>\n      <th>2023-03-31 23:26:08</th>\n      <td>11</td>\n      <td>11.250402</td>\n      <td>0.119043</td>\n      <td>False</td>\n    </tr>\n    <tr>\n      <th>2023-03-31 23:29:47</th>\n      <td>11</td>\n      <td>11.250397</td>\n      <td>0.119043</td>\n      <td>False</td>\n    </tr>\n    <tr>\n      <th>2023-03-31 23:37:37</th>\n      <td>11</td>\n      <td>11.250393</td>\n      <td>0.119043</td>\n      <td>False</td>\n    </tr>\n    <tr>\n      <th>2023-03-31 23:49:05</th>\n      <td>11</td>\n      <td>11.250389</td>\n      <td>0.119043</td>\n      <td>False</td>\n    </tr>\n  </tbody>\n</table>\n<p>56618 rows × 4 columns</p>\n</div>"
     },
     "execution_count": 48,
     "metadata": {},
     "output_type": "execute_result"
    }
   ],
   "source": [
    "nh"
   ]
  },
  {
   "cell_type": "code",
   "execution_count": 49,
   "id": "e0c7ac2e45f97120",
   "metadata": {
    "collapsed": false,
    "editable": true,
    "slideshow": {
     "slide_type": ""
    },
    "tags": [],
    "ExecuteTime": {
     "end_time": "2023-08-27T13:24:11.482362862Z",
     "start_time": "2023-08-27T13:24:09.805825601Z"
    }
   },
   "outputs": [
    {
     "data": {
      "text/plain": "(-0.05, 1.0)"
     },
     "execution_count": 49,
     "metadata": {},
     "output_type": "execute_result"
    },
    {
     "data": {
      "text/plain": "<Figure size 2000x500 with 1 Axes>",
      "image/png": "[encoded data removed]"
     },
     "metadata": {},
     "output_type": "display_data"
    }
   ],
   "source": [
    "fig = plt.figure(figsize=(20, 5))\n",
    "ax =  fig.gca()\n",
    "n_hops_model.plot(ax=ax)\n",
    "# path_complete.plot(ax=ax)\n",
    "reached.plot(ax=ax)\n",
    "ax.set_ylim(-0.05, 1 )\n"
   ]
  },
  {
   "cell_type": "code",
   "execution_count": 50,
   "id": "fa7a7cd7-1cda-493a-a7ae-07d13c570c1f",
   "metadata": {
    "editable": true,
    "slideshow": {
     "slide_type": ""
    },
    "tags": [],
    "ExecuteTime": {
     "end_time": "2023-08-27T13:24:11.523593086Z",
     "start_time": "2023-08-27T13:24:11.483190301Z"
    }
   },
   "outputs": [
    {
     "name": "stdout",
     "output_type": "stream",
     "text": [
      "asn 56619\n",
      "uniq_asn 56619\n",
      "n_hops_prob 56619\n",
      "dest_reach_prob 56619\n",
      "path_complete_prob 56619\n",
      "final 56618\n",
      "timestamp 56619\n"
     ]
    }
   ],
   "source": [
    "for i, x in {'asn': asn_hashes, 'uniq_asn': uniq_asn_hashes, 'n_hops_prob': n_hops_model.probs[1:], 'dest_reach_prob': reached.success_probs[1:], 'path_complete_prob': path_complete.success_probs[1:], 'final':final[1:], 'timestamp': timestamps}.items():\n",
    "    print(i, len(x))"
   ]
  },
  {
   "cell_type": "code",
   "execution_count": 51,
   "id": "baff2ab317354e60",
   "metadata": {
    "collapsed": false,
    "editable": true,
    "slideshow": {
     "slide_type": ""
    },
    "tags": [],
    "ExecuteTime": {
     "end_time": "2023-08-27T13:24:12.752259867Z",
     "start_time": "2023-08-27T13:24:11.495242887Z"
    }
   },
   "outputs": [
    {
     "ename": "ValueError",
     "evalue": "All arrays must be of the same length",
     "output_type": "error",
     "traceback": [
      "\u001B[0;31m---------------------------------------------------------------------------\u001B[0m",
      "\u001B[0;31mValueError\u001B[0m                                Traceback (most recent call last)",
      "Cell \u001B[0;32mIn[51], line 1\u001B[0m\n\u001B[0;32m----> 1\u001B[0m df \u001B[38;5;241m=\u001B[39m \u001B[43mpd\u001B[49m\u001B[38;5;241;43m.\u001B[39;49m\u001B[43mDataFrame\u001B[49m\u001B[43m(\u001B[49m\u001B[43m{\u001B[49m\u001B[38;5;124;43m'\u001B[39;49m\u001B[38;5;124;43masn\u001B[39;49m\u001B[38;5;124;43m'\u001B[39;49m\u001B[43m:\u001B[49m\u001B[43m \u001B[49m\u001B[43masn_hashes\u001B[49m\u001B[43m,\u001B[49m\u001B[43m \u001B[49m\u001B[38;5;124;43m'\u001B[39;49m\u001B[38;5;124;43muniq_asn\u001B[39;49m\u001B[38;5;124;43m'\u001B[39;49m\u001B[43m:\u001B[49m\u001B[43m \u001B[49m\u001B[43muniq_asn_hashes\u001B[49m\u001B[43m,\u001B[49m\u001B[43m \u001B[49m\u001B[38;5;124;43m'\u001B[39;49m\u001B[38;5;124;43mn_hops_prob\u001B[39;49m\u001B[38;5;124;43m'\u001B[39;49m\u001B[43m:\u001B[49m\u001B[43m \u001B[49m\u001B[43mn_hops_model\u001B[49m\u001B[38;5;241;43m.\u001B[39;49m\u001B[43mprobs\u001B[49m\u001B[43m[\u001B[49m\u001B[38;5;241;43m2\u001B[39;49m\u001B[43m:\u001B[49m\u001B[43m]\u001B[49m\u001B[43m,\u001B[49m\u001B[43m \u001B[49m\u001B[38;5;124;43m'\u001B[39;49m\u001B[38;5;124;43mdest_reach_prob\u001B[39;49m\u001B[38;5;124;43m'\u001B[39;49m\u001B[43m:\u001B[49m\u001B[43m \u001B[49m\u001B[43mreached\u001B[49m\u001B[38;5;241;43m.\u001B[39;49m\u001B[43msuccess_probs\u001B[49m\u001B[43m[\u001B[49m\u001B[38;5;241;43m1\u001B[39;49m\u001B[43m:\u001B[49m\u001B[43m]\u001B[49m\u001B[43m,\u001B[49m\u001B[43m \u001B[49m\u001B[38;5;124;43m'\u001B[39;49m\u001B[38;5;124;43mpath_complete_prob\u001B[39;49m\u001B[38;5;124;43m'\u001B[39;49m\u001B[43m:\u001B[49m\u001B[43m \u001B[49m\u001B[43mpath_complete\u001B[49m\u001B[38;5;241;43m.\u001B[39;49m\u001B[43msuccess_probs\u001B[49m\u001B[43m[\u001B[49m\u001B[38;5;241;43m1\u001B[39;49m\u001B[43m:\u001B[49m\u001B[43m]\u001B[49m\u001B[43m,\u001B[49m\u001B[43m \u001B[49m\u001B[38;5;124;43m'\u001B[39;49m\u001B[38;5;124;43mfinal\u001B[39;49m\u001B[38;5;124;43m'\u001B[39;49m\u001B[43m:\u001B[49m\u001B[43mfinal\u001B[49m\u001B[43m,\u001B[49m\u001B[43m \u001B[49m\u001B[38;5;124;43m'\u001B[39;49m\u001B[38;5;124;43mtimestamp\u001B[39;49m\u001B[38;5;124;43m'\u001B[39;49m\u001B[43m:\u001B[49m\u001B[43m \u001B[49m\u001B[43mtimestamps\u001B[49m\u001B[43m}\u001B[49m\u001B[43m)\u001B[49m\n",
      "File \u001B[0;32m~/miniconda3/envs/stats/lib/python3.10/site-packages/pandas/core/frame.py:709\u001B[0m, in \u001B[0;36mDataFrame.__init__\u001B[0;34m(self, data, index, columns, dtype, copy)\u001B[0m\n\u001B[1;32m    703\u001B[0m     mgr \u001B[38;5;241m=\u001B[39m \u001B[38;5;28mself\u001B[39m\u001B[38;5;241m.\u001B[39m_init_mgr(\n\u001B[1;32m    704\u001B[0m         data, axes\u001B[38;5;241m=\u001B[39m{\u001B[38;5;124m\"\u001B[39m\u001B[38;5;124mindex\u001B[39m\u001B[38;5;124m\"\u001B[39m: index, \u001B[38;5;124m\"\u001B[39m\u001B[38;5;124mcolumns\u001B[39m\u001B[38;5;124m\"\u001B[39m: columns}, dtype\u001B[38;5;241m=\u001B[39mdtype, copy\u001B[38;5;241m=\u001B[39mcopy\n\u001B[1;32m    705\u001B[0m     )\n\u001B[1;32m    707\u001B[0m \u001B[38;5;28;01melif\u001B[39;00m \u001B[38;5;28misinstance\u001B[39m(data, \u001B[38;5;28mdict\u001B[39m):\n\u001B[1;32m    708\u001B[0m     \u001B[38;5;66;03m# GH#38939 de facto copy defaults to False only in non-dict cases\u001B[39;00m\n\u001B[0;32m--> 709\u001B[0m     mgr \u001B[38;5;241m=\u001B[39m \u001B[43mdict_to_mgr\u001B[49m\u001B[43m(\u001B[49m\u001B[43mdata\u001B[49m\u001B[43m,\u001B[49m\u001B[43m \u001B[49m\u001B[43mindex\u001B[49m\u001B[43m,\u001B[49m\u001B[43m \u001B[49m\u001B[43mcolumns\u001B[49m\u001B[43m,\u001B[49m\u001B[43m \u001B[49m\u001B[43mdtype\u001B[49m\u001B[38;5;241;43m=\u001B[39;49m\u001B[43mdtype\u001B[49m\u001B[43m,\u001B[49m\u001B[43m \u001B[49m\u001B[43mcopy\u001B[49m\u001B[38;5;241;43m=\u001B[39;49m\u001B[43mcopy\u001B[49m\u001B[43m,\u001B[49m\u001B[43m \u001B[49m\u001B[43mtyp\u001B[49m\u001B[38;5;241;43m=\u001B[39;49m\u001B[43mmanager\u001B[49m\u001B[43m)\u001B[49m\n\u001B[1;32m    710\u001B[0m \u001B[38;5;28;01melif\u001B[39;00m \u001B[38;5;28misinstance\u001B[39m(data, ma\u001B[38;5;241m.\u001B[39mMaskedArray):\n\u001B[1;32m    711\u001B[0m     \u001B[38;5;28;01mfrom\u001B[39;00m \u001B[38;5;21;01mnumpy\u001B[39;00m\u001B[38;5;21;01m.\u001B[39;00m\u001B[38;5;21;01mma\u001B[39;00m \u001B[38;5;28;01mimport\u001B[39;00m mrecords\n",
      "File \u001B[0;32m~/miniconda3/envs/stats/lib/python3.10/site-packages/pandas/core/internals/construction.py:481\u001B[0m, in \u001B[0;36mdict_to_mgr\u001B[0;34m(data, index, columns, dtype, typ, copy)\u001B[0m\n\u001B[1;32m    477\u001B[0m     \u001B[38;5;28;01melse\u001B[39;00m:\n\u001B[1;32m    478\u001B[0m         \u001B[38;5;66;03m# dtype check to exclude e.g. range objects, scalars\u001B[39;00m\n\u001B[1;32m    479\u001B[0m         arrays \u001B[38;5;241m=\u001B[39m [x\u001B[38;5;241m.\u001B[39mcopy() \u001B[38;5;28;01mif\u001B[39;00m \u001B[38;5;28mhasattr\u001B[39m(x, \u001B[38;5;124m\"\u001B[39m\u001B[38;5;124mdtype\u001B[39m\u001B[38;5;124m\"\u001B[39m) \u001B[38;5;28;01melse\u001B[39;00m x \u001B[38;5;28;01mfor\u001B[39;00m x \u001B[38;5;129;01min\u001B[39;00m arrays]\n\u001B[0;32m--> 481\u001B[0m \u001B[38;5;28;01mreturn\u001B[39;00m \u001B[43marrays_to_mgr\u001B[49m\u001B[43m(\u001B[49m\u001B[43marrays\u001B[49m\u001B[43m,\u001B[49m\u001B[43m \u001B[49m\u001B[43mcolumns\u001B[49m\u001B[43m,\u001B[49m\u001B[43m \u001B[49m\u001B[43mindex\u001B[49m\u001B[43m,\u001B[49m\u001B[43m \u001B[49m\u001B[43mdtype\u001B[49m\u001B[38;5;241;43m=\u001B[39;49m\u001B[43mdtype\u001B[49m\u001B[43m,\u001B[49m\u001B[43m \u001B[49m\u001B[43mtyp\u001B[49m\u001B[38;5;241;43m=\u001B[39;49m\u001B[43mtyp\u001B[49m\u001B[43m,\u001B[49m\u001B[43m \u001B[49m\u001B[43mconsolidate\u001B[49m\u001B[38;5;241;43m=\u001B[39;49m\u001B[43mcopy\u001B[49m\u001B[43m)\u001B[49m\n",
      "File \u001B[0;32m~/miniconda3/envs/stats/lib/python3.10/site-packages/pandas/core/internals/construction.py:115\u001B[0m, in \u001B[0;36marrays_to_mgr\u001B[0;34m(arrays, columns, index, dtype, verify_integrity, typ, consolidate)\u001B[0m\n\u001B[1;32m    112\u001B[0m \u001B[38;5;28;01mif\u001B[39;00m verify_integrity:\n\u001B[1;32m    113\u001B[0m     \u001B[38;5;66;03m# figure out the index, if necessary\u001B[39;00m\n\u001B[1;32m    114\u001B[0m     \u001B[38;5;28;01mif\u001B[39;00m index \u001B[38;5;129;01mis\u001B[39;00m \u001B[38;5;28;01mNone\u001B[39;00m:\n\u001B[0;32m--> 115\u001B[0m         index \u001B[38;5;241m=\u001B[39m \u001B[43m_extract_index\u001B[49m\u001B[43m(\u001B[49m\u001B[43marrays\u001B[49m\u001B[43m)\u001B[49m\n\u001B[1;32m    116\u001B[0m     \u001B[38;5;28;01melse\u001B[39;00m:\n\u001B[1;32m    117\u001B[0m         index \u001B[38;5;241m=\u001B[39m ensure_index(index)\n",
      "File \u001B[0;32m~/miniconda3/envs/stats/lib/python3.10/site-packages/pandas/core/internals/construction.py:655\u001B[0m, in \u001B[0;36m_extract_index\u001B[0;34m(data)\u001B[0m\n\u001B[1;32m    653\u001B[0m lengths \u001B[38;5;241m=\u001B[39m \u001B[38;5;28mlist\u001B[39m(\u001B[38;5;28mset\u001B[39m(raw_lengths))\n\u001B[1;32m    654\u001B[0m \u001B[38;5;28;01mif\u001B[39;00m \u001B[38;5;28mlen\u001B[39m(lengths) \u001B[38;5;241m>\u001B[39m \u001B[38;5;241m1\u001B[39m:\n\u001B[0;32m--> 655\u001B[0m     \u001B[38;5;28;01mraise\u001B[39;00m \u001B[38;5;167;01mValueError\u001B[39;00m(\u001B[38;5;124m\"\u001B[39m\u001B[38;5;124mAll arrays must be of the same length\u001B[39m\u001B[38;5;124m\"\u001B[39m)\n\u001B[1;32m    657\u001B[0m \u001B[38;5;28;01mif\u001B[39;00m have_dicts:\n\u001B[1;32m    658\u001B[0m     \u001B[38;5;28;01mraise\u001B[39;00m \u001B[38;5;167;01mValueError\u001B[39;00m(\n\u001B[1;32m    659\u001B[0m         \u001B[38;5;124m\"\u001B[39m\u001B[38;5;124mMixing dicts with non-Series may lead to ambiguous ordering.\u001B[39m\u001B[38;5;124m\"\u001B[39m\n\u001B[1;32m    660\u001B[0m     )\n",
      "\u001B[0;31mValueError\u001B[0m: All arrays must be of the same length"
     ]
    }
   ],
   "source": [
    "df = pd.DataFrame({'asn': asn_hashes, 'uniq_asn': uniq_asn_hashes, 'n_hops_prob': n_hops_model.probs[2:], 'dest_reach_prob': reached.success_probs[1:], 'path_complete_prob': path_complete.success_probs[1:], 'final':final, 'timestamp': timestamps})"
   ]
  },
  {
   "cell_type": "code",
   "execution_count": null,
   "id": "60a64af6-6469-4dce-b55f-73ef926cadee",
   "metadata": {
    "editable": true,
    "slideshow": {
     "slide_type": ""
    },
    "tags": [],
    "ExecuteTime": {
     "end_time": "2023-08-27T13:24:12.762593204Z",
     "start_time": "2023-08-27T13:24:12.753445433Z"
    }
   },
   "outputs": [],
   "source": [
    "df['asn'] = df['asn'].astype('category')\n",
    "df['uniq_asn'] = df['uniq_asn'].astype('category')\n",
    "# df.set_index('timestamp', inplace=True)"
   ]
  },
  {
   "cell_type": "code",
   "execution_count": null,
   "id": "b69ab9a0-787c-45cc-8cda-f6f97326d28b",
   "metadata": {
    "editable": true,
    "slideshow": {
     "slide_type": ""
    },
    "tags": [],
    "ExecuteTime": {
     "start_time": "2023-08-27T13:24:12.756463271Z"
    }
   },
   "outputs": [],
   "source": []
  },
  {
   "cell_type": "code",
   "execution_count": null,
   "id": "64f26bda54e3b4a4",
   "metadata": {
    "collapsed": false,
    "editable": true,
    "slideshow": {
     "slide_type": ""
    },
    "tags": [],
    "ExecuteTime": {
     "start_time": "2023-08-27T13:24:12.759664009Z"
    }
   },
   "outputs": [],
   "source": [
    "# df.plot(backend='matplotlib', y=['n_hops_prob', 'dest_reach_prob', 'path_complete_prob'], x='timestamp', kind='scatter', color='asn')\n",
    "fig = plt.figure(figsize=(20,5))\n",
    "ax = plt.gca()\n",
    "df.plot(backend='matplotlib', y= 'dest_reach_prob', x='timestamp', kind='scatter', c='uniq_asn', cmap='tab20_r', ax=ax)"
   ]
  },
  {
   "cell_type": "code",
   "execution_count": null,
   "id": "ec81bd62-317e-413d-83b7-5e1585f6c10d",
   "metadata": {
    "collapsed": false,
    "editable": true,
    "slideshow": {
     "slide_type": ""
    },
    "tags": [],
    "ExecuteTime": {
     "start_time": "2023-08-27T13:24:12.762322739Z"
    }
   },
   "outputs": [],
   "source": [
    "# df.plot(backend='matplotlib', y=['n_hops_prob', 'dest_reach_prob', 'path_complete_prob'], x='timestamp', kind='scatter', color='asn')\n",
    "fig = plt.figure(figsize=(20,5))\n",
    "ax = plt.gca()\n",
    "df.plot(backend='matplotlib', y= 'final', x='timestamp', kind='scatter', c='uniq_asn', cmap='tab20_r', ax=ax)"
   ]
  },
  {
   "cell_type": "code",
   "execution_count": null,
   "id": "8df55b40-337c-4b14-901d-d9c989809a92",
   "metadata": {
    "collapsed": false,
    "editable": true,
    "slideshow": {
     "slide_type": ""
    },
    "tags": [],
    "ExecuteTime": {
     "start_time": "2023-08-27T13:24:12.805738893Z"
    }
   },
   "outputs": [],
   "source": [
    "# df.plot(backend='matplotlib', y=['n_hops_prob', 'dest_reach_prob', 'path_complete_prob'], x='timestamp', kind='scatter', color='asn')\n",
    "fig = plt.figure(figsize=(20,5))\n",
    "ax = plt.gca()\n",
    "df.plot(backend='matplotlib', y= 'path_complete_prob', x='timestamp', kind='scatter', c='uniq_asn', cmap='tab20_r', ax=ax)"
   ]
  },
  {
   "cell_type": "code",
   "execution_count": null,
   "id": "01b7d43b-0753-4a34-ba5a-33999735e722",
   "metadata": {
    "collapsed": false,
    "editable": true,
    "slideshow": {
     "slide_type": ""
    },
    "tags": [],
    "ExecuteTime": {
     "start_time": "2023-08-27T13:24:12.805888982Z"
    }
   },
   "outputs": [],
   "source": [
    "# df.plot(backend='matplotlib', y=['n_hops_prob', 'dest_reach_prob', 'path_complete_prob'], x='timestamp', kind='scatter', color='asn')\n",
    "fig = plt.figure(figsize=(20,5))\n",
    "ax = plt.gca()\n",
    "df.plot(backend='matplotlib', y= 'final', x='n_hops_prob', kind='scatter', c='uniq_asn', cmap='tab20_r', ax=ax)"
   ]
  },
  {
   "cell_type": "code",
   "execution_count": null,
   "id": "98927c8f-895d-49dc-8e74-6d7dd543fc62",
   "metadata": {
    "editable": true,
    "slideshow": {
     "slide_type": ""
    },
    "tags": [],
    "ExecuteTime": {
     "start_time": "2023-08-27T13:24:12.805981795Z"
    }
   },
   "outputs": [],
   "source": [
    "from traced_v2.models.multinomial import MultinomialModel"
   ]
  },
  {
   "cell_type": "code",
   "execution_count": null,
   "id": "e904460c-b91b-41fc-aa9c-7c4a18fb9d65",
   "metadata": {
    "editable": true,
    "slideshow": {
     "slide_type": ""
    },
    "tags": [],
    "ExecuteTime": {
     "start_time": "2023-08-27T13:24:12.806061217Z"
    }
   },
   "outputs": [],
   "source": []
  },
  {
   "cell_type": "code",
   "execution_count": null,
   "id": "22b31a5e-a9c1-48f8-a3bf-834ea9bb79df",
   "metadata": {
    "editable": true,
    "slideshow": {
     "slide_type": ""
    },
    "tags": [],
    "ExecuteTime": {
     "end_time": "2023-08-27T13:24:12.971943121Z",
     "start_time": "2023-08-27T13:24:12.806135863Z"
    }
   },
   "outputs": [],
   "source": [
    "mm = MultinomialModel(\"src\", \"dest\")\n"
   ]
  },
  {
   "cell_type": "code",
   "execution_count": null,
   "id": "ebe13b76-c3eb-401f-a946-bd2332cafa2a",
   "metadata": {
    "editable": true,
    "slideshow": {
     "slide_type": ""
    },
    "tags": [],
    "ExecuteTime": {
     "start_time": "2023-08-27T13:24:12.806226324Z"
    }
   },
   "outputs": [],
   "source": [
    "df"
   ]
  },
  {
   "cell_type": "code",
   "execution_count": null,
   "id": "ea3447eb-edf9-4bf4-87f0-37ce2f56c25f",
   "metadata": {
    "editable": true,
    "slideshow": {
     "slide_type": ""
    },
    "tags": [],
    "ExecuteTime": {
     "start_time": "2023-08-27T13:24:12.806397631Z"
    }
   },
   "outputs": [],
   "source": [
    "\n",
    "mm = MultinomialModel(\"src\", \"dest\")\n",
    "\n",
    "for i, x in df.set_index('timestamp')['uniq_asn'].items():\n",
    "    mm.log(i.timestamp()*1000, x)    "
   ]
  },
  {
   "cell_type": "code",
   "execution_count": null,
   "id": "2dd8d80b-dc1a-4d92-9271-8fa60a2a02fb",
   "metadata": {
    "editable": true,
    "slideshow": {
     "slide_type": ""
    },
    "tags": [],
    "ExecuteTime": {
     "start_time": "2023-08-27T13:24:12.806476665Z"
    }
   },
   "outputs": [],
   "source": [
    "mm.category_probs"
   ]
  },
  {
   "cell_type": "code",
   "execution_count": null,
   "id": "8e8cff51-79d3-4181-85d6-d1fd1bbdd7e2",
   "metadata": {
    "editable": true,
    "slideshow": {
     "slide_type": ""
    },
    "tags": [],
    "ExecuteTime": {
     "start_time": "2023-08-27T13:24:12.806567162Z"
    }
   },
   "outputs": [],
   "source": [
    "df['uniq_asn_prob'] = df['uniq_asn'].apply(mm.category_probs.__getitem__)"
   ]
  },
  {
   "cell_type": "code",
   "execution_count": null,
   "id": "b456fbab-1c1e-423a-b338-313f47d0996e",
   "metadata": {
    "editable": true,
    "slideshow": {
     "slide_type": ""
    },
    "tags": [],
    "ExecuteTime": {
     "start_time": "2023-08-27T13:24:12.806641178Z"
    }
   },
   "outputs": [],
   "source": [
    "df['uniq_asn_prob']"
   ]
  },
  {
   "cell_type": "code",
   "execution_count": null,
   "id": "0123ef7c-561e-46bc-88b7-38e67e09ed85",
   "metadata": {
    "editable": true,
    "slideshow": {
     "slide_type": ""
    },
    "tags": [],
    "ExecuteTime": {
     "start_time": "2023-08-27T13:24:12.806714902Z"
    }
   },
   "outputs": [],
   "source": [
    "\n",
    "mm = MultinomialModel(\"src\", \"dest\")\n",
    "\n",
    "for i, x in df.set_index('timestamp')['asn'].items():\n",
    "    mm.log(i.timestamp()*1000, x)    "
   ]
  },
  {
   "cell_type": "code",
   "execution_count": null,
   "id": "9745eaea-ddb2-4871-9c4b-acd26580b41f",
   "metadata": {
    "editable": true,
    "slideshow": {
     "slide_type": ""
    },
    "tags": [],
    "ExecuteTime": {
     "start_time": "2023-08-27T13:24:12.806787776Z"
    }
   },
   "outputs": [],
   "source": [
    "df['asn_prob'] = df['asn'].apply(mm.category_probs.__getitem__)"
   ]
  },
  {
   "cell_type": "code",
   "execution_count": null,
   "id": "05cd666e-8e50-4a25-a0e2-2ddbb8644419",
   "metadata": {
    "editable": true,
    "slideshow": {
     "slide_type": ""
    },
    "tags": [],
    "ExecuteTime": {
     "start_time": "2023-08-27T13:24:12.806934226Z"
    }
   },
   "outputs": [],
   "source": [
    "df['asn_prob']"
   ]
  },
  {
   "cell_type": "code",
   "execution_count": null,
   "id": "16329ae0-f58b-4baa-85c3-305e9f983541",
   "metadata": {
    "editable": true,
    "slideshow": {
     "slide_type": ""
    },
    "tags": [],
    "ExecuteTime": {
     "start_time": "2023-08-27T13:24:12.807023610Z"
    }
   },
   "outputs": [],
   "source": []
  },
  {
   "cell_type": "code",
   "execution_count": null,
   "id": "9922c17d-fbcb-4b47-b289-5b8019ba56c0",
   "metadata": {
    "editable": true,
    "slideshow": {
     "slide_type": ""
    },
    "tags": [],
    "ExecuteTime": {
     "start_time": "2023-08-27T13:24:12.807092532Z"
    }
   },
   "outputs": [],
   "source": [
    "for i, x in df.sort_values(by='asn_prob', ascending=False).groupby('asn'):\n",
    "    if x.shape[0] < 3:\n",
    "        continue\n",
    "    print(i, f\"{mm.category_probs[i]*100: .3f}%\")\n",
    "    display(x.select_dtypes(include=[int, float]).corr(method='pearson'))\n",
    "    fig = plt.figure()\n",
    "    x.plot(ax=plt.gca(), kind='scatter', x='timestamp', y='n_hops_prob', label='n_hops_prob', c='r')\n",
    "    x.plot(ax=plt.gca(), kind='scatter', x='timestamp', y='dest_reach_prob', label='dest_reach_prob', c='g')\n",
    "    x.plot(ax=plt.gca(), kind='scatter', x='timestamp', y='path_complete_prob', label='path_complete_prob', c='b')\n",
    "    plt.show()"
   ]
  },
  {
   "cell_type": "code",
   "execution_count": null,
   "id": "cab63962-04af-4a0f-a4a7-68cedc5f8d3e",
   "metadata": {
    "editable": true,
    "slideshow": {
     "slide_type": ""
    },
    "tags": [],
    "ExecuteTime": {
     "start_time": "2023-08-27T13:24:12.807163301Z"
    }
   },
   "outputs": [],
   "source": [
    "df.select_dtypes(exclude=['object'], include=[float]).corr(method='pearson')"
   ]
  },
  {
   "cell_type": "code",
   "execution_count": null,
   "id": "fdb5e08e242a464d",
   "metadata": {
    "collapsed": false,
    "editable": true,
    "slideshow": {
     "slide_type": ""
    },
    "tags": [],
    "ExecuteTime": {
     "start_time": "2023-08-27T13:24:12.807234974Z"
    }
   },
   "outputs": [],
   "source": [
    "plt.plot(final)"
   ]
  },
  {
   "cell_type": "code",
   "execution_count": null,
   "id": "812fc34b1a58f67c",
   "metadata": {
    "collapsed": false,
    "ExecuteTime": {
     "start_time": "2023-08-27T13:24:12.853730186Z"
    }
   },
   "outputs": [],
   "source": [
    "final.shape[0]"
   ]
  },
  {
   "cell_type": "code",
   "execution_count": null,
   "id": "d2237b5a33062cee",
   "metadata": {
    "collapsed": false,
    "ExecuteTime": {
     "start_time": "2023-08-27T13:24:12.853881266Z"
    }
   },
   "outputs": [],
   "source": [
    "from traced_v2.models.normal import NormalModel"
   ]
  },
  {
   "cell_type": "code",
   "execution_count": null,
   "id": "e4649621819814b5",
   "metadata": {
    "collapsed": false,
    "ExecuteTime": {
     "start_time": "2023-08-27T13:24:12.853957524Z"
    }
   },
   "outputs": [],
   "source": [
    "model = NormalModel(\"src\", \"dest\", one_sided=True, sigma_0=1.5, mu_0=0, sigma_factor=4, gamma=0.5)"
   ]
  },
  {
   "cell_type": "code",
   "execution_count": null,
   "id": "b765ed472e257a84",
   "metadata": {
    "collapsed": false,
    "ExecuteTime": {
     "start_time": "2023-08-27T13:24:12.854029058Z"
    }
   },
   "outputs": [],
   "source": [
    "for i, val in enumerate(final):\n",
    "    model.log(i, val)"
   ]
  },
  {
   "cell_type": "code",
   "execution_count": null,
   "id": "21144ac40ad46fb6",
   "metadata": {
    "collapsed": false,
    "ExecuteTime": {
     "start_time": "2023-08-27T13:24:12.854097028Z"
    }
   },
   "outputs": [],
   "source": [
    "fig = plt.figure(figsize=(20, 10))\n",
    "model.plot()"
   ]
  },
  {
   "cell_type": "code",
   "execution_count": null,
   "id": "4878b314dac78e2",
   "metadata": {
    "collapsed": false,
    "ExecuteTime": {
     "start_time": "2023-08-27T13:24:12.854169217Z"
    }
   },
   "outputs": [],
   "source": []
  },
  {
   "cell_type": "code",
   "execution_count": null,
   "id": "7b617b4a29f393e9",
   "metadata": {
    "collapsed": false,
    "editable": true,
    "slideshow": {
     "slide_type": ""
    },
    "tags": [],
    "ExecuteTime": {
     "start_time": "2023-08-27T13:24:12.854347879Z"
    }
   },
   "outputs": [],
   "source": [
    "final = list(map(np.log1p, map(np.mean, final)))"
   ]
  },
  {
   "cell_type": "code",
   "execution_count": null,
   "id": "45d059f8f7bbf228",
   "metadata": {
    "collapsed": false,
    "ExecuteTime": {
     "start_time": "2023-08-27T13:24:12.854433957Z"
    }
   },
   "outputs": [],
   "source": [
    "from scipy.stats import hmean"
   ]
  },
  {
   "cell_type": "code",
   "execution_count": null,
   "id": "4ba1f283430386a",
   "metadata": {
    "collapsed": false,
    "ExecuteTime": {
     "start_time": "2023-08-27T13:24:12.854507506Z"
    }
   },
   "outputs": [],
   "source": [
    "final"
   ]
  },
  {
   "cell_type": "code",
   "execution_count": null,
   "id": "d075127b060890f",
   "metadata": {
    "collapsed": false,
    "ExecuteTime": {
     "start_time": "2023-08-27T13:24:12.854574574Z"
    }
   },
   "outputs": [],
   "source": [
    "y= np.array(np.log1p(list(map(prod, ip_probs))))\n"
   ]
  },
  {
   "cell_type": "code",
   "execution_count": null,
   "id": "b8db1f4e6436ba4b",
   "metadata": {
    "collapsed": false,
    "ExecuteTime": {
     "start_time": "2023-08-27T13:24:12.854642617Z"
    }
   },
   "outputs": [],
   "source": [
    "x = np.array(np.log1p(list(map(prod, asn_probs))))"
   ]
  },
  {
   "cell_type": "code",
   "execution_count": null,
   "id": "da2b6c114b5983ba",
   "metadata": {
    "collapsed": false,
    "ExecuteTime": {
     "start_time": "2023-08-27T13:24:12.854694194Z"
    }
   },
   "outputs": [],
   "source": []
  },
  {
   "cell_type": "code",
   "execution_count": null,
   "id": "c77c5ce764f7d4ea",
   "metadata": {
    "collapsed": false,
    "ExecuteTime": {
     "start_time": "2023-08-27T13:24:12.854746718Z"
    }
   },
   "outputs": [],
   "source": [
    "import pandas as pd"
   ]
  },
  {
   "cell_type": "code",
   "execution_count": null,
   "id": "d5fdaa69ee7cbd6f",
   "metadata": {
    "collapsed": false,
    "ExecuteTime": {
     "start_time": "2023-08-27T13:24:12.854795899Z"
    }
   },
   "outputs": [],
   "source": [
    "tmp = pd.DataFrame(\n",
    "    {'asn_prob': x, 'ip_prob': y, 'asn_hash': asn_hashes,  'length': n_hops, 'timestamp': timestamps, 'unique_asns': uniq_asn_hashes, 'final': final})\n"
   ]
  },
  {
   "cell_type": "code",
   "execution_count": null,
   "id": "7854ebce6041e14a",
   "metadata": {
    "collapsed": false,
    "ExecuteTime": {
     "start_time": "2023-08-27T13:24:12.854844964Z"
    }
   },
   "outputs": [],
   "source": [
    "tmp['asn_color'] = tmp['asn_hash'].astype('category')#.cat.codes"
   ]
  },
  {
   "cell_type": "code",
   "execution_count": null,
   "id": "c7d13c8e5502770",
   "metadata": {
    "collapsed": false,
    "ExecuteTime": {
     "start_time": "2023-08-27T13:24:12.854900151Z"
    }
   },
   "outputs": [],
   "source": [
    "tmp['unique_asns'] = tmp['unique_asns'].astype('category')#.cat.codes"
   ]
  },
  {
   "cell_type": "code",
   "execution_count": null,
   "id": "6d7cd25b98c1cb4d",
   "metadata": {
    "collapsed": false,
    "ExecuteTime": {
     "start_time": "2023-08-27T13:24:12.855015165Z"
    }
   },
   "outputs": [],
   "source": [
    "tmp['unique_asns_cat'] = tmp['unique_asns'].astype('category').cat.codes\n"
   ]
  },
  {
   "cell_type": "code",
   "execution_count": null,
   "id": "3656fbc586cc5888",
   "metadata": {
    "collapsed": false,
    "ExecuteTime": {
     "start_time": "2023-08-27T13:24:12.855071241Z"
    }
   },
   "outputs": [],
   "source": [
    "import seaborn as sns\n",
    "sns.set_style(\"whitegrid\")"
   ]
  },
  {
   "cell_type": "code",
   "execution_count": null,
   "id": "d1555447c003685f",
   "metadata": {
    "collapsed": false,
    "ExecuteTime": {
     "start_time": "2023-08-27T13:24:12.855122618Z"
    }
   },
   "outputs": [],
   "source": [
    "import plotly.graph_objects as go"
   ]
  },
  {
   "cell_type": "code",
   "execution_count": null,
   "id": "bdb07fe81a0016c",
   "metadata": {
    "collapsed": false,
    "ExecuteTime": {
     "start_time": "2023-08-27T13:24:12.855177491Z"
    }
   },
   "outputs": [],
   "source": [
    "from traced_v2.models.normal import NormalModel"
   ]
  },
  {
   "cell_type": "code",
   "execution_count": null,
   "id": "1da3e49315599d61",
   "metadata": {
    "collapsed": false,
    "ExecuteTime": {
     "start_time": "2023-08-27T13:24:12.855227436Z"
    }
   },
   "outputs": [],
   "source": [
    "model = NormalModel(\"src\", \"dest\", one_sided=False, sigma_0=0.001, mu_0=0.2, sigma_factor=3, beta_0=0.05)"
   ]
  },
  {
   "cell_type": "code",
   "execution_count": null,
   "id": "b5feab2ca60e40fc",
   "metadata": {
    "collapsed": false,
    "ExecuteTime": {
     "start_time": "2023-08-27T13:24:12.855277125Z"
    }
   },
   "outputs": [],
   "source": [
    "for i, row in tmp.set_index('timestamp')['final'].items():\n",
    "    model.log(i.timestamp()*1000, row)"
   ]
  },
  {
   "cell_type": "code",
   "execution_count": null,
   "id": "e75081880aab69b0",
   "metadata": {
    "collapsed": false,
    "ExecuteTime": {
     "start_time": "2023-08-27T13:24:12.855325805Z"
    }
   },
   "outputs": [],
   "source": [
    "model.plot()"
   ]
  },
  {
   "cell_type": "code",
   "execution_count": null,
   "id": "6f28d163c5797ea",
   "metadata": {
    "collapsed": false,
    "ExecuteTime": {
     "start_time": "2023-08-27T13:24:12.855388801Z"
    }
   },
   "outputs": [],
   "source": [
    "tmp['asn_prob_log'] = np.log1p(tmp['asn_prob'])"
   ]
  },
  {
   "cell_type": "code",
   "execution_count": null,
   "id": "d10347f2d0a9f3a7",
   "metadata": {
    "collapsed": false,
    "ExecuteTime": {
     "start_time": "2023-08-27T13:24:12.855704661Z"
    }
   },
   "outputs": [],
   "source": [
    "tmp.plot(backend='plotly', y='asn_prob_log', x='timestamp', kind='scatter', color='asn_hash')"
   ]
  },
  {
   "cell_type": "code",
   "execution_count": null,
   "id": "ca8f685b3bbacc03",
   "metadata": {
    "collapsed": false,
    "ExecuteTime": {
     "start_time": "2023-08-27T13:24:12.857364738Z"
    }
   },
   "outputs": [],
   "source": [
    "import importlib"
   ]
  },
  {
   "cell_type": "code",
   "execution_count": null,
   "id": "ba8359bd5cc5d950",
   "metadata": {
    "collapsed": false,
    "ExecuteTime": {
     "start_time": "2023-08-27T13:24:12.897716893Z"
    }
   },
   "outputs": [],
   "source": [
    "from traced.models import MultinomialModel\n"
   ]
  },
  {
   "cell_type": "code",
   "execution_count": null,
   "id": "d413691e669cfdee",
   "metadata": {
    "collapsed": false,
    "ExecuteTime": {
     "start_time": "2023-08-27T13:24:12.897852842Z"
    }
   },
   "outputs": [],
   "source": [
    "import traced"
   ]
  },
  {
   "cell_type": "code",
   "execution_count": null,
   "id": "ba7a8ee3a060c2b5",
   "metadata": {
    "collapsed": false,
    "ExecuteTime": {
     "start_time": "2023-08-27T13:24:12.897930429Z"
    }
   },
   "outputs": [],
   "source": [
    "traced.models = importlib.reload(traced.models)"
   ]
  },
  {
   "cell_type": "code",
   "execution_count": null,
   "id": "cf9d6ea3116ac85a",
   "metadata": {
    "collapsed": false,
    "ExecuteTime": {
     "start_time": "2023-08-27T13:24:12.897994353Z"
    }
   },
   "outputs": [],
   "source": [
    "traced.models.multinomial_model = importlib.reload(traced.models.multinomial_model)"
   ]
  },
  {
   "cell_type": "code",
   "execution_count": null,
   "id": "74a28885342abc40",
   "metadata": {
    "collapsed": false,
    "ExecuteTime": {
     "start_time": "2023-08-27T13:24:12.898049593Z"
    }
   },
   "outputs": [],
   "source": [
    "from traced.models.multinomial_model import MultinomialModel"
   ]
  },
  {
   "cell_type": "code",
   "execution_count": null,
   "id": "3503019ce1a94193",
   "metadata": {
    "collapsed": false,
    "editable": true,
    "slideshow": {
     "slide_type": ""
    },
    "tags": [],
    "ExecuteTime": {
     "start_time": "2023-08-27T13:24:12.898111191Z"
    }
   },
   "outputs": [],
   "source": [
    "mm = MultinomialModel(\"src\", \"dest\")"
   ]
  },
  {
   "cell_type": "code",
   "execution_count": null,
   "id": "e8eeee3031bfdb1f",
   "metadata": {
    "collapsed": false,
    "ExecuteTime": {
     "start_time": "2023-08-27T13:24:12.898150207Z"
    }
   },
   "outputs": [],
   "source": [
    "probs=[]\n",
    "for i, x in tmp.set_index('timestamp')['asn_hash'].items():\n",
    "   _,_, p =  mm.log(i, x)\n",
    "   probs.append(p)"
   ]
  },
  {
   "cell_type": "code",
   "execution_count": null,
   "id": "e25bb3f94c5f3401",
   "metadata": {
    "collapsed": false,
    "ExecuteTime": {
     "start_time": "2023-08-27T13:24:12.898189703Z"
    }
   },
   "outputs": [],
   "source": [
    "tmp['asn_observed_prob'] = -np.log1p((probs))"
   ]
  },
  {
   "cell_type": "code",
   "execution_count": null,
   "id": "bcfaea32b2884090",
   "metadata": {
    "collapsed": false,
    "ExecuteTime": {
     "start_time": "2023-08-27T13:24:12.898226471Z"
    }
   },
   "outputs": [],
   "source": [
    "plt.plot(tmp['asn_observed_prob'])"
   ]
  },
  {
   "cell_type": "code",
   "execution_count": null,
   "id": "36aac1479d66120d",
   "metadata": {
    "collapsed": false,
    "ExecuteTime": {
     "start_time": "2023-08-27T13:24:12.898263768Z"
    }
   },
   "outputs": [],
   "source": [
    "tmp['prob_asn_prob'] = tmp.apply(lambda x: np.log1p(-x['asn_prob'] * x['asn_observed_prob'] ), axis=1)#.plot(kind='scatter')"
   ]
  },
  {
   "cell_type": "code",
   "execution_count": null,
   "id": "3af8fb32822eb1b0",
   "metadata": {
    "collapsed": false,
    "ExecuteTime": {
     "start_time": "2023-08-27T13:24:12.898301003Z"
    }
   },
   "outputs": [],
   "source": [
    "tmp.plot(backend='plotly', y='prob_asn_prob', x='timestamp', kind='scatter', color='asn_hash')"
   ]
  },
  {
   "cell_type": "code",
   "execution_count": null,
   "id": "952b807eef6d522d",
   "metadata": {
    "collapsed": false,
    "ExecuteTime": {
     "start_time": "2023-08-27T13:24:12.898353467Z"
    }
   },
   "outputs": [],
   "source": [
    "nn = NormalModel(\"src\", \"dest\", one_sided=True, sigma_0=1, mu_0=-0.2, sigma_factor=3, beta_0=.01, alpha_0=1)"
   ]
  },
  {
   "cell_type": "code",
   "execution_count": null,
   "id": "1982b7a59be7b3f2",
   "metadata": {
    "collapsed": false,
    "ExecuteTime": {
     "start_time": "2023-08-27T13:24:12.898391884Z"
    }
   },
   "outputs": [],
   "source": [
    "for i, x in tmp.set_index('timestamp')['prob_asn_prob'].items():\n",
    "    nn.log(i.timestamp()*1000, x)"
   ]
  },
  {
   "cell_type": "code",
   "execution_count": null,
   "id": "ef3c3f2401ab6750",
   "metadata": {
    "collapsed": false,
    "ExecuteTime": {
     "start_time": "2023-08-27T13:24:12.898454138Z"
    }
   },
   "outputs": [],
   "source": [
    "nn.plot()"
   ]
  },
  {
   "cell_type": "code",
   "execution_count": null,
   "id": "f4e6a8def6936eb0",
   "metadata": {
    "collapsed": false,
    "ExecuteTime": {
     "start_time": "2023-08-27T13:24:12.898499004Z"
    }
   },
   "outputs": [],
   "source": []
  }
 ],
 "metadata": {
  "kernelspec": {
   "display_name": "Python 3 (ipykernel)",
   "language": "python",
   "name": "python3"
  },
  "language_info": {
   "codemirror_mode": {
    "name": "ipython",
    "version": 3
   },
   "file_extension": ".py",
   "mimetype": "text/x-python",
   "name": "python",
   "nbconvert_exporter": "python",
   "pygments_lexer": "ipython3",
   "version": "3.10.12"
  }
 },
 "nbformat": 4,
 "nbformat_minor": 5
}
